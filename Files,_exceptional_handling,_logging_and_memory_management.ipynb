{
  "nbformat": 4,
  "nbformat_minor": 0,
  "metadata": {
    "colab": {
      "provenance": []
    },
    "kernelspec": {
      "name": "python3",
      "display_name": "Python 3"
    },
    "language_info": {
      "name": "python"
    }
  },
  "cells": [
    {
      "cell_type": "markdown",
      "source": [
        "#**Files, exceptional handling,logging and memory management Assignment Question.**"
      ],
      "metadata": {
        "id": "2dbIHv--oOMt"
      }
    },
    {
      "cell_type": "markdown",
      "source": [
        "# Q.1 What is the difference between interpreted and compiled languages ?"
      ],
      "metadata": {
        "id": "s9gxTtwVo6sK"
      }
    },
    {
      "cell_type": "markdown",
      "source": [
        "ANS : The core difference between interpreted and compiled languages lies in when and how the source code is translated into machine-readable instructions.\n",
        "\n",
        "Compiled Languages:\n",
        "\n",
        "Translation: The entire source code is translated into machine code (or an intermediate bytecode) before the program is executed. This is done by a program called a compiler.\n",
        "Execution: The resulting machine code (or bytecode) is then executed directly by the computer's CPU or a virtual machine.\n",
        "Speed: Generally faster execution because the translation happens only once, and the CPU directly executes the optimized machine code.\n",
        "Portability: The compiled code is often platform-specific. Recompilation is usually needed for different operating systems or hardware.\n",
        "Development: Can have a longer development cycle because you need to compile the code after each change to test it.\n",
        "Error Detection: Compilers often catch syntax and some logical errors before execution.\n",
        "Examples: C, C++, C#, Go, Rust. (Java and C# are often considered hybrid as they compile to bytecode executed by a virtual machine).\n",
        "Interpreted Languages:\n",
        "\n",
        "Translation: The source code is translated into machine code line by line at runtime. This is done by a program called an interpreter.\n",
        "Execution: Each line of code is read, translated, and executed immediately by the interpreter.\n",
        "Speed: Generally slower execution due to the overhead of translating each line every time it's executed.\n",
        "Portability: Often more platform-independent. As long as an interpreter exists for a system, the same source code can usually run.\n",
        "Development: Often have a faster development cycle because you can run the code immediately after making changes without a separate compilation step.\n",
        "Error Detection: Errors are typically detected at runtime. The program stops when an error is encountered.\n",
        "Examples: Python, JavaScript, Ruby, PHP.\n"
      ],
      "metadata": {
        "id": "g9oYWkSuqkf8"
      }
    },
    {
      "cell_type": "markdown",
      "source": [
        "#Q 2 What is exception handling in Python?\n"
      ],
      "metadata": {
        "id": "KuphBWSJrRRg"
      }
    },
    {
      "cell_type": "markdown",
      "source": [
        "ANS : In Python, exception handling is a mechanism to gracefully manage errors that occur during the execution of a program. Instead of the program crashing abruptly when an error (an \"exception\") arises, exception handling allows you to anticipate these potential problems, catch them, and decide what actions to take. This makes your programs more robust and user-friendly.\n",
        "\n",
        "Think of it like having a safety net. When something unexpected happens during the execution of your code, instead of falling and crashing, the exception handling mechanism catches you, and you can then decide how to deal with the situation.\n",
        "\n",
        "Here's why exception handling is important and how it works in Python:\n",
        "\n",
        "Why Use Exception Handling?\n",
        "\n",
        "Prevent Program Termination: It stops your program from crashing when an error occurs, allowing it to continue executing or terminate more gracefully.\n",
        "Handle Errors Gracefully: You can provide informative error messages to the user or log the error for debugging purposes instead of showing raw traceback information.\n",
        "Resource Management: It allows you to ensure that resources (like files or network connections) are properly closed or released, even if an error occurs.\n",
        "Robustness: It makes your code more resilient to unexpected inputs or conditions.\n",
        "How Exception Handling Works in Python:\n",
        "\n",
        "Python uses try, except, else, and finally blocks to handle exceptions:\n",
        "\n",
        "try block: This is where you put the code that might potentially raise an exception. Python will execute the code within the try block.\n",
        "\n",
        " except block: If an exception occurs within the try block, Python will immediately stop executing the try block and look for a matching except block. You specify the type of exception you want to catch after the except keyword (e.g., ValueError, TypeError, FileNotFoundError).\n",
        "\n",
        "You can have multiple except blocks to handle different types of exceptions.\n",
        "If no matching except block is found for the raised exception, the exception propagates up the call stack, and if not handled elsewhere, the program will terminate with an error message (the traceback).\n",
        "You can also have a generic except block (just except:) to catch any type of exception, but this is generally discouraged as it can hide errors and make debugging difficult.\n",
        "else block (optional): The code within the else block is executed only if the try block completes without raising any exceptions. This is useful for code that should run only when no errors occur in the try block.\n",
        "\n",
        " finally block (optional): The code within the finally block is always executed, regardless of whether an exception was raised in the try block or not, and regardless of whether the exception was caught. This is typically used for cleanup operations, such as closing files or releasing resources.\n",
        "\n",
        "Example :\n",
        "\n"
      ],
      "metadata": {
        "id": "aNiimuV2rmMt"
      }
    },
    {
      "cell_type": "code",
      "execution_count": 3,
      "metadata": {
        "colab": {
          "base_uri": "https://localhost:8080/",
          "height": 106
        },
        "id": "2O367I04nXvx",
        "outputId": "8523ef22-9e92-4627-cf99-6e005a1695b2"
      },
      "outputs": [
        {
          "output_type": "error",
          "ename": "SyntaxError",
          "evalue": "invalid syntax (<ipython-input-3-00b1696d9a2e>, line 15)",
          "traceback": [
            "\u001b[0;36m  File \u001b[0;32m\"<ipython-input-3-00b1696d9a2e>\"\u001b[0;36m, line \u001b[0;32m15\u001b[0m\n\u001b[0;31m    except ZeroDivisionError:\u001b[0m\n\u001b[0m    ^\u001b[0m\n\u001b[0;31mSyntaxError\u001b[0m\u001b[0;31m:\u001b[0m invalid syntax\n"
          ]
        }
      ],
      "source": [
        "\n",
        "try:\n",
        "    numerator = int(input(\"Enter the numerator: \"))\n",
        "    denominator = int(input(\"Enter the denominator: \"))\n",
        "    result = numerator / denominator\n",
        "except ValueError:\n",
        "    print(\"Error: Invalid input. Please enter integers only.\")\n",
        "except ZeroDivisionError:\n",
        "    print(\"Error: Cannot divide by zero.\")\n",
        "else:\n",
        "    print(f\"The result of the division is: {result}\")\n",
        "finally:\n",
        "try:\n",
        "    numerator = int(input(\"Enter the numerator: \"))\n",
        "    denominator = int(input(\"Enter the denominator: \"))\n",
        "    result = numerator / denominator\n",
        "except ValueError:\n",
        "    print(\"Error: Invalid input. Please enter integers only.\")\n",
        "except ZeroDivisionError:\n",
        "    print(\"Error: Cannot divide by zero.\")\n",
        "else:\n",
        "    print(f\"The result of the division is: {result}\")\n",
        "finally:\n",
        "    print(\"This block will always be executed.\")\n",
        "\n",
        "print(\"Program continues after exception handling.\")\n",
        "else:\n",
        "    print(f\"The result of the division is: {result}\")\n",
        "finally:\n",
        "    print(\"This block will always be executed.\")\n",
        "\n",
        "print(\"Program continues after exception handling.\")"
      ]
    },
    {
      "cell_type": "markdown",
      "source": [
        "Explanation of the Example:\n",
        "\n",
        "The code that might cause errors (getting integer input and performing division) is placed inside the try block.\n",
        "If the user enters non-integer input, a ValueError will be raised, and the first except block will handle it, printing an error message.\n",
        "If the user enters 0 as the denominator, a ZeroDivisionError will be raised, and the second except block will handle it.\n",
        "If no exception occurs in the try block, the else block will be executed, printing the result.\n",
        "The finally block will always be executed, printing \"This block will always be executed,\" regardless of whether an exception occurred or not.\n",
        "The program will then continue to execute the line after the finally block.\n",
        "Raising Exceptions Manually:\n",
        "\n",
        "You can also explicitly raise exceptions in your code using the raise keyword. This is useful for signaling specific error conditions that your code detects.\n",
        "\n"
      ],
      "metadata": {
        "id": "oc1y8FD6skuM"
      }
    },
    {
      "cell_type": "code",
      "source": [
        "def process_age(age):\n",
        "    if age < 0:\n",
        "        raise ValueError(\"Age cannot be negative.\")\n",
        "    elif age > 150:\n",
        "        raise ValueError(\"Age seems too high.\")\n",
        "    else:\n",
        "        print(f\"Processing age: {age}\")\n",
        "\n",
        "try:\n",
        "    user_age = int(input(\"Enter your age: \"))\n",
        "    process_age(user_age)\n",
        "except ValueError as e:\n",
        "    print(f\"Error: {e}\")"
      ],
      "metadata": {
        "id": "LMUGZzBcpyia"
      },
      "execution_count": null,
      "outputs": []
    },
    {
      "cell_type": "markdown",
      "source": [
        "In this example, the process_age function raises a ValueError if the provided age is invalid. The try...except block then catches and handles this custom error. The as e part allows you to access the exception object itself, which often contains an error message.\n",
        "\n",
        "By using exception handling effectively, you can write more robust, reliable, and user-friendly Python programs that can gracefully recover from unexpected errors.\n"
      ],
      "metadata": {
        "id": "geJFKWLvtHxe"
      }
    },
    {
      "cell_type": "markdown",
      "source": [
        "# Q.3 What is the purpose of the finally block in exception handling ?\n"
      ],
      "metadata": {
        "id": "k_KAJ5UJtUDY"
      }
    },
    {
      "cell_type": "markdown",
      "source": [
        "ANS : The primary purpose of the finally block in Python's exception handling mechanism is to ensure that a specific block of code is always executed, regardless of whether an exception was raised in the try block or not, and regardless of whether that exception was caught or not.\n",
        "\n",
        "Think of it as the \"cleanup\" or \"guaranteed execution\" section of your try...except structure. The code within the finally block is designed to handle essential tasks that must be performed no matter what happens within the try block.\n",
        "\n",
        "Here are the key purposes and common use cases for the finally block:\n",
        "\n",
        "1. Resource Cleanup:\n",
        "\n",
        "Closing Files: If you open a file in the try block, you should ideally close it in the finally block to prevent resource leaks, even if an error occurs while reading or writing to the file.\n",
        "Releasing Locks: If your code acquires a lock (e.g., for thread synchronization), the finally block is the perfect place to ensure that the lock is released, preventing deadlocks.\n",
        "Closing Network Connections: Similarly, network connections established in the try block should be closed in the finally block.\n",
        "Releasing Database Connections: Database connections need to be closed to free up resources and maintain database integrity.\n",
        "\n",
        "Example (File Handling):"
      ],
      "metadata": {
        "id": "sCFeNi59tq_o"
      }
    },
    {
      "cell_type": "code",
      "source": [
        "file = None\n",
        "try:\n",
        "    file = open(\"my_file.txt\", \"r\")\n",
        "    content = file.read()\n",
        "    # Process the content\n",
        "    print(content)\n",
        "except FileNotFoundError:\n",
        "    print(\"Error: File not found.\")\n",
        "except Exception as e:\n",
        "    print(f\"An unexpected error occurred: {e}\")\n",
        "finally:\n",
        "    if file:\n",
        "        file.close()\n",
        "        print(\"File closed.\")"
      ],
      "metadata": {
        "id": "XZjD4kFSt3Jv"
      },
      "execution_count": null,
      "outputs": []
    },
    {
      "cell_type": "markdown",
      "source": [
        "In this example, even if a FileNotFoundError occurs or some other exception happens during file reading, the finally block will still execute, ensuring that the file.close() method is called if the file was successfully opened.\n",
        "\n",
        "2. Guaranteed Execution of Essential Code:\n",
        "\n",
        "Sometimes, there's code that absolutely must run, regardless of the outcome of the try block. The finally block guarantees this execution.\n",
        "This can include logging final status updates, performing essential cleanup before a function returns, or resetting certain states.\n",
        "3. Handling Exceptions that Propagate Upward:\n",
        "\n",
        "If an exception is raised in the try block and is not caught by any of the except blocks within the same try...except...finally structure, the finally block will still be executed before the exception propagates up the call stack to be handled by an outer try...except block or cause the program to terminate. This ensures that cleanup actions are performed even when an exception isn't locally handled.\n",
        "In summary, the finally block provides a reliable way to execute necessary cleanup code, ensuring resource management and the execution of critical operations, irrespective of whether exceptions occur and how they are handled within the preceding try and except blocks. It adds robustness to your code by guaranteeing that essential actions are always performed.\n",
        "\n",
        "\n",
        "\n"
      ],
      "metadata": {
        "id": "GT6K3WAjuBuo"
      }
    },
    {
      "cell_type": "markdown",
      "source": [
        "# Q.4 What is logging in Python ?\n"
      ],
      "metadata": {
        "id": "zSislEBxuHO1"
      }
    },
    {
      "cell_type": "markdown",
      "source": [
        "ANS : Logging in Python is a powerful and flexible way to track events that occur during the execution of your software. Instead of relying solely on print() statements for debugging or monitoring, which can be cumbersome and difficult to manage in larger applications, the logging module provides a structured and configurable system for recording information about your program's operation.\n",
        "\n",
        "Think of logging as keeping a detailed diary of what your application is doing, including normal operations, warnings, errors, and critical issues. This information can be invaluable for:\n",
        "\n",
        "Debugging: Understanding the sequence of events leading up to an error.\n",
        "Monitoring: Tracking the health and performance of your application in production.\n",
        "Auditing: Recording important actions for security or compliance purposes.\n",
        "Analysis: Gathering data about application usage and behavior.\n",
        "Key Benefits of Using the logging Module:\n",
        "\n",
        "Severity Levels: You can categorize log messages by their importance (e.g., DEBUG, INFO, WARNING, ERROR, CRITICAL), allowing you to filter and prioritize the information you see.\n",
        "Configuration: The logging system is highly configurable. You can control where log messages are sent (e.g., console, files, network), their format, and the minimum severity level to record.\n",
        "Modularity: You can organize your logging configuration into different loggers, handlers, and formatters, making it easier to manage logging across different parts of your application.\n",
        "Persistence: Unlike print() statements that disappear once the program ends, log messages can be written to files or other persistent storage for later analysis.\n",
        "Standard Library: The logging module is part of Python's standard library, so you don't need to install any external packages to use it.\n",
        "\n",
        "Core Components of the logging Module:\n",
        "\n",
        "Loggers: These are the entry points into the logging system. You create named loggers for different parts of your application. Each logger can have a severity level and can propagate messages to its parent logger. The root logger is the base of the logger hierarchy.\n",
        "\n",
        "Handlers: Handlers determine where the log messages go.\n",
        "\n",
        " Common handlers include:\n",
        "\n",
        "StreamHandler: Sends log messages to streams like the console (stdout or stderr).\n",
        "FileHandler: Writes log messages to a file.\n",
        "RotatingFileHandler and TimedRotatingFileHandler: Write logs to files and rotate them based on size or time, respectively.\n",
        "SMTPHandler: Sends log messages via email.\n",
        "There are many other handlers for different destinations.\n",
        "\n",
        "Formatters: Formatters define the structure of log messages in the output. You can specify the timestamp, logger name, severity level, message, and other information to be included in the log record. Format strings use a syntax similar to Python's string formatting.\n",
        "\n",
        "Levels: Log levels indicate the severity of a log message. The standard levels, in increasing order of severity, are:\n",
        "\n",
        "DEBUG: Detailed information, typically useful only when diagnosing problems.\n",
        "INFO: Confirmation that things are working as expected.\n",
        "\n",
        "WARNING: An indication that something unexpected happened, or indicative of some problem in the near future (e.g., ‘disk space low’). The software is still working as expected.\n",
        "\n",
        "ERROR: Due to a more serious problem, the software has not been able to perform some function.\n",
        "\n",
        "CRITICAL: A serious error, indicating that the program itself may be unable to continue running.\n",
        "\n",
        "Filters: Filters provide a mechanism to control which log records are passed on by a logger or a handler. You can filter based on logger name, level, or other criteria.\n",
        "\n",
        "Basic Usage Example:"
      ],
      "metadata": {
        "id": "Fbq7V_vuuUYr"
      }
    },
    {
      "cell_type": "code",
      "source": [
        "import logging\n",
        "\n",
        "# Configure the logging system (basic configuration)\n",
        "logging.basicConfig(level=logging.DEBUG, format='%(asctime)s - %(name)s - %(levelname)s - %(message)s')\n",
        "\n",
        "# Get a logger instance (it's good practice to use the module name)\n",
        "logger = logging.getLogger(__name__)\n",
        "\n",
        "logger.debug(\"This is a debug message\")\n",
        "logger.info(\"This is an info message\")\n",
        "logger.warning(\"This is a warning message\")\n",
        "logger.error(\"This is an error message\")\n",
        "logger.critical(\"This is a critical message\")"
      ],
      "metadata": {
        "id": "CpS6CI-0vNTU"
      },
      "execution_count": null,
      "outputs": []
    },
    {
      "cell_type": "markdown",
      "source": [
        "Explanation:\n",
        "\n",
        "logging.basicConfig(...) performs basic configuration. Here, it sets the minimum logging level to DEBUG (so all levels will be shown) and defines the format of the log messages.\n",
        "\n",
        "logging.getLogger(__name__) gets a logger instance. __name__ usually refers to the name of the current module.\n",
        "\n",
        "The subsequent logger.debug(), logger.info(), etc., calls emit log records with the specified severity levels and messages.\n",
        "\n",
        "For more complex applications, you would typically configure logging using dictionaries or configuration files for greater flexibility and control over loggers, handlers, and formatters.\n",
        "\n",
        "In essence, logging in Python provides a structured, configurable, and persistent way to record events in your application, making it an essential tool for debugging, monitoring, and understanding its behavior."
      ],
      "metadata": {
        "id": "6C_5ssEHvfEs"
      }
    },
    {
      "cell_type": "markdown",
      "source": [
        "# Q 5 What is the significance of the __del__ method in Python ?\n"
      ],
      "metadata": {
        "id": "ekCuPsmvv0EF"
      }
    },
    {
      "cell_type": "markdown",
      "source": [
        "ANS : The __del__ method in Python is a special method that is called when an object is about to be garbage collected (destroyed). Its significance lies in providing a mechanism to perform final cleanup operations for an object before its memory is reclaimed by the system.\n",
        "\n",
        "Think of __del__ as the object's \"last rites\" or final farewell. It's the last piece of code that gets a chance to run for that specific object instance before it ceases to exist.\n",
        "\n",
        "Primary Purpose and Significance:\n",
        "\n",
        "The main intended purpose of __del__ is to handle the release of external resources that the object might be holding. These resources are typically things that are not managed by Python's garbage collector itself and need explicit freeing. Common examples include:\n",
        "\n",
        "Closing External Handles: If an object has opened a file using a file descriptor obtained from the operating system, the __del__ method can be used to ensure that this file descriptor is properly closed.\n",
        "Releasing Network Connections: If an object has established a network connection, __del__ can be used to close that connection.\n",
        "Releasing Locks: If an object holds a system-level lock, __del__ can be used to release it.\n",
        "Unregistering Callbacks: If an object has registered itself for certain events, __del__ can be used to unregister those callbacks.\n",
        "Example (Illustrative - Handle with Caution):"
      ],
      "metadata": {
        "id": "FIMfA8A9wMou"
      }
    },
    {
      "cell_type": "code",
      "source": [
        "class ResourceUser:\n",
        "    def __init__(self, filename):\n",
        "        self.file = open(filename, 'w')\n",
        "        print(f\"ResourceUser created, file '{filename}' opened.\")\n",
        "\n",
        "    def write_data(self, data):\n",
        "        if not self.file.closed:\n",
        "            self.file.write(data)\n",
        "\n",
        "    def __del__(self):\n",
        "        if hasattr(self, 'file') and not self.file.closed:\n",
        "            self.file.close()\n",
        "            print(\"ResourceUser destroyed, file closed.\")\n",
        "        else:\n",
        "            print(\"ResourceUser destroyed.\")\n",
        "\n",
        "# Usage\n",
        "user1 = ResourceUser(\"temp1.txt\")\n",
        "user1.write_data(\"Some data for user 1\\n\")\n",
        "del user1  # Explicitly delete the object (for demonstration)\n",
        "\n",
        "user2 = ResourceUser(\"temp2.txt\")\n",
        "user2.write_data(\"Some data for user 2\\n\")\n",
        "# Object will be garbage collected later"
      ],
      "metadata": {
        "id": "CVfogTbXwVk8"
      },
      "execution_count": null,
      "outputs": []
    },
    {
      "cell_type": "markdown",
      "source": [
        "In this example, the __del__ method attempts to close the file when the ResourceUser object is destroyed.\n",
        "\n",
        "Important Caveats and Reasons to Be Cautious:\n",
        "\n",
        "While __del__ seems like a straightforward way to handle cleanup, it comes with significant caveats and is often not the recommended approach for reliable resource management in Python. Here's why:\n",
        "\n",
        "Unpredictable Timing: The garbage collector in Python is not deterministic. You cannot guarantee when (or even if) the __del__ method will be called. Objects might linger in memory for an indefinite period. This makes __del__ unreliable for critical cleanup tasks that need to happen promptly.\n",
        "\n",
        "Circular References: If objects are involved in circular references (where they refer to each other), the garbage collector might not be able to break these cycles, and the __del__ methods of these objects might never be called.\n",
        "\n",
        "Exceptions During __del__: If an exception occurs within the __del__ method itself, it is generally ignored by the Python interpreter, and a warning is printed to sys.stderr. This can lead to silent failures and make debugging very difficult.\n",
        "\n",
        " Object Resurrection: It's possible for an object to be \"resurrected\" within its __del__ method by creating a new reference to it. This can lead to complex and unpredictable behavior.\n",
        "\n",
        "The Recommended Approach: Context Managers (with statement) and Explicit close() Methods:\n",
        "\n",
        "For reliable resource management, the preferred approaches in Python are:\n",
        "\n",
        "Context Managers (with statement): For objects that support the context management protocol (defined by __enter__ and __exit__ methods), the with statement ensures that cleanup actions (defined in __exit__) are always performed, even if exceptions occur. Files, network connections, and locks often support this protocol.\n",
        "\n",
        "Python\n",
        "\n",
        "with open(\"my_file.txt\", \"r\") as f:\n",
        "    content = f.read()\n",
        "    # File is automatically closed when the 'with' block exits\n",
        "Explicit close() or release() Methods: For resources that don't naturally fit the context manager pattern, provide explicit methods (like close(), release(), disconnect()) that the user can call to clean up resources when they are finished with the object. It's then the responsibility of the user to call these methods appropriately (often within a try...finally block to ensure they are called even if errors occur)."
      ],
      "metadata": {
        "id": "IPdvinZewU67"
      }
    },
    {
      "cell_type": "code",
      "source": [
        "class MyResource:\n",
        "    def __init__(self):\n",
        "        self._resource = ... # Acquire resource\n",
        "\n",
        "    def use_resource(self):\n",
        "        # Use the resource\n",
        "\n",
        "    def close(self):\n",
        "        if self._resource:\n",
        "            # Release the resource\n",
        "            self._resource = None\n",
        "\n",
        "resource = MyResource()\n",
        "try:\n",
        "    resource.use_resource()\n",
        "finally:\n",
        "    resource.close()"
      ],
      "metadata": {
        "id": "_IS_4hJWsqtu"
      },
      "execution_count": null,
      "outputs": []
    },
    {
      "cell_type": "markdown",
      "source": [
        "In Conclusion:\n",
        "\n",
        "While the __del__ method exists to provide a finalizer for objects, its non-deterministic nature and potential for issues make it unreliable for critical resource management. It's generally better to rely on context managers (with statement) and explicit close()/release() methods for ensuring proper cleanup of external resources in Python. Use __del__ with extreme caution and only when you fully understand its limitations. It's often a sign that resource management could be handled more explicitly and reliably elsewhere in your code.\n"
      ],
      "metadata": {
        "id": "ik38CyzfyDkX"
      }
    },
    {
      "cell_type": "markdown",
      "source": [
        "# Q.6 What is the difference between import and from ... import in Python ?\n"
      ],
      "metadata": {
        "id": "WIPq9i85yQa0"
      }
    },
    {
      "cell_type": "markdown",
      "source": [
        "The import statement and the from ... import statement in Python are both used to bring modules or specific names (like functions, classes, or variables) from modules into your current scope. However, they differ in how they make those names accessible.\n",
        "\n",
        "Here's a breakdown of the differences:\n",
        "\n",
        "1. import <module_name>:\n",
        "\n",
        "Imports the entire module: This statement imports the entire module specified by <module_name>.\n",
        "\n",
        "Accessing names: To access any names (functions, classes, variables) defined within the imported module, you need to use the module name as a prefix, followed by a dot (.) and the name you want to access."
      ],
      "metadata": {
        "id": "5DVl2Zg1y9Vb"
      }
    },
    {
      "cell_type": "code",
      "source": [
        "import math\n",
        "\n",
        "result = math.sqrt(16)  # Accessing the sqrt function using the module name\n",
        "pi_value = math.pi      # Accessing the pi variable using the module name"
      ],
      "metadata": {
        "id": "s5EfsAPIzRr-"
      },
      "execution_count": null,
      "outputs": []
    },
    {
      "cell_type": "markdown",
      "source": [
        "Namespace management: This form of import keeps the namespace of the imported module separate from your current namespace. This helps prevent naming conflicts if you have names in your current code that are the same as names within the imported module.\n",
        "\n",
        "2. from <module_name> import <name(s)>:\n",
        "\n",
        "Imports specific names: This statement allows you to import specific names (one or more) directly from the <module_name>. You list the names you want to import after the import keyword, separated by commas.\n",
        "\n",
        "Direct access to names: Once imported using this form, the specified names become directly accessible in your current scope without needing the module name as a prefix."
      ],
      "metadata": {
        "id": "tul6A7pSy9R3"
      }
    },
    {
      "cell_type": "code",
      "source": [
        "from math import sqrt, pi\n",
        "\n",
        "result = sqrt(16)  # Accessing sqrt directly\n",
        "pi_value = pi      # Accessing pi directly"
      ],
      "metadata": {
        "id": "UCYH3tccziHY"
      },
      "execution_count": null,
      "outputs": []
    },
    {
      "cell_type": "markdown",
      "source": [
        "Potential for namespace collisions: Importing names directly into your current namespace can lead to naming conflicts if a name you import is the same as a name already defined in your current scope. If this happens, the name you imported will overwrite the existing name.\n",
        "\n",
        "3. from <module_name> import * (Generally Discouraged):\n",
        "\n",
        "Imports all names: This statement imports all public names (those that don't start with an underscore _) from the specified module directly into your current scope.\n",
        "Significant risk of namespace collisions: This form is generally discouraged because it can pollute your namespace with a large number of names, making it difficult to track where names come from and greatly increasing the risk of accidental name collisions. It can also make your code harder to read and maintain."
      ],
      "metadata": {
        "id": "_kHvUGeBsVKO"
      }
    },
    {
      "cell_type": "markdown",
      "source": [
        "# Q.7 How can you handle multiple exceptions in Python?\n"
      ],
      "metadata": {
        "id": "ikldiLkYv4f4"
      }
    },
    {
      "cell_type": "markdown",
      "source": [
        "You can handle multiple exceptions in Python using several approaches within a try...except block. Here are the common methods:\n",
        "\n",
        "1. Multiple except Blocks:\n",
        "\n",
        "This is the most straightforward way to handle different types of exceptions with specific code for each. You simply have multiple except clauses, each catching a different exception type."
      ],
      "metadata": {
        "id": "SpSE_2HtwBJ_"
      }
    },
    {
      "cell_type": "code",
      "source": [
        "try:\n",
        "    numerator = int(input(\"Enter the numerator: \"))\n",
        "    denominator = int(input(\"Enter the denominator: \"))\n",
        "    result = numerator / denominator\n",
        "    print(f\"Result: {result}\")\n",
        "except ValueError:\n",
        "    print(\"Error: Invalid input. Please enter integers.\")\n",
        "except ZeroDivisionError:\n",
        "    print(\"Error: Cannot divide by zero.\")\n",
        "except Exception as e:  # Catch any other exception (less specific, should be last)\n",
        "    print(f\"An unexpected error occurred: {e}\")"
      ],
      "metadata": {
        "id": "BDwY1G4Cx3-W"
      },
      "execution_count": null,
      "outputs": []
    },
    {
      "cell_type": "markdown",
      "source": [
        "In this example:\n",
        "\n",
        "The first except ValueError: block will execute only if a ValueError occurs in the try block\n",
        " (e.g., if the user enters non-integer input).\n",
        "\n",
        "The second except ZeroDivisionError: block will execute only if a ZeroDivisionError occurs (e.g., if the user enters 0 as the denominator).\n",
        "\n",
        "The final except Exception as e: block is a general catch-all for any other type of exception that might occur. It's good practice to have a less specific exception handler at the end to prevent unhandled exceptions from crashing your program. The as e part assigns the exception object to the variable e, allowing you to access details about the error.\n",
        "\n",
        "2. Catching Multiple Exceptions in a Single except Block (Using a Tuple):\n",
        "\n",
        "You can catch multiple exception types in a single except block by listing them as a tuple after the except keyword. The code within this block will execute if any of the specified exceptions are raised."
      ],
      "metadata": {
        "id": "1mcLbssmwSsj"
      }
    },
    {
      "cell_type": "code",
      "source": [
        "try:\n",
        "    value = int(input(\"Enter a number between 1 and 10: \"))\n",
        "    if value < 1 or value > 10:\n",
        "        raise ValueError(\"Value out of range\")\n",
        "    result = 10 / value\n",
        "    print(f\"Result: {result}\")\n",
        "except (ValueError, ZeroDivisionError) as e:\n",
        "    print(f\"Error: {e}\")\n",
        "except TypeError:\n",
        "    print(\"Error: Invalid data type.\")"
      ],
      "metadata": {
        "id": "S2_wdbwOwgZA"
      },
      "execution_count": null,
      "outputs": []
    },
    {
      "cell_type": "markdown",
      "source": [
        "In this case, the single except (ValueError, ZeroDivisionError) as e: block will handle either a ValueError (raised explicitly or by int()) or a ZeroDivisionError. You can access the specific exception object that occurred through the variable e.\n",
        "\n",
        "3. Using a Generic except Block (Handle with Caution):\n",
        "\n",
        "You can use a bare except: block to catch any type of exception. However, this is generally not recommended because it can hide errors and make debugging very difficult. You lose the ability to handle specific error types differently.\n",
        "\n",
        "\n"
      ],
      "metadata": {
        "id": "H1S2Mciqw6ZP"
      }
    },
    {
      "cell_type": "code",
      "source": [
        "try:\n",
        "    # Some code that might raise any exception\n",
        "    result = 10 / input(\"Enter a number: \")\n",
        "    print(result)\n",
        "except:\n",
        "    print(\"An error occurred.\") # Very vague error message"
      ],
      "metadata": {
        "id": "o960ErwPwhss"
      },
      "execution_count": null,
      "outputs": []
    },
    {
      "cell_type": "markdown",
      "source": [
        "4. Combining except Blocks:\n",
        "\n",
        "You can freely combine multiple specific except blocks with a more general except Exception as e: block at the end to handle known error types specifically and catch any unexpected ones.\n",
        "\n",
        "Order of except Blocks Matters:\n",
        "\n",
        "When you have multiple except blocks, Python checks them in the order they appear. Once an exception is caught by a matching except block, the subsequent except blocks are skipped. Therefore, it's important to place more specific exception handlers before more general ones. For example, except ValueError: should come before except Exception:.\n",
        "\n",
        "Using else and finally with Multiple Exceptions:\n",
        "\n",
        "You can also use the else and finally blocks in conjunction with multiple except blocks:"
      ],
      "metadata": {
        "id": "NCw42q7sxER2"
      }
    },
    {
      "cell_type": "code",
      "source": [
        "try:\n",
        "    numerator = int(input(\"Enter the numerator: \"))\n",
        "    denominator = int(input(\"Enter the denominator: \"))\n",
        "    result = numerator / denominator\n",
        "except ValueError:\n",
        "    print(\"Invalid input.\")\n",
        "except ZeroDivisionError:\n",
        "    print(\"Cannot divide by zero.\")\n",
        "else:\n",
        "    print(f\"The result is: {result}\")  # Executed if no exception in try\n",
        "finally:\n",
        "    print(\"Cleanup operations complete.\") # Always executed"
      ],
      "metadata": {
        "id": "ynTYe4TvxIuV"
      },
      "execution_count": null,
      "outputs": []
    },
    {
      "cell_type": "markdown",
      "source": [
        "In summary, the best way to handle multiple exceptions in Python is usually by using multiple specific except blocks to handle known error types appropriately, potentially followed by a more general except Exception as e: block to catch unexpected errors. Catching multiple specific exceptions in a single except block using a tuple can also be useful when you want to handle those exceptions in the same way. Avoid using bare except: unless you have a very specific reason and understand the potential drawbacks"
      ],
      "metadata": {
        "id": "va0aX4ZRxQTR"
      }
    },
    {
      "cell_type": "markdown",
      "source": [
        "# Q. 8 What is the purpose of the with statement when handling files in Python?\n"
      ],
      "metadata": {
        "id": "zw3kvvlgyGVF"
      }
    },
    {
      "cell_type": "markdown",
      "source": [
        "The primary purpose of the with statement when handling files in Python is to ensure that the file is properly closed after its operations are completed, even if errors occur within the block of code that interacts with the file. This automatic resource management is crucial for preventing issues like data corruption and resource leaks.\n",
        "\n",
        "Think of the with statement as setting up a context where the file is guaranteed to be managed correctly. When you enter the with block, the file is opened (or another resource is acquired). When you exit the with block, the file is automatically closed (or the resource is released), regardless of how the block was exited – whether normally or due to an exception.\n",
        "\n",
        "Here's a breakdown of the key benefits and how it works:\n",
        "\n",
        "1. Automatic Resource Management (Closing the File):\n",
        "\n",
        "The most significant advantage of using with open(...) as f: is that it automatically takes care of closing the file object f when the with block finishes executing.\n",
        "You don't need to explicitly call f.close(). This reduces the risk of forgetting to close the file, which can lead to data loss, file corruption, or the file remaining locked and inaccessible to other processes.\n",
        "2. Guaranteed Execution of Cleanup Code (Even with Errors):\n",
        "\n",
        "If an exception occurs within the with block, the normal flow of execution is interrupted. However, the with statement ensures that the necessary cleanup actions (in the case of files, closing the file) are still performed before the exception is propagated further.\n",
        "This is similar to the role of the finally block in exception handling, but the with statement provides this guarantee specifically for objects that support the context management protocol.\n",
        "How it Works (Context Management Protocol):\n",
        "\n",
        "The with statement works with objects that implement the context management protocol, which involves two special methods:\n",
        "\n",
        "__enter__(): This method is called when the with block is entered. For file objects, it typically opens the file and returns the file object itself (which is then assigned to the variable after as, e.g., f).\n",
        "__exit__(exc_type, exc_val, exc_tb): This method is called when the with block is exited. It receives information about any exception that might have occurred within the block (exc_type, exc_val, exc_tb). For file objects, the __exit__ method ensures that the file is closed, regardless of whether an exception occurred or not. If no exception occurred, all three arguments to __exit__ are None."
      ],
      "metadata": {
        "id": "_aNmKzYqyT1y"
      }
    },
    {
      "cell_type": "code",
      "source": [
        "try:\n",
        "    with open(\"my_file.txt\", \"w\") as file:\n",
        "        file.write(\"Hello, world!\\n\")\n",
        "        raise ValueError(\"Simulating an error\")  # An error occurs\n",
        "except ValueError as e:\n",
        "    print(f\"Error: {e}\")\n",
        "\n",
        "# After the 'with' block, the file 'my_file.txt' is guaranteed to be closed,\n",
        "# even though a ValueError occurred.\n",
        "\n",
        "# You can verify this (though you wouldn't typically do this immediately)\n",
        "# try:\n",
        "#     print(file.closed)  # This would raise a ValueError because 'file' is no longer in scope\n",
        "# except ValueError:\n",
        "#     print(\"'file' object is no longer accessible, implying it was closed.\")"
      ],
      "metadata": {
        "id": "4QnJc3e6w_Ko"
      },
      "execution_count": null,
      "outputs": []
    },
    {
      "cell_type": "markdown",
      "source": [
        "In this example, even though a ValueError is raised within the with block, the __exit__ method of the file object is still called, ensuring that my_file.txt is properly closed. If you had opened the file without using with and an exception occurred before you called file.close(), the file might remain open.\n",
        "\n",
        "Beyond Files:\n",
        "\n",
        "The with statement is not limited to file handling. It can be used with any object that implements the context management protocol, such as:\n",
        "\n",
        "Network connections: Ensuring connections are closed.\n",
        "Locks: Ensuring locks are released.\n",
        "Database connections: Ensuring transactions are committed or rolled back and connections are closed.\n",
        "Any custom resource management: You can define __enter__ and __exit__ methods in your own classes to make them work with the with statement for managing resources specific to your application.\n",
        "In summary, the with statement provides a clean, reliable, and Pythonic way to manage resources, especially files, by guaranteeing their proper cleanup, even in the face of errors. This helps prevent resource leaks and ensures the integrity of your data and system."
      ],
      "metadata": {
        "id": "1pU1k_dmyeub"
      }
    },
    {
      "cell_type": "markdown",
      "source": [
        "# Q.9 What is the difference between multithreading and multiprocessing ?\n"
      ],
      "metadata": {
        "id": "vz6Z-Xh6yng6"
      }
    },
    {
      "cell_type": "markdown",
      "source": [
        "Multithreading and multiprocessing are both techniques used to achieve concurrency (doing multiple tasks seemingly at the same time) and parallelism (doing multiple tasks truly simultaneously) in computer programs. However, they differ significantly in how they achieve this and their characteristics:\n",
        "\n",
        "Multithreading:\n",
        "\n",
        "Concept: Multithreading involves running multiple threads within a single process. A thread is a lightweight unit of execution within a process. All threads within a process share the same memory space.\n",
        "Memory: Threads within the same process share the same memory space. This allows for easy communication and data sharing between threads.\n",
        "Resource Overhead: Creating and managing threads is generally less resource-intensive than creating and managing processes because they share resources of the parent process.\n",
        "Concurrency vs. Parallelism: In Python, due to the Global Interpreter Lock (GIL), only one thread can hold control of the Python interpreter at any given time. This means that for CPU-bound tasks, multithreading in Python primarily achieves concurrency (interleaving execution) rather than true parallelism (simultaneous execution on multiple CPU cores). However, multithreading is very effective for I/O-bound tasks (waiting for network requests, file operations, etc.) as the GIL is released when a thread is waiting for I/O, allowing other threads to run.\n",
        "Inter-Thread Communication: Communication between threads is relatively easy as they share memory. However, this shared memory requires careful management using synchronization primitives like locks, semaphores, and conditions to prevent race conditions and deadlocks.\n",
        "Fault Isolation: If one thread crashes, it can potentially affect the entire process because they share the same memory space.\n",
        "Use Cases: Best suited for I/O-bound tasks, GUI applications (to keep the UI responsive while background tasks run), and tasks that involve waiting.\n",
        "Python Module: Primarily achieved using the threading module.\n",
        "Multiprocessing:\n",
        "\n",
        "Concept: Multiprocessing involves running multiple processes concurrently. Each process has its own independent memory space.\n",
        "Memory: Each process has its own separate memory space. This means that data sharing between processes is more complex and typically requires explicit mechanisms like pipes, queues, or shared memory objects provided by the multiprocessing module.\n",
        "Resource Overhead: Creating and managing processes is generally more resource-intensive than threads because the operating system needs to allocate separate memory and resources for each process.\n",
        "Concurrency and Parallelism: Multiprocessing in Python bypasses the GIL limitation because each process has its own Python interpreter. This allows for true parallelism on multi-core processors, making it suitable for CPU-bound tasks that can be broken down into independent sub-tasks.\n",
        "Inter-Process Communication (IPC): Communication between processes requires explicit IPC mechanisms, which can be more complex than inter-thread communication. The multiprocessing module provides tools for this, such as Pipe, Queue, and Manager.\n",
        "Fault Isolation: Processes are isolated. If one process crashes, it typically does not affect other processes. This provides better fault tolerance.\n",
        "Use Cases: Best suited for CPU-bound tasks that can be parallelized, such as numerical computations, data processing, and tasks that can benefit from utilizing multiple CPU cores fully.\n",
        "Python Module: Primarily achieved using the multiprocessing module.\n",
        "In essence:\n",
        "\n",
        "Use multithreading when your tasks are primarily waiting for I/O operations and you want to improve responsiveness within a single process. Be aware of the GIL's limitations for CPU-bound tasks in Python.\n",
        "Use multiprocessing when you have CPU-bound tasks that can be executed in parallel to fully utilize multiple CPU cores and you need better fault isolation. Be prepared for more complex inter-process communication.\n",
        "The choice between multithreading and multiprocessing depends heavily on the nature of the tasks you need to perform and the limitations of the environment (like the Python GIL).\n",
        "\n",
        "\n",
        "\n"
      ],
      "metadata": {
        "id": "0tYuJpipy3Yt"
      }
    },
    {
      "cell_type": "markdown",
      "source": [
        " # Q. 10 What are the advantages of using logging in a program ?\n"
      ],
      "metadata": {
        "id": "VHWb77FKzUY5"
      }
    },
    {
      "cell_type": "markdown",
      "source": [
        " Using logging in a program offers numerous advantages over simply relying on print() statements for tracking and debugging. Here are some key benefits:\n",
        "\n",
        "1. Granular Control Over Output:\n",
        "\n",
        "Severity Levels: Logging allows you to categorize messages by their importance (DEBUG, INFO, WARNING, ERROR, CRITICAL). You can configure your logging system to only display messages above a certain severity level. For example, in a production environment, you might only want to see WARNING, ERROR, and CRITICAL messages, while during development, you might enable DEBUG level for detailed information. This avoids cluttering output with irrelevant information.\n",
        "2. Persistent Record of Events:\n",
        "\n",
        "Writing to Files (and other destinations): Unlike print() output that disappears when the program ends, logging allows you to write messages to files, databases, network services, or other persistent storage. This provides a historical record of your application's behavior, which is invaluable for debugging issues that occur in production or over time.\n",
        "3. Structured and Formatted Output:\n",
        "\n",
        "Customizable Format: The logging module allows you to define the format of your log messages, including timestamps, logger names, severity levels, the module and line number where the log originated, and the actual message. This structured format makes logs easier to read, parse, and analyze, especially when dealing with large volumes of log data.\n",
        "4. Easier Debugging and Troubleshooting:\n",
        "\n",
        "Detailed Context: Log messages can provide much more context than simple print() statements. You can include specific variable values, function names, and other relevant information to help pinpoint the source of a problem.\n",
        "Tracing Execution Flow: By strategically placing log messages at different points in your code, you can trace the execution flow of your program, making it easier to understand the sequence of events leading up to an error.\n",
        "5. Better Monitoring and Operational Insights:\n",
        "\n",
        "Real-time Monitoring: Logs can be monitored in real-time to understand the health and performance of a running application. Unusual patterns or frequent error messages can indicate potential issues that need attention.\n",
        "Operational Intelligence: Analyzing log data can provide valuable insights into how your application is being used, identify performance bottlenecks, and help with capacity planning.\n",
        "6. Separation of Concerns:\n",
        "\n",
        "Decoupling Logging from Core Logic: Using the logging module separates the task of recording events from the core functionality of your application. You can modify logging behavior (e.g., change the log level or output destination) without altering the main program logic.\n",
        "7. Standard Library and Extensibility:\n",
        "\n",
        "Built-in Module: The logging module is part of Python's standard library, so you don't need to install any external dependencies to use it.\n",
        "Extensible: The logging module is highly extensible. You can create custom handlers, formatters, and filters to tailor the logging system to your specific needs.\n",
        "8. Easier to Manage in Large Applications:\n",
        "\n",
        "Hierarchical Loggers: The logging module supports a hierarchy of loggers, allowing you to organize logging for different parts of your application. You can configure logging behavior at different levels of the hierarchy.\n",
        "Centralized Configuration: Logging configuration can be managed centrally, making it easier to control logging behavior across an entire application.\n",
        "In summary, using logging in your program provides a more robust, flexible, and manageable way to track events, debug issues, monitor performance, and gain operational insights compared to using simple print() statements. It's an essential tool for developing and maintaining non-trivial applications.\n",
        "\n"
      ],
      "metadata": {
        "id": "bw7ALc3jz1oa"
      }
    },
    {
      "cell_type": "markdown",
      "source": [
        "# Q.11. What is memory management in Python?\n"
      ],
      "metadata": {
        "id": "iq6NQjRwz8f7"
      }
    },
    {
      "cell_type": "markdown",
      "source": [
        "Memory management in Python is the process by which Python allocates and deallocates memory as needed during the execution of a program. Unlike languages like C or C++ where programmers often have explicit control over memory allocation and deallocation (using functions like malloc and free), Python employs an automatic memory management system. This significantly simplifies the development process by relieving programmers from the burden of manually managing memory.\n",
        "\n",
        "Here are the key aspects of memory management in Python:\n",
        "\n",
        "1. Heap Management:\n",
        "\n",
        "Python uses a private heap to store all objects and data structures. The Python memory manager internally manages this heap.\n",
        "The heap is divided into different generations for efficient garbage collection.\n",
        "2. Automatic Memory Allocation:\n",
        "\n",
        "When you create an object in Python (e.g., a variable, a list, a class instance), Python automatically allocates the necessary memory from the heap to store that object.\n",
        "You don't need to explicitly request memory. Python's memory manager handles this behind the scenes.\n",
        "3. Automatic Memory Deallocation (Garbage Collection):\n",
        "\n",
        "Python uses a mechanism called garbage collection (GC) to automatically reclaim memory that is no longer in use by the program. This prevents memory leaks, where unused memory is not freed and can eventually lead to program slowdown or crashes.\n",
        "Python's garbage collector primarily uses two main techniques:\n",
        "Reference Counting: This is the primary garbage collection mechanism in CPython (the most common Python implementation). Each object has a reference counter that keeps track of how many other parts of the program are currently referring to it. When an object's reference count drops to zero (meaning no other variables or objects are holding a reference to it), the memory occupied by that object is automatically deallocated.\n",
        "\n",
        "Generational Garbage Collection: To handle circular references (where two or more objects refer to each other, but are not reachable by the rest of the program), which reference counting alone cannot detect, Python uses a generational garbage collector. This collector periodically identifies and reclaims memory occupied by such cycles. It works on the principle that most objects have short lifespans. Objects are divided into generations, and older generations are collected less frequently.\n",
        "\n",
        "4. Memory Pool Allocation:\n",
        "\n",
        "To improve the efficiency of memory allocation for small objects, Python uses memory pools. Instead of directly allocating memory from the system for every small object, Python maintains pools of pre-allocated memory blocks of different sizes. When a small object needs to be created, Python can often allocate space from these pools, which is faster than requesting memory from the operating system.\n",
        "\n",
        "5. Memory Compaction (Generally Not Performed):\n",
        "\n",
        "Unlike some other languages with garbage collection, Python's memory manager generally does not perform memory compaction. Compaction involves moving objects in memory to reduce fragmentation (gaps of unused memory between allocated blocks). While fragmentation can occur in Python's heap, the focus is more on efficient allocation and deallocation rather than defragmentation.\n",
        "\n",
        "Benefits of Automatic Memory Management in Python:\n",
        "\n",
        "Simplified Development: Programmers don't need to worry about manually allocating and freeing memory, reducing the risk of common memory-related errors like dangling pointers and memory leaks.\n",
        "\n",
        "Increased Productivity: Developers can focus more on the logic of their programs rather than low-level memory management details.\n",
        "\n",
        "Portability: The automatic memory management system is part of the Python runtime, making Python programs more portable across different platforms.\n",
        "Considerations:\n",
        "\n",
        "While automatic memory management is convenient, it can sometimes introduce a slight performance overhead compared to manual memory management. However, for most applications, this overhead is acceptable.\n",
        "\n",
        "Understanding how Python manages memory can still be beneficial for writing more efficient code, especially when dealing with large data structures or long-running processes. For example, being aware of reference cycles can help you avoid potential memory issues.\n",
        "\n",
        "In summary, Python's memory management is an automatic process handled by the Python runtime environment. It involves heap management, automatic allocation using memory pools, and automatic deallocation through reference counting and generational garbage collection. This system aims to simplify development and prevent memory-related errors, allowing programmers to focus on building their applications.\n",
        "\n"
      ],
      "metadata": {
        "id": "hv5RA3ld0LaV"
      }
    },
    {
      "cell_type": "markdown",
      "source": [
        "# Q.12 What are the basic steps involved in exception handling in Python ?"
      ],
      "metadata": {
        "id": "5Hia8fWL2WJw"
      }
    },
    {
      "cell_type": "markdown",
      "source": [
        "The basic steps involved in exception handling in Python follow a structured approach using the try, except, else (optional), and finally (optional) blocks. Here's a breakdown of these steps:\n",
        "\n",
        "1. Identify the Code That Might Raise an Exception (try block):\n",
        "\n",
        "The first step is to identify the section of your code where an exception might potentially occur. This could be due to various reasons like:\n",
        "Attempting to open a non-existent file.\n",
        "Performing arithmetic operations that could lead to errors (e.g., division by zero).\n",
        "Trying to access an index that is out of bounds in a list.\n",
        "Converting a string to an integer when the string is not a valid number.\n",
        "Network errors or issues with external resources.\n",
        "Enclose this potentially problematic code within a try block."
      ],
      "metadata": {
        "id": "IyMkpRX02cpu"
      }
    },
    {
      "cell_type": "code",
      "source": [
        "try:\n",
        "    # Code that might raise an exception\n",
        "    numerator = int(input(\"Enter a number: \"))\n",
        "    denominator = int(input(\"Enter another number: \"))\n",
        "    result = numerator / denominator\n",
        "    print(f\"The result is: {result}\")\n",
        "except ...: # The 'except' block comes next\n",
        "    ..."
      ],
      "metadata": {
        "id": "3PKb-Dsu2f0-"
      },
      "execution_count": null,
      "outputs": []
    },
    {
      "cell_type": "markdown",
      "source": [
        "Specify How to Handle Specific Exceptions (except block(s)):\n",
        "\n",
        "After the try block, you define one or more except blocks to specify how to handle particular types of exceptions if they occur within the try block.\n",
        "Each except block should specify the type of exception it intends to catch (e.g., ValueError, ZeroDivisionError, FileNotFoundError).\n",
        "When an exception occurs in the try block, Python looks for the first except block whose exception type matches the raised exception. If a match is found, the code within that except block is executed.\n",
        "You can have multiple except blocks to handle different types of exceptions1 in different ways.\n",
        "\n",
        "You can also catch multiple exception types in a single except block using a tuple (e.g., except (TypeError, ValueError):).\n",
        "You can optionally access the exception object itself using the as keyword (e.g., except ValueError as e:)."
      ],
      "metadata": {
        "id": "p3NIJqMw25Qh"
      }
    },
    {
      "cell_type": "code",
      "source": [
        "try:\n",
        "    numerator = int(input(\"Enter a number: \"))\n",
        "    denominator = int(input(\"Enter another number: \"))\n",
        "    result = numerator / denominator\n",
        "    print(f\"The result is: {result}\")\n",
        "except ValueError:\n",
        "    print(\"Error: Invalid input. Please enter integers.\")\n",
        "except ZeroDivisionError:\n",
        "    print(\"Error: Cannot divide by zero.\")\n",
        "# More 'except' blocks can follow\n",
        "except Exception as e: # Catch any other exception\n",
        "    print(f\"An unexpected error occurred: {e}\")"
      ],
      "metadata": {
        "id": "WTwTEax93Qcn"
      },
      "execution_count": null,
      "outputs": []
    },
    {
      "cell_type": "markdown",
      "source": [
        "3. Execute Code If No Exception Occurs (else block - optional):\n",
        "\n",
        "You can include an optional else block after the except blocks.\n",
        "The code within the else block is executed only if the try block completes without raising any exceptions.\n",
        "This is useful for code that depends on the successful execution of the try block."
      ],
      "metadata": {
        "id": "6WpK9i8v3eZz"
      }
    },
    {
      "cell_type": "code",
      "source": [
        "try:\n",
        "    numerator = int(input(\"Enter a number: \"))\n",
        "    denominator = int(input(\"Enter another number: \"))\n",
        "    result = numerator / denominator\n",
        "except ValueError:\n",
        "    print(\"Error: Invalid input.\")\n",
        "except ZeroDivisionError:\n",
        "    print(\"Error: Cannot divide by zero.\")\n",
        "else:\n",
        "    print(f\"The result is: {result}\") # Executed only if no exception in try\n",
        "finally:\n",
        "    ..."
      ],
      "metadata": {
        "id": "TAZhr8St3DyI"
      },
      "execution_count": null,
      "outputs": []
    },
    {
      "cell_type": "markdown",
      "source": [
        "4. Execute Code Regardless of Whether an Exception Occurred (finally block - optional):\n",
        "\n",
        "You can also include an optional finally block after the except (and else) blocks.\n",
        "The code within the finally block is always executed, regardless of whether an exception was raised in the try block, whether it was caught, or whether the try block completed normally.\n",
        "The finally block is typically used for cleanup operations, such as closing files, releasing resources, or ensuring that certain actions are performed no matter what.\n"
      ],
      "metadata": {
        "id": "W_JOci0v4E-G"
      }
    },
    {
      "cell_type": "code",
      "source": [
        "file = None\n",
        "try:\n",
        "    file = open(\"my_file.txt\", \"r\")\n",
        "    content = file.read()\n",
        "    print(content)\n",
        "except FileNotFoundError:\n",
        "    print(\"Error: File not found.\")\n",
        "except Exception as e:\n",
        "    print(f\"An error occurred: {e}\")\n",
        "finally:\n",
        "    if file:\n",
        "        file.close()\n",
        "        print(\"File (if opened) has been closed.\") # Always executed"
      ],
      "metadata": {
        "id": "_CPkcdho3sFM"
      },
      "execution_count": null,
      "outputs": []
    },
    {
      "cell_type": "markdown",
      "source": [
        "In summary, the basic steps for exception handling in Python are:\n",
        "\n",
        "try: Enclose the code that might raise an exception.\n",
        "except: Define how to handle specific types of exceptions. You can have multiple except blocks.\n",
        "(Optional) else: Define code to be executed if the try block completes without errors.\n",
        "(Optional) finally: Define code that will always be executed, regardless of exceptions.\n",
        "By following these steps, you can write more robust and resilient Python programs that can gracefully handle unexpected errors and continue execution or perform necessary cleanup operations."
      ],
      "metadata": {
        "id": "ejM38NAq4TMN"
      }
    },
    {
      "cell_type": "markdown",
      "source": [
        "# Q.13 Why is memory management important in Python?\n"
      ],
      "metadata": {
        "id": "6b7w-S0e4dDw"
      }
    },
    {
      "cell_type": "markdown",
      "source": [
        "Memory management is crucial in Python, despite its automatic nature, for several key reasons:\n",
        "\n",
        "1. Preventing Memory Leaks:\n",
        "\n",
        "Without proper memory management, programs can accumulate unused memory over time, leading to memory leaks. In long-running applications, this can eventually consume all available memory, causing the program to slow down significantly or even crash.\n",
        "Python's automatic garbage collection helps prevent most memory leaks by reclaiming memory from objects that are no longer referenced. However, certain situations, like circular references or holding onto large objects unnecessarily, can still lead to memory issues if not handled carefully by the programmer.\n",
        "2. Optimizing Performance:\n",
        "\n",
        "Efficient memory management directly impacts the performance of a Python program. Frequent allocation and deallocation of large amounts of memory can be computationally expensive and slow down execution.\n",
        "Python's memory pool allocation for small objects aims to optimize this process. Understanding how Python manages memory can help developers write code that minimizes unnecessary memory operations. For instance, using generators or iterators instead of creating large lists in memory can be more memory-efficient.\n",
        "3. Ensuring Stability and Reliability:\n",
        "\n",
        "Running out of memory due to inefficient memory usage or leaks can lead to program crashes and instability. Robust memory management ensures that the application can run reliably without exhausting system resources.\n",
        "By understanding potential memory pitfalls, developers can write code that is less likely to cause unexpected termination due to memory errors, especially in production environments where uptime and stability are critical.\n",
        "4. Resource Management:\n",
        "\n",
        "Memory is a finite resource. Efficient memory management ensures that Python programs use this resource responsibly, allowing other processes on the system to run smoothly.\n",
        "In resource-constrained environments (e.g., embedded systems, cloud instances with limited memory), careful memory management is even more critical to ensure the application can function within the available resources.\n",
        "5. Handling Large Datasets:\n",
        "\n",
        "When working with large datasets (e.g., in data science or machine learning applications), efficient memory management is paramount. Loading and processing massive amounts of data can quickly consume all available memory if not handled carefully.\n",
        "Techniques like using memory-mapped files, processing data in chunks, and leveraging libraries optimized for memory efficiency (like NumPy and Pandas) become essential. Understanding Python's memory model helps in choosing the right data structures and algorithms for memory-intensive tasks.\n",
        "6. Avoiding Unnecessary Overhead:\n",
        "\n",
        "While Python's automatic memory management simplifies development, being mindful of memory usage can help avoid unnecessary overhead. For example, creating many temporary objects or copying large data structures unnecessarily can increase memory consumption and impact performance.\n",
        "In summary, even though Python handles memory management automatically, understanding its principles and potential pitfalls is crucial for writing efficient, stable, and reliable programs, especially when dealing with long-running applications, large datasets, or resource-constrained environments. Being memory-aware allows developers to make informed decisions about data structures, algorithms, and coding practices to optimize resource usage and prevent memory-related issues."
      ],
      "metadata": {
        "id": "XbBrj0OK5FOH"
      }
    },
    {
      "cell_type": "markdown",
      "source": [
        "# Q.14 What is the role of try and except in exception handling?\n"
      ],
      "metadata": {
        "id": "U14-MsP65a41"
      }
    },
    {
      "cell_type": "markdown",
      "source": [
        "The try and except blocks are the fundamental building blocks for exception handling in Python. They work together to allow you to gracefully manage errors that might occur during the execution of your code. Here's a breakdown of their roles:\n",
        "\n",
        "1. try Block: The Protected Code\n",
        "\n",
        "Role: The primary role of the try block is to enclose the section of code that might potentially raise an exception (an error). You place the code that you want to monitor for errors within this block.\n",
        "Purpose: The try block signals to the Python interpreter that \"I anticipate that an error might occur within this section of code, so be prepared to handle it if it does.\"\n",
        "Execution: When the Python interpreter encounters a try block, it starts executing the code inside it. If the code within the try block runs without any exceptions, the try block finishes, and the program continues to the code that follows the try...except structure.\n",
        "No Exception: If no exception is raised within the try block, the except blocks are skipped, and if an else block is present, it is executed.\n",
        "2. except Block: The Error Handler\n",
        "\n",
        "Role: The except block (or blocks) is responsible for defining how to handle specific types of exceptions that might be raised within the preceding try block.\n",
        "Purpose: The except block acts as the \"catch\" mechanism. When an exception occurs within the try block, Python immediately stops executing the try block and looks for a matching except block.\n",
        "Exception Matching: Each except block specifies the type of exception it is designed to handle (e.g., ValueError, TypeError, FileNotFoundError). If the type of the raised exception matches the exception type specified in an except block, the code within that except block is executed.\n",
        "Handling the Exception: The code inside the except block should provide a way to deal with the error. This might involve:\n",
        "Printing an informative error message to the user or logging the error.\n",
        "Attempting to recover from the error (e.g., by prompting the user for valid input again).\n",
        "Performing cleanup operations.\n",
        "Reraising the exception (to pass it on to a higher level of the program).\n",
        "\n",
        "Multiple except Blocks: You can have multiple except blocks following a single try block to handle different types of exceptions in different ways. Python will execute the first except block that matches the raised exception.\n",
        "Catching Multiple Exceptions: You can catch multiple exception types with a single except block by listing them as a tuple (e.g., except (TypeError, ValueError):).\n",
        "Catching Any Exception (Use with Caution): You can use a bare except: to catch any type of exception, but this is generally discouraged as it can hide errors and make debugging difficult. It's better to be as specific as possible about the exceptions you expect and want to handle.\n",
        "Accessing the Exception Object: You can use the as keyword to assign the exception object to a variable within the except block, allowing you to access details about the error (e.g., except ValueError as e:).\n",
        "In essence:\n",
        "\n",
        "The try block identifies the code that needs monitoring for potential errors.\n",
        "The except block specifies how to respond when a particular type of error occurs within the try block.\n",
        "Together, try and except allow you to write more robust programs that can anticipate and handle errors gracefully, preventing abrupt program termination and providing a better user experience. They enable you to separate the \"normal\" flow of your program from the code that deals with exceptional circumstances.\n",
        "\n"
      ],
      "metadata": {
        "id": "Kyb_JGyI5oyn"
      }
    },
    {
      "cell_type": "markdown",
      "source": [
        "# Q. 15 How does Python's garbage collection system work ?\n"
      ],
      "metadata": {
        "id": "8WvBpusu8w9P"
      }
    },
    {
      "cell_type": "markdown",
      "source": [
        "Python's garbage collection system is primarily automatic, aiming to reclaim memory occupied by objects that are no longer in use by the program. It employs a combination of two main techniques: reference counting and generational garbage collection.\n",
        "\n",
        "Here's a breakdown of how it works:\n",
        "\n",
        "1. Reference Counting (Primary Mechanism):\n",
        "\n",
        "How it works: Every object in Python has a reference counter. This counter keeps track of how many other parts of the program (variables, other objects, etc.) hold a reference to that object.\n",
        "Incrementing the count: The reference count increases when:\n",
        "An object is assigned to a new variable (e.g., b = a).\n",
        "An object is added to a container (like a list or dictionary).\n",
        "An object is passed as an argument to a function.\n",
        "Decrementing the count: The reference count decreases when:\n",
        "A variable that refers to the object is reassigned to something else (e.g., a = 10).\n",
        "An object is removed from a container.\n",
        "A function call ends (references to local variables are destroyed).\n",
        "The object itself goes out of scope (e.g., a local variable in a function).\n",
        "Garbage Collection: When an object's reference count drops to zero, it means that no other part of the program is still holding a reference to it. At this point, the object is no longer needed, and Python's garbage collector immediately reclaims the memory occupied by that object. The __del__ method of the object (if defined) is called just before the object's memory is deallocated.\n",
        "2. Generational Garbage Collection (Handles Circular References):\n",
        "\n",
        "The Problem with Reference Counting: Reference counting alone cannot detect and collect objects involved in circular references. A circular reference occurs when two or more objects refer to each other, but there are no external references to any of them. In this scenario, their reference counts will never drop to zero, even though they are no longer being used by the program, leading to a memory leak.\n",
        "Generational Approach: To address this, Python uses a generational garbage collector that runs periodically. This collector is based on the observation that most objects have short lifespans.\n",
        "Generations: Objects are divided into three generations (0, 1, and 2).\n",
        "Generation 0: Contains newly created objects. This generation is collected most frequently.\n",
        "Generation 1: Contains objects that have survived a collection of Generation 0. This generation is collected less frequently than Generation 0.\n",
        "Generation 2: Contains objects that have survived a collection of Generation 1. This generation is collected least frequently.\n",
        "\n",
        "Collection Process:\n",
        "Triggering: Garbage collection for a generation is triggered when a certain threshold of allocations and deallocations has been reached since the last collection of that generation.\n",
        "Mark and Sweep: The generational collector uses a mark and sweep algorithm to identify and collect garbage:\n",
        "Mark: The collector starts by identifying all objects that are still reachable from the root objects (e.g., global variables, objects on the stack). These reachable objects are marked as \"alive.\"\n",
        "Sweep: After marking, the collector iterates through all the objects in the generation. Any object that is not marked as \"alive\" is considered garbage, and its memory is reclaimed.\n",
        "Moving Objects: Objects that survive a collection in a younger generation are moved to the next older generation. This is based on the assumption that objects that have lived longer are more likely to continue living.\n",
        "How the Two Systems Work Together:\n",
        "\n",
        "Reference counting is the primary and immediate garbage collection mechanism. It's efficient for objects with no circular references.\n",
        "The generational garbage collector acts as a backup to detect and collect objects involved in circular references that reference counting cannot handle. It runs less frequently and helps prevent long-term memory leaks.\n",
        "Manual Control (Limited):\n",
        "\n",
        "While Python's garbage collection is largely automatic, the gc module provides some limited control:\n",
        "gc.collect(): Can be called to explicitly force a full garbage collection cycle. However, it's generally not recommended to call this frequently as it can be performance-intensive. Python's automatic system is usually sufficient.\n",
        "gc.disable() and gc.enable(): Allow you to disable and enable the automatic garbage collector, although this should be done with caution as it can lead to memory leaks if not managed properly.\n",
        "gc.get_threshold() and gc.set_threshold(): Allow you to inspect and adjust the thresholds that trigger generational garbage collection.\n",
        "In summary, Python's garbage collection is a sophisticated system that primarily relies on reference counting for immediate memory reclamation and uses a generational mark and sweep collector to handle circular references and prevent long-term memory leaks. This automatic system simplifies memory management for developers, allowing them to focus on writing application logic rather than manual memory allocation and deallocation.\n"
      ],
      "metadata": {
        "id": "B8zHLP--87E3"
      }
    },
    {
      "cell_type": "markdown",
      "source": [
        "# Q.16 What is the purpose of the else block in exception handling?\n"
      ],
      "metadata": {
        "id": "HJuqz64G9HfV"
      }
    },
    {
      "cell_type": "markdown",
      "source": [
        "The purpose of the else block in exception handling in Python is to execute a block of code if and only if the try block completes without raising any exceptions.\n",
        "\n",
        "Think of it as the \"no error\" path within your try...except structure. If everything goes smoothly in the try block, the code in the else block will be executed. If an exception does occur and is caught by an except block, the else block is skipped.\n",
        "\n",
        "Here's a breakdown of its purpose and benefits:\n",
        "\n",
        "1. Separating Success Code from Potential Error Handling:\n",
        "\n",
        "The else block helps to keep the code within the try block focused on the actions that might potentially raise exceptions.\n",
        "Code that should only run when the try block succeeds is placed in the else block, making the structure clearer and more readable. It logically separates the \"happy path\" (no errors) from the error handling paths.\n",
        "2. Avoiding Accidental Catching of Exceptions:\n",
        "\n",
        "If you put code that might also raise exceptions directly after the try block (outside any except or else), those exceptions could be accidentally caught by a preceding except block, even if they are not directly related to the code in the try block.\n",
        "By placing such code in the else block, you ensure that it only runs if the try block was successful, and any exceptions raised within the else block will not be caught by the except blocks intended for the try block. This helps in more precise exception handling.\n",
        "3. Improved Readability and Maintainability:\n",
        "\n",
        "Using the else block makes the intent of the code more explicit. It clearly shows what should happen when the potentially risky operations in the try block succeed.\n",
        "This separation of concerns can make the code easier to understand, debug, and maintain over time.\n",
        "Example:"
      ],
      "metadata": {
        "id": "s2QDpPbf9S_w"
      }
    },
    {
      "cell_type": "code",
      "source": [
        "try:\n",
        "    numerator = int(input(\"Enter the numerator: \"))\n",
        "    denominator = int(input(\"Enter the denominator: \"))\n",
        "    result = numerator / denominator\n",
        "except ValueError:\n",
        "    print(\"Error: Invalid input. Please enter integers.\")\n",
        "except ZeroDivisionError:\n",
        "    print(\"Error: Cannot divide by zero.\")\n",
        "else:\n",
        "    # This block will only execute if no exception occurred in the try block\n",
        "    print(f\"The result of the division is: {result}\")\n",
        "    # You might perform further actions with the successful result here\n",
        "finally:\n",
        "    print(\"This block always executes.\")"
      ],
      "metadata": {
        "id": "KWbRNWJV4MmX"
      },
      "execution_count": null,
      "outputs": []
    },
    {
      "cell_type": "markdown",
      "source": [
        "In this example:\n",
        "\n",
        "If the user enters valid integer inputs and the denominator is not zero, the division will succeed, and the else block will be executed to print the result.\n",
        "If a ValueError or ZeroDivisionError occurs, the corresponding except block will be executed, and the else block will be skipped.\n",
        "The finally block will always execute, regardless of whether an exception occurred or not.\n",
        "In summary, the else block in exception handling provides a way to execute code specifically when the try block completes successfully without raising any exceptions. It improves code organization, readability, and helps in more precise error handling by separating the success path from the error handling paths."
      ],
      "metadata": {
        "id": "H--43yDd9gn7"
      }
    },
    {
      "cell_type": "markdown",
      "source": [
        "# Q. 17 What are the common logging levels in Python ?\n"
      ],
      "metadata": {
        "id": "CeRBDq1b9raE"
      }
    },
    {
      "cell_type": "markdown",
      "source": [
        " The logging module in Python defines a standard set of severity levels to categorize log messages based on their importance and the impact they might have on the application. These levels provide a way to filter and prioritize log output, making it easier to manage and analyze log data.\n",
        "\n",
        "Here are the common logging levels in Python, listed in increasing order of severity (and typically the order in which you might filter them):\n",
        "\n",
        "1. DEBUG (Lowest Severity):\n",
        "\n",
        "Numeric Value: 10\n",
        "Purpose: Detailed information, typically useful only when diagnosing problems. These messages are usually very verbose and can include information about the internal state of the application, function calls, variable values, etc.\n",
        "Use Case: Primarily used during development and debugging to get a fine-grained view of what the application is doing. You would usually disable or filter out DEBUG messages in production environments due to their verbosity.\n",
        "2. INFO:\n",
        "\n",
        "Numeric Value: 20\n",
        "Purpose: Confirmation that things are working as expected. These messages provide general information about the application's operation, such as the start and end of processes, configuration details, or significant events.\n",
        "Use Case: Useful for monitoring the general flow of the application in both development and production environments. They provide context without being overly verbose.\n",
        "3. WARNING:\n",
        "\n",
        "Numeric Value: 30\n",
        "Purpose: An indication that something unexpected happened, or indicative of some problem in the near future (e.g., ‘disk space low’). The software is still working as expected. These messages highlight potential issues that might not cause immediate problems but should be investigated.\n",
        "Use Case: Important for identifying potential bugs or configuration issues that could lead to problems later on. They are usually relevant in both development and production.\n",
        "4. ERROR:\n",
        "\n",
        "Numeric Value: 40\n",
        "Purpose: Due to a more serious problem, the software has not been able to perform some function. These messages indicate that a specific operation failed, but the application as a whole might still be running.\n",
        "Use Case: Critical for identifying and debugging actual errors that are affecting the functionality of the application in both development and production.\n",
        "5. CRITICAL (Highest Severity):\n",
        "\n",
        "Numeric Value: 50\n",
        "Purpose: A serious error, indicating that the program itself may be unable to continue running. These messages signal a catastrophic failure that could lead to application termination or data loss.\n",
        "Use Case: Require immediate attention and typically indicate a severe problem in the application's core functionality or environment.\n",
        "Hierarchy and Filtering:\n",
        "\n",
        "These logging levels have a hierarchical relationship. When you configure a logger or a handler to a specific level, it will process messages of that level and all levels above it in severity. For example:\n",
        "\n",
        "If you set the logging level to WARNING, you will see WARNING, ERROR, and CRITICAL messages, but not INFO or DEBUG messages.\n",
        "If you set the level to DEBUG, you will see all log messages.\n",
        "If you set the level to CRITICAL, you will only see CRITICAL messages.\n",
        "Setting Logging Levels:\n",
        "\n",
        "You can configure the logging level for:\n",
        "\n",
        "Loggers: Controls which messages the logger itself will process.\n",
        "Handlers: Controls which messages the handler will emit to its destination (e.g., console, file).\n",
        "This allows for fine-grained control over what information is logged and where it goes. For instance, you might want to log DEBUG information to a file for detailed analysis while only showing WARNING and above on the console in a production environment.\n",
        "\n",
        "Custom Logging Levels:\n",
        "\n",
        "While these are the standard levels, the logging module also allows you to define your own custom logging levels if needed, although this is less common.\n",
        "\n",
        "Understanding and using these standard logging levels effectively is crucial for creating well-behaved and maintainable Python applications that provide valuable insights into their operation and make debugging much easier.\n",
        "\n"
      ],
      "metadata": {
        "id": "D83X-FBD93jk"
      }
    },
    {
      "cell_type": "markdown",
      "source": [
        "# Q.17 What is the difference between os.fork() and multiprocessing in Python?\n"
      ],
      "metadata": {
        "id": "gfScH63E8U_F"
      }
    },
    {
      "cell_type": "markdown",
      "source": [
        "ANS : The os.fork() function and the multiprocessing module in Python are both used to create new processes, but they differ significantly in their underlying mechanisms, behavior, and portability, especially on different operating systems.\n",
        "\n",
        "Here's a breakdown of the key differences:\n",
        "\n",
        "1. Underlying Mechanism:\n",
        "\n",
        "os.fork(): This is a low-level system call available primarily on Unix-like operating systems (Linux, macOS, etc.). When os.fork() is called, the operating system creates a copy of the calling process. This new process, called the child process, is almost an exact duplicate of the parent process at the point of the fork() call. This includes:\n",
        "The entire memory space of the parent (code, data, stack).\n",
        "Open file descriptors.\n",
        "Current working directory, environment variables, etc.\n",
        "The child process gets a new process ID (PID), and the parent process receives the PID of the child.\n",
        "multiprocessing: This is a higher-level module in Python that provides a way to spawn new processes. It is designed to be platform-independent and works consistently across different operating systems, including Windows (which doesn't have a fork() system call in the traditional Unix sense). The multiprocessing module typically uses different mechanisms to create new processes depending on the operating system:\n",
        "Unix-like systems (including macOS): It can use fork() by default (depending on the start method configured), but it also supports other methods like \"spawn\" and \"forkserver\".\n",
        "Windows: It uses a \"spawn\" mechanism, where a new Python interpreter process is started, and then the necessary code and data are passed to it. This avoids the full memory duplication of fork().\n",
        "2. Memory Sharing:\n",
        "\n",
        "os.fork(): Initially, the parent and child processes share the same memory pages. However, the operating system employs a copy-on-write mechanism. This means that the memory is only actually copied when either the parent or the child process tries to modify a shared memory page. Until then, they both point to the same physical memory. This can be efficient if the child process doesn't modify much memory. However, if significant modifications occur, it can lead to substantial memory duplication.\n",
        "multiprocessing: By default, processes created using multiprocessing have separate memory spaces on all platforms. If you need to share data between multiprocessing processes, you need to use explicit mechanisms provided by the module, such as multiprocessing.Pipe, multiprocessing.Queue, multiprocessing.Value, multiprocessing.Array, or multiprocessing.Manager.\n",
        "3. Resource Sharing:\n",
        "\n",
        "os.fork(): Child processes inherit many resources from the parent, including open file descriptors. This can be convenient but also requires careful management to avoid unintended side effects (e.g., both processes writing to the same file descriptor simultaneously).\n",
        "multiprocessing: The multiprocessing module provides more controlled ways to share resources between processes, often involving passing handles or using server processes managed by the Manager.\n",
        "4. Portability:\n",
        "\n",
        "os.fork(): Highly non-portable. It is primarily available on Unix-like systems and will not work on Windows without significant emulation layers (like Cygwin or WSL).\n",
        "multiprocessing: Designed for portability. Code written using the multiprocessing module is much more likely to run correctly on different operating systems (Windows, macOS, Linux) without significant changes.\n",
        "5. Complexity and Ease of Use:\n",
        "\n",
        "os.fork(): Lower-level and requires more manual management of the child process, including handling the return value of fork() to differentiate between the parent and child, and managing shared resources carefully.\n",
        "multiprocessing: Provides a higher-level, more object-oriented interface with classes like Process, Pool, Queue, and Pipe, making it generally easier to manage and work with multiple processes in a platform-independent way.\n",
        "6. Use Cases:\n",
        "\n",
        "os.fork(): Sometimes used in specific Unix-based scenarios where the efficiency of copy-on-write for mostly read-only data is beneficial, or when close inheritance of the parent's state is desired. However, its portability limitations make it less common for general cross-platform multiprocessing.\n",
        "multiprocessing: The preferred and recommended way for most Python multiprocessing tasks, especially when cross-platform compatibility and easier management of separate processes and inter-process communication are important. It's well-suited for CPU-bound tasks that can benefit from true parallelism on multi-core systems, bypassing the Global Interpreter Lock (GIL) limitations of multithreading.\n",
        "\n",
        "For most Python developers needing to leverage multiple CPU cores or run tasks in parallel across different operating systems, multiprocessing is the recommended and more practical choice due to its portability and higher-level, easier-to-manage API. os.fork() is a more fundamental system call that is less commonly used directly in cross-platform Python applications.\n",
        "\n",
        "\n"
      ],
      "metadata": {
        "id": "QxZXM4DI8q5O"
      }
    },
    {
      "cell_type": "markdown",
      "source": [
        "# Q. 19 What is the importance of closing a file in Python ?"
      ],
      "metadata": {
        "id": "6I-nm9Ub9lmT"
      }
    },
    {
      "cell_type": "markdown",
      "source": [
        "AS : Closing a file in Python is crucial for several important reasons, primarily related to resource management, data integrity, and preventing errors. Here's a breakdown of its significance:\n",
        "\n",
        "1. Resource Management (Operating System Limits):\n",
        "\n",
        "File Descriptors: When you open a file in Python (or any operating system), the system allocates a limited resource called a file descriptor (a small integer that the operating system uses to track open files).\n",
        "Limited Number: The number of file descriptors a process can have open simultaneously is limited by the operating system. If you open many files without closing them, you can exhaust this limit, leading to errors and preventing your program (or even other programs) from opening new files.\n",
        "Preventing Resource Leaks: Failing to close files is a form of resource leak. These leaks can accumulate over time, especially in long-running applications, potentially causing performance degradation or even crashes.\n",
        "2. Data Integrity (Flushing Buffers):\n",
        "\n",
        "Buffering: When you write data to a file, the operating system often uses a buffer to improve efficiency. Instead of immediately writing every small chunk of data to the disk, it temporarily stores the data in memory (the buffer) and writes it in larger, more efficient blocks later.\n",
        "Ensuring Data is Written: When you close a file, Python (and the operating system) typically flushes these buffers, ensuring that all the data you intended to write is actually written to the physical disk. If your program terminates unexpectedly or you don't close the file properly, some data in the buffer might be lost, leading to incomplete or corrupted files.\n",
        "3. Preventing File Locking and Sharing Issues:\n",
        "\n",
        "File Locking: Operating systems often implement file locking mechanisms to control access to files when they are being written to. An open file might be locked by the process that opened it, preventing other processes (or even other parts of the same program) from accessing or modifying it.\n",
        "Allowing Access: Closing a file releases any locks held on it by your program, allowing other processes or parts of your program to access or modify the file as needed. Failing to close files can lead to permission errors or prevent other operations on the file.\n",
        "4. Good Programming Practice:\n",
        "\n",
        "Cleanliness and Predictability: Explicitly closing files (or using context managers like with) is considered good programming practice. It makes your code cleaner, more readable, and more predictable in terms of resource usage.\n",
        "Avoiding Unexpected Behavior: Relying on Python's garbage collector to automatically close files when the file object is no longer referenced is generally not recommended as the timing of garbage collection is not guaranteed. This can lead to the issues mentioned above occurring unpredictably.\n",
        "How to Ensure Files are Closed:\n",
        "\n",
        "The best way to ensure that files are always closed properly is to use the with statement:"
      ],
      "metadata": {
        "id": "7pXelJSp9xLY"
      }
    },
    {
      "cell_type": "code",
      "source": [
        "with open(\"my_file.txt\", \"r\") as file:\n",
        "    content = file.read()\n",
        "    # Process the content\n",
        "# The file is automatically closed when the 'with' block exits,\n",
        "# even if errors occur."
      ],
      "metadata": {
        "colab": {
          "base_uri": "https://localhost:8080/",
          "height": 211
        },
        "id": "NqtZaE159Yiu",
        "outputId": "59ad61e0-4ed3-42e0-c2cd-856a085b4fae"
      },
      "execution_count": 1,
      "outputs": [
        {
          "output_type": "error",
          "ename": "FileNotFoundError",
          "evalue": "[Errno 2] No such file or directory: 'my_file.txt'",
          "traceback": [
            "\u001b[0;31m---------------------------------------------------------------------------\u001b[0m",
            "\u001b[0;31mFileNotFoundError\u001b[0m                         Traceback (most recent call last)",
            "\u001b[0;32m<ipython-input-1-8d2c04250ae7>\u001b[0m in \u001b[0;36m<cell line: 0>\u001b[0;34m()\u001b[0m\n\u001b[0;32m----> 1\u001b[0;31m \u001b[0;32mwith\u001b[0m \u001b[0mopen\u001b[0m\u001b[0;34m(\u001b[0m\u001b[0;34m\"my_file.txt\"\u001b[0m\u001b[0;34m,\u001b[0m \u001b[0;34m\"r\"\u001b[0m\u001b[0;34m)\u001b[0m \u001b[0;32mas\u001b[0m \u001b[0mfile\u001b[0m\u001b[0;34m:\u001b[0m\u001b[0;34m\u001b[0m\u001b[0;34m\u001b[0m\u001b[0m\n\u001b[0m\u001b[1;32m      2\u001b[0m     \u001b[0mcontent\u001b[0m \u001b[0;34m=\u001b[0m \u001b[0mfile\u001b[0m\u001b[0;34m.\u001b[0m\u001b[0mread\u001b[0m\u001b[0;34m(\u001b[0m\u001b[0;34m)\u001b[0m\u001b[0;34m\u001b[0m\u001b[0;34m\u001b[0m\u001b[0m\n\u001b[1;32m      3\u001b[0m     \u001b[0;31m# Process the content\u001b[0m\u001b[0;34m\u001b[0m\u001b[0;34m\u001b[0m\u001b[0m\n\u001b[1;32m      4\u001b[0m \u001b[0;31m# The file is automatically closed when the 'with' block exits,\u001b[0m\u001b[0;34m\u001b[0m\u001b[0;34m\u001b[0m\u001b[0m\n\u001b[1;32m      5\u001b[0m \u001b[0;31m# even if errors occur.\u001b[0m\u001b[0;34m\u001b[0m\u001b[0;34m\u001b[0m\u001b[0m\n",
            "\u001b[0;31mFileNotFoundError\u001b[0m: [Errno 2] No such file or directory: 'my_file.txt'"
          ]
        }
      ]
    },
    {
      "cell_type": "markdown",
      "source": [
        "Alternatively, if you don't use the with statement, you must explicitly call the close() method on the file object:"
      ],
      "metadata": {
        "id": "HZbD9m73-YW4"
      }
    },
    {
      "cell_type": "code",
      "source": [
        "file = open(\"my_file.txt\", \"r\")\n",
        "try:\n",
        "    content = file.read()\n",
        "    # Process the content\n",
        "finally:\n",
        "    file.close()\n",
        "    # The 'finally' block ensures the file is closed even if exceptions occur."
      ],
      "metadata": {
        "colab": {
          "base_uri": "https://localhost:8080/",
          "height": 211
        },
        "id": "GpkWhXtU-Se-",
        "outputId": "5bcddb45-5773-4366-e6ac-6680e7b02f36"
      },
      "execution_count": 2,
      "outputs": [
        {
          "output_type": "error",
          "ename": "FileNotFoundError",
          "evalue": "[Errno 2] No such file or directory: 'my_file.txt'",
          "traceback": [
            "\u001b[0;31m---------------------------------------------------------------------------\u001b[0m",
            "\u001b[0;31mFileNotFoundError\u001b[0m                         Traceback (most recent call last)",
            "\u001b[0;32m<ipython-input-2-4030f92d283e>\u001b[0m in \u001b[0;36m<cell line: 0>\u001b[0;34m()\u001b[0m\n\u001b[0;32m----> 1\u001b[0;31m \u001b[0mfile\u001b[0m \u001b[0;34m=\u001b[0m \u001b[0mopen\u001b[0m\u001b[0;34m(\u001b[0m\u001b[0;34m\"my_file.txt\"\u001b[0m\u001b[0;34m,\u001b[0m \u001b[0;34m\"r\"\u001b[0m\u001b[0;34m)\u001b[0m\u001b[0;34m\u001b[0m\u001b[0;34m\u001b[0m\u001b[0m\n\u001b[0m\u001b[1;32m      2\u001b[0m \u001b[0;32mtry\u001b[0m\u001b[0;34m:\u001b[0m\u001b[0;34m\u001b[0m\u001b[0;34m\u001b[0m\u001b[0m\n\u001b[1;32m      3\u001b[0m     \u001b[0mcontent\u001b[0m \u001b[0;34m=\u001b[0m \u001b[0mfile\u001b[0m\u001b[0;34m.\u001b[0m\u001b[0mread\u001b[0m\u001b[0;34m(\u001b[0m\u001b[0;34m)\u001b[0m\u001b[0;34m\u001b[0m\u001b[0;34m\u001b[0m\u001b[0m\n\u001b[1;32m      4\u001b[0m     \u001b[0;31m# Process the content\u001b[0m\u001b[0;34m\u001b[0m\u001b[0;34m\u001b[0m\u001b[0m\n\u001b[1;32m      5\u001b[0m \u001b[0;32mfinally\u001b[0m\u001b[0;34m:\u001b[0m\u001b[0;34m\u001b[0m\u001b[0;34m\u001b[0m\u001b[0m\n",
            "\u001b[0;31mFileNotFoundError\u001b[0m: [Errno 2] No such file or directory: 'my_file.txt'"
          ]
        }
      ]
    },
    {
      "cell_type": "markdown",
      "source": [
        "In summary, closing files in Python is essential for responsible resource management, ensuring data integrity, preventing file locking issues, and following good programming practices. The with statement provides the most convenient and reliable way to achieve this.\n"
      ],
      "metadata": {
        "id": "njsVLEq2-scH"
      }
    },
    {
      "cell_type": "markdown",
      "source": [
        "# Q. 20 What is the difference between file.read() and file.readline() in Python ?"
      ],
      "metadata": {
        "id": "L2w9jZFb_5Iv"
      }
    },
    {
      "cell_type": "markdown",
      "source": [
        "The file.read() and file.readline() methods in Python are both used to read data from a file object, but they differ in how much data they read and what they return:\n",
        "\n",
        "file.read():\n",
        "\n",
        "Reads the entire file: When called without any arguments, file.read() reads the entire contents of the file from the current file position until the end of the file (EOF) is reached.\n",
        "Reads up to a specified number of characters: If you provide an optional size argument (an integer), file.read(size) will read at most size characters (in text mode) or size bytes (in binary mode) from the file.\n",
        "Returns a single string: The data read by file.read() is returned as a single string containing all the characters read. If the end of the file has been reached and file.read() is called again, it returns an empty string (\"\").\n",
        "Example (file.read()):"
      ],
      "metadata": {
        "id": "-luq9Pc0AN7P"
      }
    },
    {
      "cell_type": "code",
      "source": [
        "with open(\"sample.txt\", \"r\") as f:\n",
        "    content = f.read()\n",
        "    print(f\"Type of content: {type(content)}\")\n",
        "    print(f\"Content:\\n{content}\")\n",
        "\n",
        "with open(\"sample.txt\", \"r\") as f:\n",
        "    first_10_chars = f.read(10)\n",
        "    print(f\"\\nFirst 10 characters: '{first_10_chars}'\")"
      ],
      "metadata": {
        "colab": {
          "base_uri": "https://localhost:8080/",
          "height": 211
        },
        "id": "IGTTfvJf-e5S",
        "outputId": "bfb8f0dd-d151-4d20-f7ae-903e8772d785"
      },
      "execution_count": 3,
      "outputs": [
        {
          "output_type": "error",
          "ename": "FileNotFoundError",
          "evalue": "[Errno 2] No such file or directory: 'sample.txt'",
          "traceback": [
            "\u001b[0;31m---------------------------------------------------------------------------\u001b[0m",
            "\u001b[0;31mFileNotFoundError\u001b[0m                         Traceback (most recent call last)",
            "\u001b[0;32m<ipython-input-3-895caf680210>\u001b[0m in \u001b[0;36m<cell line: 0>\u001b[0;34m()\u001b[0m\n\u001b[0;32m----> 1\u001b[0;31m \u001b[0;32mwith\u001b[0m \u001b[0mopen\u001b[0m\u001b[0;34m(\u001b[0m\u001b[0;34m\"sample.txt\"\u001b[0m\u001b[0;34m,\u001b[0m \u001b[0;34m\"r\"\u001b[0m\u001b[0;34m)\u001b[0m \u001b[0;32mas\u001b[0m \u001b[0mf\u001b[0m\u001b[0;34m:\u001b[0m\u001b[0;34m\u001b[0m\u001b[0;34m\u001b[0m\u001b[0m\n\u001b[0m\u001b[1;32m      2\u001b[0m     \u001b[0mcontent\u001b[0m \u001b[0;34m=\u001b[0m \u001b[0mf\u001b[0m\u001b[0;34m.\u001b[0m\u001b[0mread\u001b[0m\u001b[0;34m(\u001b[0m\u001b[0;34m)\u001b[0m\u001b[0;34m\u001b[0m\u001b[0;34m\u001b[0m\u001b[0m\n\u001b[1;32m      3\u001b[0m     \u001b[0mprint\u001b[0m\u001b[0;34m(\u001b[0m\u001b[0;34mf\"Type of content: {type(content)}\"\u001b[0m\u001b[0;34m)\u001b[0m\u001b[0;34m\u001b[0m\u001b[0;34m\u001b[0m\u001b[0m\n\u001b[1;32m      4\u001b[0m     \u001b[0mprint\u001b[0m\u001b[0;34m(\u001b[0m\u001b[0;34mf\"Content:\\n{content}\"\u001b[0m\u001b[0;34m)\u001b[0m\u001b[0;34m\u001b[0m\u001b[0;34m\u001b[0m\u001b[0m\n\u001b[1;32m      5\u001b[0m \u001b[0;34m\u001b[0m\u001b[0m\n",
            "\u001b[0;31mFileNotFoundError\u001b[0m: [Errno 2] No such file or directory: 'sample.txt'"
          ]
        }
      ]
    },
    {
      "cell_type": "markdown",
      "source": [
        "file.readline():\n",
        "\n",
        "Reads one line at a time: file.readline() reads a single line from the file, including the trailing newline character (\\n) if present.\n",
        "Returns a string: The data read by file.readline() is returned as a string containing the line.\n",
        "Empty string at EOF: If file.readline() is called after reaching the end of the file, it returns an empty string (\"\").\n",
        "Example (file.readline()):"
      ],
      "metadata": {
        "id": "TNk_SsT5AeuR"
      }
    },
    {
      "cell_type": "code",
      "source": [
        "with open(\"sample.txt\", \"r\") as f:\n",
        "    line1 = f.readline()\n",
        "    print(f\"Line 1: '{line1.rstrip()}'\")  # rstrip() removes the trailing newline\n",
        "\n",
        "    line2 = f.readline()\n",
        "    print(f\"Line 2: '{line2.rstrip()}'\")\n",
        "\n",
        "    line3 = f.readline()\n",
        "    print(f\"Line 3: '{line3.rstrip()}'\")\n",
        "\n",
        "    eof = f.readline()\n",
        "    print(f\"End of file: '{eof}' (empty string)\")"
      ],
      "metadata": {
        "colab": {
          "base_uri": "https://localhost:8080/",
          "height": 211
        },
        "id": "OhtACRo-ATOE",
        "outputId": "38dca333-c8cc-4c4f-e8ff-cf7aa22a47e0"
      },
      "execution_count": 4,
      "outputs": [
        {
          "output_type": "error",
          "ename": "FileNotFoundError",
          "evalue": "[Errno 2] No such file or directory: 'sample.txt'",
          "traceback": [
            "\u001b[0;31m---------------------------------------------------------------------------\u001b[0m",
            "\u001b[0;31mFileNotFoundError\u001b[0m                         Traceback (most recent call last)",
            "\u001b[0;32m<ipython-input-4-9945c878e1c1>\u001b[0m in \u001b[0;36m<cell line: 0>\u001b[0;34m()\u001b[0m\n\u001b[0;32m----> 1\u001b[0;31m \u001b[0;32mwith\u001b[0m \u001b[0mopen\u001b[0m\u001b[0;34m(\u001b[0m\u001b[0;34m\"sample.txt\"\u001b[0m\u001b[0;34m,\u001b[0m \u001b[0;34m\"r\"\u001b[0m\u001b[0;34m)\u001b[0m \u001b[0;32mas\u001b[0m \u001b[0mf\u001b[0m\u001b[0;34m:\u001b[0m\u001b[0;34m\u001b[0m\u001b[0;34m\u001b[0m\u001b[0m\n\u001b[0m\u001b[1;32m      2\u001b[0m     \u001b[0mline1\u001b[0m \u001b[0;34m=\u001b[0m \u001b[0mf\u001b[0m\u001b[0;34m.\u001b[0m\u001b[0mreadline\u001b[0m\u001b[0;34m(\u001b[0m\u001b[0;34m)\u001b[0m\u001b[0;34m\u001b[0m\u001b[0;34m\u001b[0m\u001b[0m\n\u001b[1;32m      3\u001b[0m     \u001b[0mprint\u001b[0m\u001b[0;34m(\u001b[0m\u001b[0;34mf\"Line 1: '{line1.rstrip()}'\"\u001b[0m\u001b[0;34m)\u001b[0m  \u001b[0;31m# rstrip() removes the trailing newline\u001b[0m\u001b[0;34m\u001b[0m\u001b[0;34m\u001b[0m\u001b[0m\n\u001b[1;32m      4\u001b[0m \u001b[0;34m\u001b[0m\u001b[0m\n\u001b[1;32m      5\u001b[0m     \u001b[0mline2\u001b[0m \u001b[0;34m=\u001b[0m \u001b[0mf\u001b[0m\u001b[0;34m.\u001b[0m\u001b[0mreadline\u001b[0m\u001b[0;34m(\u001b[0m\u001b[0;34m)\u001b[0m\u001b[0;34m\u001b[0m\u001b[0;34m\u001b[0m\u001b[0m\n",
            "\u001b[0;31mFileNotFoundError\u001b[0m: [Errno 2] No such file or directory: 'sample.txt'"
          ]
        }
      ]
    },
    {
      "cell_type": "markdown",
      "source": [
        "When to Use Which:\n",
        "\n",
        "Use file.read() when you need to process the entire content of a file at once and the file is not too large to fit comfortably in memory.\n",
        "Use file.readline() when you need to process a file line by line. This is particularly useful for large files that might not fit entirely in memory, as you can read and process each line individually. It's also helpful when the file's structure is line-oriented.\n",
        "Iterating Through Lines (A More Pythonic Way):\n",
        "\n",
        "For reading files line by line, a more Pythonic and often preferred approach is to directly iterate over the file object itself:"
      ],
      "metadata": {
        "id": "dovSRiPNBwKP"
      }
    },
    {
      "cell_type": "code",
      "source": [
        "with open(\"sample.txt\", \"r\") as f:\n",
        "    for line in f:\n",
        "        print(f\"Line: '{line.rstrip()}'\")"
      ],
      "metadata": {
        "colab": {
          "base_uri": "https://localhost:8080/",
          "height": 176
        },
        "id": "iIBlXI9UAiGE",
        "outputId": "d006c300-f261-4d06-bfb7-a21314a67c92"
      },
      "execution_count": 5,
      "outputs": [
        {
          "output_type": "error",
          "ename": "FileNotFoundError",
          "evalue": "[Errno 2] No such file or directory: 'sample.txt'",
          "traceback": [
            "\u001b[0;31m---------------------------------------------------------------------------\u001b[0m",
            "\u001b[0;31mFileNotFoundError\u001b[0m                         Traceback (most recent call last)",
            "\u001b[0;32m<ipython-input-5-f88f65dfce67>\u001b[0m in \u001b[0;36m<cell line: 0>\u001b[0;34m()\u001b[0m\n\u001b[0;32m----> 1\u001b[0;31m \u001b[0;32mwith\u001b[0m \u001b[0mopen\u001b[0m\u001b[0;34m(\u001b[0m\u001b[0;34m\"sample.txt\"\u001b[0m\u001b[0;34m,\u001b[0m \u001b[0;34m\"r\"\u001b[0m\u001b[0;34m)\u001b[0m \u001b[0;32mas\u001b[0m \u001b[0mf\u001b[0m\u001b[0;34m:\u001b[0m\u001b[0;34m\u001b[0m\u001b[0;34m\u001b[0m\u001b[0m\n\u001b[0m\u001b[1;32m      2\u001b[0m     \u001b[0;32mfor\u001b[0m \u001b[0mline\u001b[0m \u001b[0;32min\u001b[0m \u001b[0mf\u001b[0m\u001b[0;34m:\u001b[0m\u001b[0;34m\u001b[0m\u001b[0;34m\u001b[0m\u001b[0m\n\u001b[1;32m      3\u001b[0m         \u001b[0mprint\u001b[0m\u001b[0;34m(\u001b[0m\u001b[0;34mf\"Line: '{line.rstrip()}'\"\u001b[0m\u001b[0;34m)\u001b[0m\u001b[0;34m\u001b[0m\u001b[0;34m\u001b[0m\u001b[0m\n",
            "\u001b[0;31mFileNotFoundError\u001b[0m: [Errno 2] No such file or directory: 'sample.txt'"
          ]
        }
      ]
    },
    {
      "cell_type": "markdown",
      "source": [
        "This method is memory-efficient and often easier to read than using file.readline() in a loop."
      ],
      "metadata": {
        "id": "EYHOqgB3B--C"
      }
    },
    {
      "cell_type": "markdown",
      "source": [
        "# Q.21 What is the logging module in Python used for ?\n"
      ],
      "metadata": {
        "id": "x3tSxg9JCFCt"
      }
    },
    {
      "cell_type": "markdown",
      "source": [
        "The logging module in Python is used for tracking events that occur during the execution of a program. It provides a flexible and powerful system for recording messages about your application's operation, which can be invaluable for:\n",
        "\n",
        "Debugging: Understanding the sequence of events leading up to an error and inspecting the state of the application at various points.\n",
        "Monitoring: Tracking the health and performance of your application in development, testing, and production environments.\n",
        "Auditing: Recording important actions or transactions for security or compliance purposes.\n",
        "Analysis: Gathering data about application usage, behavior, and potential issues over time.\n",
        "Instead of relying solely on print() statements, which are often temporary and difficult to manage in larger applications, the logging module offers a structured and configurable way to record information with different levels of severity and direct it to various outputs.\n",
        "\n",
        "Key functionalities and benefits of using the logging module include:\n",
        "\n",
        "Severity Levels: It allows you to categorize log messages by their importance (e.g., DEBUG, INFO, WARNING, ERROR, CRITICAL), enabling you to filter and prioritize the information you see based on the context (development vs. production).\n",
        "Configuration: You can easily configure where log messages are sent (e.g., console, files, network), their format (including timestamps, logger names, etc.), and the minimum severity level to record.\n",
        "Modularity: The logging system is organized into loggers, handlers, and formatters, making it scalable and manageable for complex applications. You can have different logging configurations for different parts of your program.\n",
        "Persistence: Log messages can be written to files or other persistent storage, providing a history of the application's behavior that can be analyzed later.\n",
        "Standard Library: As part of Python's standard library, it's readily available without needing to install external packages.\n",
        "Thread Safety: The logging module is designed to be thread-safe, making it suitable for concurrent applications.\n",
        "In essence, the logging module provides a comprehensive framework for recording events in a Python application, making it easier to understand its behavior, diagnose problems, and monitor its operation in various environments. It's a crucial tool for developing and maintaining robust and reliable software.\n",
        "\n"
      ],
      "metadata": {
        "id": "fv2OnGiSGV4I"
      }
    },
    {
      "cell_type": "markdown",
      "source": [
        "# Q. 22 What is the os module in Python used for in file handling?\n"
      ],
      "metadata": {
        "id": "hSsXJI8bGlR3"
      }
    },
    {
      "cell_type": "markdown",
      "source": [
        "The os module in Python provides a way of using operating system dependent functionality. For file handling, it offers functions for interacting with the file system at a lower level than the built-in open() function. While open() is primarily used for reading and writing file content, the os module helps with tasks related to the management and navigation of files and directories.\n",
        "\n",
        "Here are some common uses of the os module in file handling:\n",
        "\n",
        "1. Path Manipulation:\n",
        "\n",
        "os.path.join(path1, path2, ...): Joins one or more path components intelligently, using the correct separator for the current operating system (e.g., / on Unix-like systems, \\ on Windows). This is crucial for creating platform-independent file paths.\n",
        "os.path.abspath(path): Returns the absolute (normalized) version of a path.\n",
        "os.path.dirname(path): Returns the directory part of a path.\n",
        "os.path.basename(path): Returns the base name (the final component) of a path.\n",
        "os.path.splitext(path): Splits the pathname into a pair (root, ext) where ext is the extension part of the file.\n",
        "os.path.exists(path): Checks if a file or directory exists.\n",
        "os.path.isfile(path): Checks if a path is an existing regular file.\n",
        "os.path.isdir(path): Checks if a path is an existing directory.\n",
        "2. File and Directory Operations:\n",
        "\n",
        "os.rename(src, dst): Renames a file or directory from src to dst.\n",
        "os.remove(path) or os.unlink(path): Deletes a file.\n",
        "os.mkdir(path): Creates a directory.\n",
        "os.makedirs(path): Creates a directory and all intermediate directories if they do not exist.\n",
        "os.rmdir(path): Removes an empty directory.\n",
        "os.removedirs(path): Removes directories recursively.\n",
        "os.listdir(path='.'): Returns a list containing the names of the entries in the directory given by path.\n",
        "3. Permissions and Metadata:\n",
        "\n",
        "os.chmod(path, mode): Changes the permissions of a file or directory.\n",
        "os.stat(path): Gets the status of a file or directory (size, modification time, etc.).\n",
        "4. Working Directory:\n",
        "\n",
        "os.getcwd(): Returns the current working directory.\n",
        "os.chdir(path): Changes the current working directory to path.\n",
        "In summary, while the built-in open() function handles the reading and writing of file content, the os module provides tools for interacting with the file system itself. It allows you to:\n",
        "\n",
        "Construct and manipulate file and directory paths in a platform-independent way.\n",
        "Check the existence and type of files and directories.\n",
        "Perform operations like renaming, deleting, creating, and listing files and directories.\n",
        "Manage file permissions and retrieve file metadata.\n",
        "Work with the current working directory.\n",
        "Therefore, when dealing with file handling in Python, you'll often use the os module (specifically os.path) in conjunction with the open() function to manage the files and directories your program interacts with.\n",
        "\n"
      ],
      "metadata": {
        "id": "2uCDTDvSHAPG"
      }
    },
    {
      "cell_type": "markdown",
      "source": [
        "# Q. .23 What are the challenges associated with memory management in Python?\n"
      ],
      "metadata": {
        "id": "69CPgZnYHUGK"
      }
    },
    {
      "cell_type": "markdown",
      "source": [
        "While Python's automatic memory management simplifies development significantly, it's not without its challenges. Here are some common issues and considerations associated with memory management in Python:\n",
        "\n",
        "1. Memory Overhead:\n",
        "\n",
        "Object Representation: Python's object model is quite rich, and every object carries extra metadata (e.g., type information, reference count). This can lead to a higher memory footprint compared to more low-level languages where you have finer control over data structures. For a large number of small objects, this overhead can become significant.\n",
        "Dynamic Typing: The dynamic nature of Python means that the type of a variable can change during runtime. This flexibility comes at the cost of storing type information with each object, contributing to memory overhead.\n",
        "2. Garbage Collection Pauses:\n",
        "\n",
        "Stop-the-World Nature: While Python's garbage collector is efficient, the generational garbage collection process can occasionally involve \"stop-the-world\" pauses, where the entire program execution is halted briefly while the garbage collector does its work. For latency-sensitive applications, these pauses can be problematic.\n",
        "Unpredictable Timing: The exact timing of garbage collection cycles is not always predictable, which can make it difficult to reason about the precise memory usage and performance at any given moment.\n",
        "3. Circular References:\n",
        "\n",
        "Detection Complexity: Although Python's generational garbage collector is designed to handle circular references, the process of detecting and collecting these cycles adds complexity to the garbage collection mechanism and can contribute to the overhead.\n",
        "Potential for Delays: Large, complex circular reference structures might take longer for the garbage collector to identify and reclaim, potentially leading to temporary increases in memory usage.\n",
        "4. Memory Fragmentation:\n",
        "\n",
        "Allocation and Deallocation Patterns: Over time, frequent allocation and deallocation of objects of varying sizes can lead to memory fragmentation, where the heap contains many small, unused blocks of memory scattered around. While the total free memory might be substantial, it might not be contiguous enough to allocate a large object, potentially leading to memory allocation failures even when enough total memory is available. Python's memory pool allocator for small objects helps mitigate this to some extent, but fragmentation can still occur at the level of larger objects.\n",
        "5. External Libraries and Extensions:\n",
        "\n",
        "C/C++ Extensions: Many high-performance libraries in Python (like NumPy, SciPy, and some GUI frameworks) are implemented as C or C++ extensions. Memory management in these extensions might not always be perfectly aligned with Python's garbage collector, potentially leading to memory leaks or other issues if not handled carefully in the extension code.\n",
        "Memory Views: While tools like memory views (memoryview) allow for zero-copy access to data buffers, improper use can still lead to issues if the underlying object's lifetime is not managed correctly.\n",
        "6. Large Data Structures:\n",
        "\n",
        "In-Memory Processing: When dealing with very large datasets that need to be loaded into memory (e.g., large lists, dictionaries, or Pandas DataFrames), Python's memory consumption can become a significant concern. Developers need to be mindful of the memory footprint of their data structures and consider techniques like using generators, iterators, or memory-mapped files to handle data that doesn't fit entirely in RAM.\n",
        "7. Profiling and Debugging:\n",
        "\n",
        "Identifying Memory Issues: Diagnosing memory-related issues (like leaks or excessive consumption) can sometimes be challenging. Standard Python debugging tools might not always provide the detailed insights needed to pinpoint the exact source of memory problems. Specialized memory profiling tools are often required.\n",
        "8. Interaction with the Operating System:\n",
        "\n",
        "System Limits: Python programs are still subject to the memory limits imposed by the underlying operating system. Very memory-intensive Python applications might hit these limits, leading to crashes or performance degradation.\n",
        "In conclusion, while Python's automatic memory management simplifies development and prevents many common memory errors, it's important for developers to be aware of its potential challenges. Understanding these aspects allows for writing more memory-efficient, stable, and performant Python code, especially when dealing with large-scale applications or performance-critical tasks.\n",
        "\n",
        "\n",
        "Sources and related content\n"
      ],
      "metadata": {
        "id": "jO_pHB2cHvJI"
      }
    },
    {
      "cell_type": "markdown",
      "source": [
        "# Q.24 How do you raise an exception manually in Python ?\n"
      ],
      "metadata": {
        "id": "0H2FoodAH1Os"
      }
    },
    {
      "cell_type": "markdown",
      "source": [
        "You can raise an exception manually in Python using the raise statement. The raise statement allows you to intentionally trigger a specific exception at a particular point in your code. This is useful for signaling error conditions that your code detects but cannot handle directly at that point.\n",
        "\n",
        "Here's how you use the raise statement:\n",
        "\n",
        "1. Raising a Built-in Exception:\n",
        "\n",
        "You can raise any of Python's built-in exceptions by specifying the exception class after the raise keyword. You can also optionally provide an error message (an argument to the exception constructor) that describes the reason for the exception."
      ],
      "metadata": {
        "id": "FY5NfHu-IJRC"
      }
    },
    {
      "cell_type": "code",
      "source": [
        "You can raise an exception manually in Python using the raise statement. The raise statement allows you to intentionally trigger a specific exception at a particular point in your code. This is useful for signaling error conditions that your code detects but cannot handle directly at that point.\n",
        "\n",
        "Here's how you use the raise statement:\n",
        "\n",
        "1. Raising a Built-in Exception:\n",
        "\n",
        "You can raise any of Python's built-in exceptions by specifying the exception class after the raise keyword. You can also optionally provide an error message (an argument to the exception constructor) that describes the reason for the exception.\n",
        "\n"
      ],
      "metadata": {
        "colab": {
          "base_uri": "https://localhost:8080/",
          "height": 106
        },
        "id": "A9y5hIRLB2dt",
        "outputId": "43f07826-9b9e-490e-fcec-d866ea3ebfcc"
      },
      "execution_count": 6,
      "outputs": [
        {
          "output_type": "error",
          "ename": "SyntaxError",
          "evalue": "unterminated string literal (detected at line 3) (<ipython-input-6-921f543e406d>, line 3)",
          "traceback": [
            "\u001b[0;36m  File \u001b[0;32m\"<ipython-input-6-921f543e406d>\"\u001b[0;36m, line \u001b[0;32m3\u001b[0m\n\u001b[0;31m    Here's how you use the raise statement:\u001b[0m\n\u001b[0m        ^\u001b[0m\n\u001b[0;31mSyntaxError\u001b[0m\u001b[0;31m:\u001b[0m unterminated string literal (detected at line 3)\n"
          ]
        }
      ]
    },
    {
      "cell_type": "markdown",
      "source": [
        "In this example:\n",
        "\n",
        "Inside the process_value function, if the value is less than 0 or greater than 100, a ValueError is raised with a descriptive error message.\n",
        "The try...except block in the main part of the script catches this ValueError and prints the error message.\n",
        "\n",
        "2. Raising a Custom Exception:\n",
        "\n",
        "You can also define your own custom exception classes by inheriting from the base Exception class or one of its subclasses. This allows you to create exceptions that are specific to your application's domain."
      ],
      "metadata": {
        "id": "8C7gsjxSIk7U"
      }
    },
    {
      "cell_type": "code",
      "source": [
        "class CustomError(Exception):\n",
        "    \"\"\"A custom exception class for specific errors in this application.\"\"\"\n",
        "    def __init__(self, message, error_code):\n",
        "        super().__init__(message)\n",
        "        self.error_code = error_code\n",
        "\n",
        "def perform_operation(data):\n",
        "    if not data:\n",
        "        raise CustomError(\"Input data cannot be empty\", 101)\n",
        "    # Process data\n",
        "    print(f\"Processing data: {data}\")\n",
        "\n",
        "try:\n",
        "    user_data = input(\"Enter some data: \")\n",
        "    perform_operation(user_data)\n",
        "except CustomError as e:\n",
        "    print(f\"Custom Error: {e}, Error Code: {e.error_code}\")\n",
        "except Exception as e:\n",
        "    print(f\"An unexpected error occurred: {e}\")"
      ],
      "metadata": {
        "colab": {
          "base_uri": "https://localhost:8080/"
        },
        "id": "yc2kmG3OJI3v",
        "outputId": "2988f257-3699-4242-d5f5-0231d6ff5300"
      },
      "execution_count": 7,
      "outputs": [
        {
          "output_type": "stream",
          "name": "stdout",
          "text": [
            "Enter some data: \n",
            "Custom Error: Input data cannot be empty, Error Code: 101\n"
          ]
        }
      ]
    },
    {
      "cell_type": "markdown",
      "source": [
        "In this example:\n",
        "\n",
        "CustomError is a custom exception class that inherits from Exception and includes an additional error_code attribute.\n",
        "The perform_operation function raises a CustomError if the input data is empty.\n",
        "The except CustomError as e: block specifically catches and handles instances of CustomError, allowing access to the custom error_code attribute.\n",
        "\n",
        "3. Reraising an Exception:\n",
        "\n",
        "Within an except block, you can reraise the exception that was caught. This is useful if you want to perform some local cleanup or logging but still want the exception to be handled by an outer try...except block or to propagate up the call stack.\n",
        "\n",
        "Reraising the same exception: Use raise without any arguments to reraise the currently active exception."
      ],
      "metadata": {
        "id": "glxYWDuAJxbl"
      }
    },
    {
      "cell_type": "code",
      "source": [
        "def risky_operation():\n",
        "    try:\n",
        "        result = 10 / 0\n",
        "        return result\n",
        "    except ZeroDivisionError:\n",
        "        print(\"An attempt to divide by zero was made.\")\n",
        "        raise  # Reraises the ZeroDivisionError\n",
        "\n",
        "try:\n",
        "    risky_operation()\n",
        "except ZeroDivisionError:\n",
        "    print(\"Caught the ZeroDivisionError again outside the function.\")"
      ],
      "metadata": {
        "colab": {
          "base_uri": "https://localhost:8080/"
        },
        "id": "hozYco9-Iar1",
        "outputId": "9aa447f0-8814-452e-865a-7ef61269a7ae"
      },
      "execution_count": 8,
      "outputs": [
        {
          "output_type": "stream",
          "name": "stdout",
          "text": [
            "An attempt to divide by zero was made.\n",
            "Caught the ZeroDivisionError again outside the function.\n"
          ]
        }
      ]
    },
    {
      "cell_type": "markdown",
      "source": [
        "Raising a different exception: You can also catch an exception and then raise a different one, possibly providing more context or a different type of error that is more relevant to the current level of code."
      ],
      "metadata": {
        "id": "oq1S_EDmMiSm"
      }
    },
    {
      "cell_type": "code",
      "source": [
        "def read_file_content(filename):\n",
        "    try:\n",
        "        with open(filename, 'r') as f:\n",
        "            return f.read()\n",
        "    except FileNotFoundError:\n",
        "        raise IOError(f\"Could not read file: {filename}\") from None # Raise a different exception\n",
        "\n",
        "try:\n",
        "    content = read_file_content(\"nonexistent_file.txt\")\n",
        "    print(content)\n",
        "except IOError as e:\n",
        "    print(f\"Error: {e}\")"
      ],
      "metadata": {
        "colab": {
          "base_uri": "https://localhost:8080/"
        },
        "id": "a3KtmVkUJ4_b",
        "outputId": "bee017bc-763d-4d2c-a87c-10073891a83a"
      },
      "execution_count": 9,
      "outputs": [
        {
          "output_type": "stream",
          "name": "stdout",
          "text": [
            "Error: Could not read file: nonexistent_file.txt\n"
          ]
        }
      ]
    },
    {
      "cell_type": "markdown",
      "source": [
        "In summary, the raise statement is a powerful tool for manually triggering exceptions in Python, allowing you to signal specific error conditions and control the flow of your program's error handling. You can raise built-in exceptions, create your own custom exceptions, and reraise caught exceptions as needed. Remember to use exceptions appropriately to indicate exceptional circumstances and to handle them gracefully using try...except blocks."
      ],
      "metadata": {
        "id": "65Uo-K_MM3xE"
      }
    },
    {
      "cell_type": "markdown",
      "source": [
        "# Q. 25 Why is it important to use multithreading in certain applications?"
      ],
      "metadata": {
        "id": "Le6iOH-dM_fk"
      }
    },
    {
      "cell_type": "markdown",
      "source": [
        "It's important to use multithreading in certain applications to achieve several key benefits, primarily related to performance, responsiveness, and resource utilization. Here's a breakdown of why multithreading is crucial in specific scenarios:\n",
        "\n",
        "1. Improved Performance and Concurrency:\n",
        "\n",
        "I/O-Bound Tasks: Applications that spend a significant amount of time waiting for input/output (I/O) operations (e.g., reading/writing files, network requests, database queries) can greatly benefit from multithreading. While one thread is blocked waiting for I/O, other threads can continue to execute, making better use of the CPU and reducing overall execution time.\n",
        "Concurrency (Apparent Parallelism): Even on single-core processors, multithreading can give the illusion of parallelism by rapidly switching between threads. This allows the application to make progress on multiple tasks seemingly simultaneously, improving responsiveness.\n",
        "2. Enhanced Responsiveness:\n",
        "\n",
        "Graphical User Interfaces (GUIs): In GUI applications, performing long-running tasks (e.g., file operations, network calls, heavy computations) on the main thread can freeze the user interface, leading to a poor user experience. By offloading these tasks to background threads, the main UI thread remains responsive, allowing users to continue interacting with the application.\n",
        "Web Servers: Web servers use multithreading (or similar concurrency mechanisms) to handle multiple client requests simultaneously. When a new request arrives, a separate thread can be created to process it, allowing the server to serve many clients concurrently without blocking.\n",
        "3. Better Resource Utilization:\n",
        "\n",
        "Multi-core Processors: Modern computers have multi-core processors. Multithreading allows applications to take advantage of these multiple cores by running different threads on different cores simultaneously (true parallelism, if not limited by the Global Interpreter Lock in CPython for CPU-bound tasks - see point 4). This can significantly speed up CPU-intensive tasks.\n",
        "CPU Idle Time: When one thread is waiting (e.g., for I/O), the CPU can switch to another thread that is ready to execute, minimizing idle time and maximizing the utilization of processing resources.\n",
        "4. Handling the Global Interpreter Lock (GIL) in CPython:\n",
        "\n",
        "CPython Limitation: The standard CPython implementation has a Global Interpreter Lock (GIL) that allows only one thread to hold control of the Python interpreter at any given time. This means that for purely CPU-bound tasks in CPython, multithreading won't achieve true parallelism on multi-core systems. Threads will still take turns executing.\n",
        "Benefit for I/O-Bound Tasks Despite GIL: Even with the GIL, multithreading can still improve the performance of I/O-bound tasks. When a thread performs an I/O operation, it releases the GIL, allowing other threads to run. This overlap of computation and waiting times is where multithreading provides a benefit in I/O-bound scenarios.\n",
        "Workarounds for CPU-Bound Tasks: For achieving true parallelism with CPU-bound tasks in Python, the multiprocessing module is often used, as it creates separate processes with their own Python interpreters and memory spaces, thus bypassing the GIL.\n",
        "5. Simplifying Program Structure:\n",
        "\n",
        "Modular Design: Complex tasks can sometimes be broken down into smaller, independent sub-tasks that can be executed concurrently in separate threads. This can lead to a more modular and easier-to-manage program structure.\n",
        "In summary, multithreading is important in applications that:\n",
        "\n",
        "Perform significant I/O operations.\n",
        "Require a responsive user interface while performing background tasks.\n",
        "Can benefit from concurrent execution on multi-core processors (though the GIL in CPython limits this for CPU-bound tasks, making multiprocessing a better choice in those cases).\n",
        "Can be logically divided into independent, concurrent units of work.\n",
        "While multithreading offers these advantages, it also introduces complexities like the need for careful synchronization to avoid race conditions and deadlocks when multiple threads access shared resources. Therefore, it's crucial to use multithreading judiciously and with proper understanding of its implications.\n",
        "\n"
      ],
      "metadata": {
        "id": "IqGRF911NPWE"
      }
    },
    {
      "cell_type": "markdown",
      "source": [
        "#**Practical Questions**"
      ],
      "metadata": {
        "id": "xg5UJAppNarX"
      }
    },
    {
      "cell_type": "markdown",
      "source": [
        "# Q. 1 How can you open a file for writing in Python and write a string to it?"
      ],
      "metadata": {
        "id": "SDZTD_C9N4Zm"
      }
    },
    {
      "cell_type": "markdown",
      "source": [
        "You can open a file for writing in Python using the built-in open() function with the write mode ('w'). If the file does not exist, it will be created. If the file already exists, its contents will be truncated (overwritten).\n",
        "\n",
        "Here's how you can do it:\n",
        "\n",
        "Method 1: Basic Opening and Writing"
      ],
      "metadata": {
        "id": "PiokYVNYN2T-"
      }
    },
    {
      "cell_type": "code",
      "source": [
        "try:\n",
        "    # Open the file in write mode ('w')\n",
        "    file = open(\"my_output_file.txt\", \"w\")\n",
        "\n",
        "    # The string you want to write\n",
        "    text_to_write = \"Hello, this is some text I am writing to the file.\\n\"\n",
        "\n",
        "    # Write the string to the file\n",
        "    file.write(text_to_write)\n",
        "\n",
        "    # It's important to close the file to save the changes\n",
        "    file.close()\n",
        "\n",
        "    print(\"String successfully written to 'my_output_file.txt'\")\n",
        "\n",
        "except Exception as e:\n",
        "    print(f\"An error occurred: {e}\")"
      ],
      "metadata": {
        "colab": {
          "base_uri": "https://localhost:8080/"
        },
        "id": "5OER5YQEOGL_",
        "outputId": "b783a874-042c-483a-dc37-1e74147152aa"
      },
      "execution_count": 10,
      "outputs": [
        {
          "output_type": "stream",
          "name": "stdout",
          "text": [
            "String successfully written to 'my_output_file.txt'\n"
          ]
        }
      ]
    },
    {
      "cell_type": "markdown",
      "source": [
        "Explanation:\n",
        "\n",
        "open(\"my_output_file.txt\", \"w\"):\n",
        "\n",
        "\"my_output_file.txt\" is the name of the file you want to open (or create).\n",
        "\"w\" is the mode. It stands for \"write\". This mode opens the file for writing. If the file exists, its contents are deleted. If it doesn't exist, a new file is created.\n",
        " file = ...: The open() function returns a file object, which we assign to the variable file.\n",
        "\n",
        "text_to_write = \"...\": This is the string that you want to write to the file. The \\n at the end represents a newline character, so the next write operation (if any) will start on a new line.\n",
        "\n",
        "file.write(text_to_write): The write() method of the file object writes the specified string to the file. It returns the number of characters written.\n",
        "\n",
        "file.close(): This is crucial. It closes the file, which does the following:\n",
        "\n",
        "Flushes any buffered data to the disk, ensuring that the content is actually written to the file.\n",
        "Releases the system resources associated with the open file.\n",
        "try...except block (optional but recommended): This is used for error handling. If any exception occurs during the file operation (e.g., permission issues), the except block will catch it and print an error message, preventing the program from crashing.\n",
        "\n",
        "Method 2: Using the with statement (Recommended)\n",
        "\n",
        "The with statement provides a more elegant and safer way to handle files. It automatically takes care of closing the file, even if exceptions occur."
      ],
      "metadata": {
        "id": "uhsX9whQORjW"
      }
    },
    {
      "cell_type": "code",
      "source": [
        "try:\n",
        "    text_to_write = \"This is another string being written using the 'with' statement.\\n\"\n",
        "\n",
        "    with open(\"another_output.txt\", \"w\") as file:\n",
        "        file.write(text_to_write)\n",
        "\n",
        "    print(\"String successfully written to 'another_output.txt'\")\n",
        "\n",
        "except Exception as e:\n",
        "    print(f\"An error occurred: {e}\")"
      ],
      "metadata": {
        "colab": {
          "base_uri": "https://localhost:8080/"
        },
        "id": "-lFxsa-FOPgZ",
        "outputId": "9c0c1bac-3d4c-4a52-8317-55eb16643695"
      },
      "execution_count": 11,
      "outputs": [
        {
          "output_type": "stream",
          "name": "stdout",
          "text": [
            "String successfully written to 'another_output.txt'\n"
          ]
        }
      ]
    },
    {
      "cell_type": "markdown",
      "source": [
        "You can open a file for writing in Python using the built-in open() function with the write mode ('w'). If the file does not exist, it will be created. If the file already exists, its contents will be truncated (overwritten).\n",
        "\n",
        "Here's how you can do it:\n",
        "\n",
        "Method 1: Basic Opening and Writing\n",
        "\n",
        "Python\n",
        "\n",
        "try:\n",
        "    # Open the file in write mode ('w')\n",
        "    file = open(\"my_output_file.txt\", \"w\")\n",
        "\n",
        "    # The string you want to write\n",
        "    text_to_write = \"Hello, this is some text I am writing to the file.\\n\"\n",
        "\n",
        "    # Write the string to the file\n",
        "    file.write(text_to_write)\n",
        "\n",
        "    # It's important to close the file to save the changes\n",
        "    file.close()\n",
        "\n",
        "    print(\"String successfully written to 'my_output_file.txt'\")\n",
        "\n",
        "except Exception as e:\n",
        "    print(f\"An error occurred: {e}\")\n",
        "Explanation:\n",
        "\n",
        "open(\"my_output_file.txt\", \"w\"):\n",
        "\n",
        "\"my_output_file.txt\" is the name of the file you want to open (or create).\n",
        "\"w\" is the mode. It stands for \"write\". This mode opens the file for writing. If the file exists, its contents are deleted. If it doesn't exist, a new file is created.\n",
        " file = ...: The open() function returns a file object, which we assign to the variable file.\n",
        "\n",
        "text_to_write = \"...\": This is the string that you want to write to the file. The \\n at the end represents a newline character, so the next write operation (if any) will start on a new line.\n",
        "\n",
        "file.write(text_to_write): The write() method of the file object writes the specified string to the file. It returns the number of characters written.\n",
        "\n",
        "file.close(): This is crucial. It closes the file, which does the following:\n",
        "\n",
        "Flushes any buffered data to the disk, ensuring that the content is actually written to the file.\n",
        "Releases the system resources associated with the open file.\n",
        "try...except block (optional but recommended): This is used for error handling. If any exception occurs during the file operation (e.g., permission issues), the except block will catch it and print an error message, preventing the program from crashing.\n",
        "\n",
        "Method 2: Using the with statement (Recommended)\n",
        "\n",
        "The with statement provides a more elegant and safer way to handle files. It automatically takes care of closing the file, even if exceptions occur.\n",
        "\n",
        "Python\n",
        "\n",
        "try:\n",
        "    text_to_write = \"This is another string being written using the 'with' statement.\\n\"\n",
        "\n",
        "    with open(\"another_output.txt\", \"w\") as file:\n",
        "        file.write(text_to_write)\n",
        "\n",
        "    print(\"String successfully written to 'another_output.txt'\")\n",
        "\n",
        "except Exception as e:\n",
        "    print(f\"An error occurred: {e}\")\n",
        "Explanation:\n",
        "\n",
        "with open(\"another_output.txt\", \"w\") as file::\n",
        "This line opens the file in write mode, just like before.\n",
        "The as file part assigns the opened file object to the variable file.\n",
        "The with statement ensures that the file.close() method is automatically called when the block of code under with is finished, even if an error occurs within that block.\n",
        "Recommendation:\n",
        "\n",
        "Using the with statement is generally the recommended approach for file handling in Python because it ensures that files are always closed properly, reducing the risk of data loss or resource leaks.\n"
      ],
      "metadata": {
        "id": "lfFnlc-YOrif"
      }
    },
    {
      "cell_type": "markdown",
      "source": [
        "# Q. 2 Write a Python program to read the contents of a file and print each line\n"
      ],
      "metadata": {
        "id": "Qv5DkKc6O2Ri"
      }
    },
    {
      "cell_type": "code",
      "source": [
        "def read_and_print_lines(filename):\n",
        "    \"\"\"\n",
        "    Reads the contents of a file and prints each line to the console.\n",
        "\n",
        "    Args:\n",
        "        filename (str): The path to the file to be read.\n",
        "    \"\"\"\n",
        "    try:\n",
        "        with open(filename, 'r') as file:\n",
        "            for line in file:\n",
        "                print(line, end='')  # Print the line, keep the original newline\n",
        "    except FileNotFoundError:\n",
        "        print(f\"Error: File '{filename}' not found.\")\n",
        "    except Exception as e:\n",
        "        print(f\"An error occurred while reading the file: {e}\")\n",
        "\n",
        "if __name__ == \"__main__\":\n",
        "    file_to_read = input(\"Enter the name of the file you want to read: \")\n",
        "    read_and_print_lines(file_to_read)"
      ],
      "metadata": {
        "id": "tgHVDgEjMlqa"
      },
      "execution_count": null,
      "outputs": []
    },
    {
      "cell_type": "markdown",
      "source": [
        "Explanation:\n",
        "\n",
        "def read_and_print_lines(filename):: Defines a function named read_and_print_lines that takes the filename as an argument.\n",
        "\n",
        "try...except block: This block is used for error handling. It anticipates potential issues like the file not being found or other errors during the reading process.\n",
        "\n",
        "with open(filename, 'r') as file::\n",
        "\n",
        "open(filename, 'r'): This attempts to open the file specified by the filename in read mode ('r'). If the file exists, it's opened for reading. If it doesn't exist, a FileNotFoundError will be raised.\n",
        "as file: This assigns the opened file object to the variable file.\n",
        "with ...: The with statement ensures that the file is automatically closed when the block of code under it finishes, even if errors occur. This is good practice for resource management.\n",
        "for line in file:: This loop iterates over each line in the file object file. Python treats a file object as an iterator that yields one line of the file at a time.\n",
        "\n",
        "print(line, end=''):\n",
        "\n",
        "print(line): Prints the current line read from the file.\n",
        "end='': By default, the print() function adds a newline character (\\n) at the end of its output. Since each line read from the file already ends with a newline character (unless it's the very last line and doesn't have one), we use end='' to prevent adding an extra newline, which would result in double spacing between the printed lines.\n",
        "except FileNotFoundError:: If the open() function fails to find the specified file, a FileNotFoundError is raised. This except block catches that specific error and prints an informative message to the user.\n",
        "\n",
        "except Exception as e:: This is a more general except block that catches any other potential exceptions that might occur during the file reading process (e.g., permission errors). It prints a generic error message along with the specific error information.\n",
        "\n",
        "if __name__ == \"__main__\":: This is a common Python construct that ensures the code inside this block only runs when the script is executed directly (not when it's imported as a module into another script).\n",
        "\n",
        "file_to_read = input(\"Enter the name of the file you want to read: \"): Prompts the user to enter the name of the file they want to read.\n",
        "\n",
        "read_and_print_lines(file_to_read): Calls the read_and_print_lines function with the filename provided by the user.\n",
        "\n",
        "How to run the program:\n",
        "\n",
        "Save the code as a Python file (e.g., read_file.py).\n",
        "Make sure you have a text file in the same directory (or provide the full path to the file). For example, create a file named my_text_file.txt with some lines of text in it.\n",
        "Open a terminal or command prompt, navigate to the directory where you saved the Python file, and run it using the command: python read_file.py\n",
        "The program will then ask you to enter the name of the file. Type the filename (e.g., my_text_file.txt) and press Enter.\n",
        "The program will read the contents of the specified file and print each line to the console.\n"
      ],
      "metadata": {
        "id": "x9WjwW97PP-l"
      }
    },
    {
      "cell_type": "markdown",
      "source": [
        "# Q.3 How would you handle a case where the file doesn't exist while trying to open it for reading?\n"
      ],
      "metadata": {
        "id": "pia8aulxPaoz"
      }
    },
    {
      "cell_type": "markdown",
      "source": [
        "You would typically handle the case where a file doesn't exist while trying to open it for reading using a try-except block in Python. Specifically, you would catch the FileNotFoundError exception, which is raised when the open() function cannot find the specified file in read mode ('r').\n",
        "\n",
        "Here's how you can do it:"
      ],
      "metadata": {
        "id": "rLDaGWfAPpqZ"
      }
    },
    {
      "cell_type": "code",
      "source": [
        "def read_file_safely(filename):\n",
        "    \"\"\"\n",
        "    Attempts to open and read a file. Handles the case where the file\n",
        "    does not exist.\n",
        "\n",
        "    Args:\n",
        "        filename (str): The path to the file to be read.\n",
        "    \"\"\"\n",
        "    try:\n",
        "        with open(filename, 'r') as file:\n",
        "            contents = file.read()\n",
        "            print(f\"Contents of '{filename}':\\n{contents}\")\n",
        "            return contents\n",
        "    except FileNotFoundError:\n",
        "        print(f\"Error: The file '{filename}' was not found.\")\n",
        "        return None  # Or raise a different exception, or return a specific value\n",
        "    except Exception as e:\n",
        "        print(f\"An unexpected error occurred while reading '{filename}': {e}\")\n",
        "        return None\n",
        "\n",
        "if __name__ == \"__main__\":\n",
        "    file_to_read = input(\"Enter the name of the file you want to read: \")\n",
        "    file_content = read_file_safely(file_to_read)\n",
        "    if file_content is not None:\n",
        "        # You can process the file content here if it was read successfully\n",
        "        print(\"File reading operation completed.\")"
      ],
      "metadata": {
        "id": "_6_AUo1vPEW0"
      },
      "execution_count": null,
      "outputs": []
    },
    {
      "cell_type": "markdown",
      "source": [
        "Explanation:\n",
        "\n",
        "try: block: The code that might raise an exception (in this case, open(filename, 'r')) is placed inside the try block.\n",
        "\n",
        "except FileNotFoundError: block: This specific except block is designed to catch the FileNotFoundError exception. If the open() function cannot find the file specified by filename when trying to open it in read mode ('r'), this block will be executed.\n",
        "\n",
        "Inside this block, you can handle the situation gracefully. In the example, it prints an informative error message to the user indicating that the file was not found.\n",
        "You could also choose to take other actions here, such as:\n",
        "Prompting the user to enter a different filename.\n",
        "Creating a default file if appropriate for your application.\n",
        "Raising a different, more context-specific exception.\n",
        "Returning a specific value (like None as shown) to signal that the file could not be read.\n",
        "except Exception as e: block (optional but recommended): This is a more general exception handler that will catch any other unexpected errors that might occur during the file reading process (e.g., permission issues). It's good practice to include a general exception handler after more specific ones to catch unforeseen problems.\n",
        "\n",
        "with open(...) as file: (inside the try block): Using the with statement ensures that the file is automatically closed after it's done being used, even if exceptions occur within the try block (as long as the open() call itself succeeds).\n",
        "\n",
        "In summary, to handle the case where a file doesn't exist when trying to open it for reading, you should:\n",
        "\n",
        "Wrap the open(filename, 'r') call within a try block.\n",
        "Use an except FileNotFoundError: block to specifically catch the exception raised when the file is not found.\n",
        "Inside the except block, implement the desired behavior for when the file doesn't exist (e.g., print an error message, prompt for a new filename, return a specific value).\n",
        "Consider including a more general except Exception as e: block to catch any other potential errors during the file operation.\n",
        "\n"
      ],
      "metadata": {
        "id": "HPelVqEUP0sW"
      }
    },
    {
      "cell_type": "markdown",
      "source": [
        "# Q. 4 Write a Python script that reads from one file and writes its content to another file ?\n"
      ],
      "metadata": {
        "id": "SVjxS3VdQNRP"
      }
    },
    {
      "cell_type": "code",
      "source": [
        "def copy_file_content(source_filename, destination_filename):\n",
        "    \"\"\"\n",
        "    Reads the entire content of the source file and writes it to the\n",
        "    destination file.\n",
        "\n",
        "    Args:\n",
        "        source_filename (str): The path to the file to be read from.\n",
        "        destination_filename (str): The path to the file to be written to.\n",
        "    \"\"\"\n",
        "    try:\n",
        "        with open(source_filename, 'r') as source_file:\n",
        "            content = source_file.read()\n",
        "        with open(destination_filename, 'w') as destination_file:\n",
        "            destination_file.write(content)\n",
        "        print(f\"Successfully copied content from '{source_filename}' to '{destination_filename}'.\")\n",
        "    except FileNotFoundError:\n",
        "        print(f\"Error: Source file '{source_filename}' not found.\")\n",
        "    except Exception as e:\n",
        "        print(f\"An error occurred during file operation: {e}\")\n",
        "\n",
        "if __name__ == \"__main__\":\n",
        "    source_file = input(\"Enter the name of the source file: \")\n",
        "    destination_file = input(\"Enter the name of the destination file: \")\n",
        "    copy_file_content(source_file, destination_file)"
      ],
      "metadata": {
        "id": "PpUs2o30PthU"
      },
      "execution_count": null,
      "outputs": []
    },
    {
      "cell_type": "markdown",
      "source": [
        "In this version:\n",
        "\n",
        "Files are opened in binary mode ('rb' for read binary, 'wb' for write binary) to handle any type of file content correctly.\n",
        "source_file.read(chunk_size) reads a specific chunk of bytes from the source file.\n",
        "The loop continues until source_file.read() returns an empty bytes object, indicating the end of the file.\n",
        "Each chunk is immediately written to the destination file.\n",
        "This chunking method is much more memory-efficient for large files as it only loads a small portion of the file into memory at a time."
      ],
      "metadata": {
        "id": "09v5JNRnQp2p"
      }
    },
    {
      "cell_type": "markdown",
      "source": [
        "# Q. 5 How would you catch and handle division by zero error in Python ?\n"
      ],
      "metadata": {
        "id": "mL6X3tAUQumY"
      }
    },
    {
      "cell_type": "markdown",
      "source": [
        " You can catch and handle the division by zero error in Python using a try-except block. The specific exception that Python raises when you attempt to divide a number by zero is ZeroDivisionError.\n",
        "\n",
        "Here's how you would do it:"
      ],
      "metadata": {
        "id": "lV8Jm2dxRBFy"
      }
    },
    {
      "cell_type": "code",
      "source": [
        "def divide_numbers(numerator, denominator):\n",
        "    \"\"\"\n",
        "    Divides two numbers and handles the ZeroDivisionError.\n",
        "\n",
        "    Args:\n",
        "        numerator (float or int): The number to be divided.\n",
        "        denominator (float or int): The number to divide by.\n",
        "\n",
        "    Returns:\n",
        "        float or str: The result of the division, or an error message.\n",
        "    \"\"\"\n",
        "    try:\n",
        "        result = numerator / denominator\n",
        "        return result\n",
        "    except ZeroDivisionError:\n",
        "        return \"Error: Cannot divide by zero.\"\n",
        "    except TypeError:\n",
        "        return \"Error: Both numerator and denominator must be numbers.\"\n",
        "\n",
        "# Example usage\n",
        "num1 = 10\n",
        "num2 = 0\n",
        "result1 = divide_numbers(num1, num2)\n",
        "print(f\"Result of {num1} / {num2}: {result1}\")\n",
        "\n",
        "num3 = 5\n",
        "num4 = 2\n",
        "result2 = divide_numbers(num3, num4)\n",
        "print(f\"Result of {num3} / {num4}: {result2}\")\n",
        "\n",
        "num5 = \"abc\"\n",
        "num6 = 5\n",
        "result3 = divide_numbers(num5, num6)\n",
        "print(f\"Result of {num5} / {num6}: {result3}\")"
      ],
      "metadata": {
        "id": "4AhxVoBBQbDe"
      },
      "execution_count": null,
      "outputs": []
    },
    {
      "cell_type": "markdown",
      "source": [
        "Explanation:\n",
        "\n",
        "try: block: The code that might potentially raise a ZeroDivisionError (in this case, the division operation numerator / denominator) is placed inside the try block.\n",
        "\n",
        "except ZeroDivisionError: block: This except block is specifically designed to catch the ZeroDivisionError exception. If a division by zero occurs within the try block, the code inside this except block will be executed.\n",
        "\n",
        "In this example, if a ZeroDivisionError occurs, the function returns the string \"Error: Cannot divide by zero.\". You could also choose to print an error message, log the error, or take other appropriate actions here.\n",
        "except TypeError: block (optional but good practice): This except block handles the case where the numerator or denominator are not numbers, which would also lead to a TypeError during the division operation.\n",
        "\n",
        "Return Value: The function is designed to return either the result of the division (if successful) or an error message (if a ZeroDivisionError or TypeError occurs).\n",
        "\n",
        "Alternative Ways to Handle It:\n",
        "\n",
        "You could also choose to handle the error differently within the except block:\n",
        "\n",
        "Print an error message and continue:"
      ],
      "metadata": {
        "id": "EOpyPRxyRQR0"
      }
    },
    {
      "cell_type": "code",
      "source": [
        "try:\n",
        "    result = numerator / denominator\n",
        "    print(f\"Result: {result}\")\n",
        "except ZeroDivisionError:\n",
        "    print(\"Error: Division by zero occurred. Skipping this operation.\")\n",
        "    # You might set a default value or take other actions here"
      ],
      "metadata": {
        "id": "PgQxTXUlRFY3"
      },
      "execution_count": null,
      "outputs": []
    },
    {
      "cell_type": "markdown",
      "source": [
        "Raise a different exception: You could catch ZeroDivisionError and raise a custom exception or a different built-in exception with more context:"
      ],
      "metadata": {
        "id": "INCgPIbGRzSO"
      }
    },
    {
      "cell_type": "code",
      "source": [
        "class MathOperationError(Exception):\n",
        "    pass\n",
        "\n",
        "try:\n",
        "    result = numerator / denominator\n",
        "    return result\n",
        "except ZeroDivisionError:\n",
        "    raise MathOperationError(\"Attempted division by zero.\") from None"
      ],
      "metadata": {
        "id": "qbOxXJ8uRg9q"
      },
      "execution_count": null,
      "outputs": []
    },
    {
      "cell_type": "markdown",
      "source": [
        "The from None prevents chaining the original ZeroDivisionError to the new MathOperationError.\n",
        "\n",
        "Log the error: Instead of or in addition to printing, you could use the logging module to record the error for later analysis.\n",
        "\n",
        "The best approach depends on the specific requirements of your program and how you want to handle such errors. Returning an error value or raising a custom exception often allows the calling code to decide how to proceed in the face of the error. Printing a message might be suitable for simple scripts or interactive use.\n"
      ],
      "metadata": {
        "id": "g8lnMgZvSU_G"
      }
    },
    {
      "cell_type": "markdown",
      "source": [
        "# Q. 6 Write a Python program that logs an error message to a log file when a division by zero exception occurs?\n"
      ],
      "metadata": {
        "id": "IY4w6XvzScX7"
      }
    },
    {
      "cell_type": "code",
      "source": [
        "import logging\n",
        "\n",
        "# Configure the logging system\n",
        "logging.basicConfig(filename='division_errors.log', level=logging.ERROR,\n",
        "                    format='%(asctime)s - %(levelname)s - %(message)s')\n",
        "\n",
        "def divide_numbers(numerator, denominator):\n",
        "    \"\"\"\n",
        "    Divides two numbers and logs an error if a ZeroDivisionError occurs.\n",
        "\n",
        "    Args:\n",
        "        numerator (float or int): The number to be divided.\n",
        "        denominator (float or int): The number to divide by.\n",
        "\n",
        "    Returns:\n",
        "        float or None: The result of the division, or None if an error occurred.\n",
        "    \"\"\"\n",
        "    try:\n",
        "        result = numerator / denominator\n",
        "        return result\n",
        "    except ZeroDivisionError:\n",
        "        logging.error(f\"Attempted division by zero with numerator={numerator} and denominator={denominator}\")\n",
        "        return None\n",
        "    except TypeError:\n",
        "        logging.error(f\"TypeError: Both numerator and denominator must be numbers. Received numerator='{numerator}' and denominator='{denominator}'\")\n",
        "        return None\n",
        "\n",
        "if __name__ == \"__main__\":\n",
        "    num1 = 10\n",
        "    num2 = 0\n",
        "    result1 = divide_numbers(num1, num2)\n",
        "    if result1 is None:\n",
        "        print(f\"Division of {num1} by {num2} resulted in an error (logged to division_errors.log).\")\n",
        "    else:\n",
        "        print(f\"Result of {num1} / {num2}: {result1}\")\n",
        "\n",
        "    num3 = 5\n",
        "    num4 = 2\n",
        "    result2 = divide_numbers(num3, num4)\n",
        "    if result2 is not None:\n",
        "        print(f\"Result of {num3} / {num4}: {result2}\")\n",
        "\n",
        "    num5 = \"abc\"\n",
        "    num6 = 5\n",
        "    result3 = divide_numbers(num5, num6)\n",
        "    if result3 is None:\n",
        "        print(f\"Division of '{num5}' by {num6} resulted in an error (logged to division_errors.log).\")"
      ],
      "metadata": {
        "id": "53EAfqDHSPht"
      },
      "execution_count": null,
      "outputs": []
    },
    {
      "cell_type": "markdown",
      "source": [
        "Explanation:\n",
        "\n",
        "import logging: Imports the logging module, which provides the necessary functionality for logging.\n",
        "\n",
        "logging.basicConfig(...): Configures the basic logging setup:\n",
        "\n",
        "filename='division_errors.log': Specifies that log messages should be written to a file named division_errors.log. If the file doesn't exist, it will be created. If it does exist, new log messages will be appended.\n",
        "level=logging.ERROR: Sets the logging level to logging.ERROR. This means that only log messages with a severity level of ERROR or higher (CRITICAL) will be recorded in the log file. INFO and WARNING messages will be ignored.\n",
        "format='%(asctime)s - %(levelname)s - %(message)s': Defines the format of the log messages:\n",
        "%(asctime)s: The timestamp when the log record was created.\n",
        "%(levelname)s: The severity level of the log message (e.g., ERROR).\n",
        "%(message)s: The actual log message.\n",
        "def divide_numbers(numerator, denominator):: Defines the function that performs the division.\n",
        "\n",
        "try...except ZeroDivisionError:: The division operation is placed within a try block. If a ZeroDivisionError occurs:\n",
        "\n",
        "logging.error(f\"Attempted division by zero with numerator={numerator} and denominator={denominator}\"): An error message is logged to the division_errors.log file using logging.error(). The message includes information about the numerator and denominator that caused the error, which can be helpful for debugging.\n",
        "return None: The function returns None to indicate that the division failed due to a division by zero.\n",
        "except TypeError:: Handles the case where the inputs are not numbers and logs a corresponding error message.\n",
        "\n",
        "if __name__ == \"__main__\":: Ensures the code inside this block runs only when the script is executed directly.\n",
        "\n",
        "Example Usage: The code demonstrates how to call the divide_numbers function with different inputs, including a case that will cause a ZeroDivisionError and cases with valid division and a TypeError. The output to the console informs the user whether the division was successful or resulted in an error (which was logged to the file).\n",
        "\n",
        "To run this script:\n",
        "\n",
        "Save the code as a Python file (e.g., division_logger.py).\n",
        "Run the script from your terminal: python division_logger.py\n",
        "Observe the output on the console.\n",
        "A file named division_errors.log will be created (or appended to) in the same directory. Open this file to see the logged error messages whenever a division by zero or a type error occurred.\n",
        "Each time a division by zero happens, an entry similar to the following will be added to division_errors.log:\n",
        "\n",
        "2025-05-04 13:24:58,123 - ERROR - Attempted division by zero with numerator=10 and denominator=0\n",
        "\n",
        "(The timestamp will reflect the actual time of the error)."
      ],
      "metadata": {
        "id": "zZMEYwj52tRS"
      }
    },
    {
      "cell_type": "markdown",
      "source": [
        "# Q. 7 How do you log information at different levels (INFO, ERROR, WARNING) in Python using the logging module?\n"
      ],
      "metadata": {
        "id": "9aVZ58KA27i7"
      }
    },
    {
      "cell_type": "code",
      "source": [
        "import logging\n",
        "\n",
        "# Configure the logging system (do this once at the beginning of your script)\n",
        "logging.basicConfig(filename='app.log', level=logging.INFO,\n",
        "                    format='%(asctime)s - %(levelname)s - %(name)s - %(message)s')\n",
        "\n",
        "# Get a logger instance (it's good practice to use the module name)\n",
        "logger = logging.getLogger(__name__)\n",
        "\n",
        "def process_data(data):\n",
        "    logger.info(f\"Processing data: {data}\")\n",
        "    if not data:\n",
        "        logger.warning(\"Received empty data for processing.\")\n",
        "        return None\n",
        "    try:\n",
        "        result = len(data)\n",
        "        logger.info(f\"Successfully processed data. Length: {result}\")\n",
        "        return result\n",
        "    except Exception as e:\n",
        "        logger.error(f\"An error occurred during data processing: {e}\")\n",
        "        return None\n",
        "\n",
        "def perform_calculation(x, y):\n",
        "    logger.info(f\"Performing calculation with x={x}, y={y}\")\n",
        "    if y == 0:\n",
        "        logger.error(\"Attempted division by zero.\")\n",
        "        return None\n",
        "    try:\n",
        "        result = x / y\n",
        "        logger.info(f\"Calculation successful. Result: {result}\")\n",
        "        return result\n",
        "    except TypeError:\n",
        "        logger.error(f\"TypeError: Both inputs must be numbers. Received x='{x}', y='{y}'\")\n",
        "        return None\n",
        "\n",
        "if __name__ == \"__main__\":\n",
        "    data1 = \"example data\"\n",
        "    process_data(data1)\n",
        "\n",
        "    data2 = \"\"\n",
        "    process_data(data2)\n",
        "\n",
        "    result1 = perform_calculation(10, 2)\n",
        "    if result1 is not None:\n",
        "        print(f\"Calculation result: {result1}\")\n",
        "\n",
        "    result2 = perform_calculation(5, 0)\n",
        "    if result2 is None:\n",
        "        print(\"Calculation failed (logged to app.log).\")\n",
        "\n",
        "    result3 = perform_calculation(\"a\", 5)\n",
        "    if result3 is None:\n",
        "        print(\"Calculation failed (logged to app.log).\")\n",
        "\n",
        "    logger.info(\"Script execution finished.\")"
      ],
      "metadata": {
        "colab": {
          "base_uri": "https://localhost:8080/"
        },
        "id": "NahUmTONSnDj",
        "outputId": "7d94babd-ac55-4196-b63a-fcb4a5288734"
      },
      "execution_count": 1,
      "outputs": [
        {
          "output_type": "stream",
          "name": "stderr",
          "text": [
            "WARNING:__main__:Received empty data for processing.\n",
            "ERROR:__main__:Attempted division by zero.\n",
            "ERROR:__main__:TypeError: Both inputs must be numbers. Received x='a', y='5'\n"
          ]
        },
        {
          "output_type": "stream",
          "name": "stdout",
          "text": [
            "Calculation result: 5.0\n",
            "Calculation failed (logged to app.log).\n",
            "Calculation failed (logged to app.log).\n"
          ]
        }
      ]
    },
    {
      "cell_type": "markdown",
      "source": [
        "Explanation:\n",
        "\n",
        "import logging: Imports the logging module.\n",
        "\n",
        "logging.basicConfig(...): This line configures the basic logging settings. You typically do this once at the beginning of your script:\n",
        "\n",
        "filename='app.log': Specifies that log messages will be written to a file named app.log.\n",
        "level=logging.INFO: Sets the root logger's level to logging.INFO. This means that only messages with a severity level of INFO, WARNING, ERROR, or CRITICAL will be processed by this logger and its handlers. DEBUG messages will be ignored.\n",
        "format='%(asctime)s - %(levelname)s - %(name)s - %(message)s': Defines the format of the log messages:\n",
        "%(asctime)s: The timestamp when the log record was created.\n",
        "%(levelname)s: The severity level of the log message (e.g., INFO, WARNING, ERROR).\n",
        "%(name)s: The name of the logger that emitted the message (in this case, __main__ for the top-level script).\n",
        "%(message)s: The actual log message you provide.\n",
        "logger = logging.getLogger(__name__): This gets a logger instance. It's a good practice to use __name__ as the logger name, which will be the name of your module when it's run.\n",
        "\n",
        "Logging at Different Levels:\n",
        "\n",
        "logger.info(message): Used to log informational messages that indicate normal operation or significant events.\n",
        "logger.warning(message): Used to log messages indicating potential problems or unexpected situations that haven't broken anything yet but should be looked into.\n",
        "logger.error(message): Used to log messages indicating that a specific operation failed. The application might still be running, but some functionality is affected.\n",
        "Example Usage: The process_data and perform_calculation functions demonstrate how to use these logging methods at different points to record the flow of execution, potential issues (empty data, division by zero), and errors (TypeError).\n",
        "\n",
        "How to Run and Observe the Logs:\n",
        "\n",
        "Save the code as a Python file (e.g., logging_example.py).\n",
        "Run the script from your terminal: python logging_example.py\n",
        "You will see some output on the console (the print() statements).\n",
        "A file named app.log will be created (or appended to) in the same directory. Open this file to see the logged messages:\n",
        "2025-05-04 16:03:59,123 - INFO - __main__ - Processing data: example data\n",
        "2025-05-04 16:03:59,123 - INFO - __main__ - Successfully processed data. Length: 12\n",
        "2025-05-04 16:03:59,123 - INFO - __main__ - Processing data:\n",
        "2025-05-04 16:03:59,123 - WARNING - __main__ - Received empty data for processing.\n",
        "2025-05-04 16:03:59,123 - INFO - __main__ - Performing calculation with x=10, y=2\n",
        "2025-05-04 16:03:59,123 - INFO - __main__ - Calculation successful. Result: 5.0\n",
        "2025-05-04 16:03:59,123 - INFO - __main__ - Performing calculation with x=5, y=0\n",
        "2025-05-04 16:03:59,123 - ERROR - __main__ - Attempted division by zero.\n",
        "2025-05-04 16:03:59,123 - INFO - __main__ - Performing calculation with x=a, y=5\n",
        "2025-05-04 16:03:59,123 - ERROR - __main__ - TypeError: Both inputs must be numbers. Received x='a', y='5'\n",
        "2025-05-04 16:03:59,123 - INFO - __main__ - Script execution finished.\n",
        "As you can see, the log file contains messages at the INFO, WARNING, and ERROR levels, along with timestamps and the name of the logger. The DEBUG level messages (if you had any) would not be included because the root logger's level was set to INFO.\n",
        "\n",
        "You can adjust the level in logging.basicConfig() to control which severity of messages gets logged. For example, setting level=logging.DEBUG would log all messages, while level=logging.ERROR would only log error and critical messages.\n",
        "\n",
        "\n",
        "\n",
        "\n",
        "\n",
        "\n"
      ],
      "metadata": {
        "id": "Bmmx0Ma53Rup"
      }
    },
    {
      "cell_type": "markdown",
      "source": [
        "# Q. 8 Write a program to handle a file opening error using exception handling?\n"
      ],
      "metadata": {
        "id": "Uh0sTtRT3hnX"
      }
    },
    {
      "cell_type": "code",
      "source": [
        "def open_file_safely(filename, mode='r'):\n",
        "    \"\"\"\n",
        "    Attempts to open a file in the specified mode and handles potential\n",
        "    FileNotFoundError and other exceptions.\n",
        "\n",
        "    Args:\n",
        "        filename (str): The path to the file to be opened.\n",
        "        mode (str): The mode in which to open the file (default is 'r' for read).\n",
        "\n",
        "    Returns:\n",
        "        file object: The opened file object if successful, None otherwise.\n",
        "    \"\"\"\n",
        "    file = None\n",
        "    try:\n",
        "        file = open(filename, mode)\n",
        "        print(f\"Successfully opened file '{filename}' in '{mode}' mode.\")\n",
        "        return file\n",
        "    except FileNotFoundError:\n",
        "        print(f\"Error: The file '{filename}' was not found.\")\n",
        "        return None\n",
        "    except PermissionError:\n",
        "        print(f\"Error: Permission denied to open file '{filename}'.\")\n",
        "        return None\n",
        "    except Exception as e:\n",
        "        print(f\"An unexpected error occurred while opening '{filename}': {e}\")\n",
        "        return None\n",
        "    finally:\n",
        "        # It's important to ensure the file is closed if it was opened\n",
        "        if file:\n",
        "            # The 'with' statement is generally preferred for automatic closing\n",
        "            # but we handle closing explicitly here for demonstration.\n",
        "            # In a real application, you might process the file within the 'try'\n",
        "            # block if successful and rely on 'with' for closing.\n",
        "            print(\"Note: File object was created, but will be the caller's responsibility to close if returned.\")\n",
        "\n",
        "if __name__ == \"__main__\":\n",
        "    file_to_open = input(\"Enter the name of the file you want to open: \")\n",
        "    open_mode = input(\"Enter the mode to open the file (e.g., 'r', 'w', 'a'): \")\n",
        "\n",
        "    opened_file = open_file_safely(file_to_open, open_mode)\n",
        "\n",
        "    if opened_file:\n",
        "        print(\"\\nFile object obtained. Remember to close it when you are done.\")\n",
        "        # Perform operations on the file here\n",
        "        try:\n",
        "            if opened_file.mode == 'r':\n",
        "                contents = opened_file.read()\n",
        "                print(f\"\\nContents of the file:\\n{contents}\")\n",
        "            elif opened_file.mode in ('w', 'a'):\n",
        "                text_to_write = input(\"Enter text to write to the file: \")\n",
        "                opened_file.write(text_to_write + \"\\n\")\n",
        "                print(\"Text written to the file.\")\n",
        "        except Exception as e:\n",
        "            print(f\"An error occurred while operating on the file: {e}\")\n",
        "        finally:\n",
        "            opened_file.close()\n",
        "            print(f\"File '{opened_file.name}' closed.\")\n",
        "    else:\n",
        "        print(\"Could not open the file, so no further operations were performed.\")"
      ],
      "metadata": {
        "id": "z1XD3BuX3GdS"
      },
      "execution_count": null,
      "outputs": []
    },
    {
      "cell_type": "markdown",
      "source": [
        "Explanation:\n",
        "\n",
        "def open_file_safely(filename, mode='r'):: Defines a function that takes the filename and an optional mode (defaulting to read mode 'r') as arguments.\n",
        "\n",
        "file = None: Initializes a file variable to None. This will hold the file object if the opening is successful.\n",
        "\n",
        "try: block: The code that might raise an exception (the open() function call) is placed inside the try block.\n",
        "\n",
        "file = open(filename, mode): Attempts to open the specified file in the given mode. If successful, a file object is returned and assigned to the file variable.\n",
        "\n",
        "print(f\"Successfully opened file '{filename}' in '{mode}' mode.\"): If the file is opened successfully, a success message is printed.\n",
        "\n",
        "return file: The opened file object is returned.\n",
        "\n",
        "except FileNotFoundError: block: This specific except block catches the FileNotFoundError that occurs if the file specified by filename does not exist when trying to open it in read mode (or any mode where the file is expected to exist). An informative error message is printed, and None is returned.\n",
        "\n",
        "except PermissionError: block: This except block catches the PermissionError that occurs if the program does not have the necessary permissions to open the file (e.g., trying to read a file with restricted access). An error message is printed, and None is returned.\n",
        "\n",
        "except Exception as e: block: This is a more general except block that catches any other unexpected errors that might occur during the file opening process. It prints a generic error message along with the specific error information and returns None.\n",
        "\n",
        "finally: block: This block is executed regardless of whether an exception occurred in the try block or not.\n",
        "\n",
        "if file:: It checks if the file object was successfully created (i.e., the open() call did not raise an exception).\n",
        "print(\"Note: File object was created, but will be the caller's responsibility to close if returned.\"): A note is printed to remind the caller that if the file was opened successfully, they will need to close it when they are finished with it (though using with is generally preferred for automatic closing).\n",
        "if __name__ == \"__main__\":: This block contains the main part of the script that runs when the file is executed directly.\n",
        "\n",
        "User Input: It prompts the user to enter the filename and the mode to open the file.\n",
        "\n",
        "Calling open_file_safely(): The open_file_safely() function is called with the user-provided filename and mode.\n",
        "\n",
        "Handling the Returned File Object:\n",
        "\n",
        "If open_file_safely() returns a file object (not None), it means the file was opened successfully. The script then proceeds to perform some basic operations based on the mode (reading or writing) and ensures the file is closed in a finally block to handle potential errors during these operations as well.\n",
        "If open_file_safely() returns None, it means an error occurred while opening the file, and a corresponding message is printed.\n",
        "This program demonstrates how to use try-except blocks to gracefully handle potential file opening errors, providing informative messages to the user and preventing the program from crashing. The finally block ensures that if a file object was created, there's a mechanism (though the responsibility is shifted to the caller in this explicit example) to handle its closure. In a more typical scenario, you would process the file within the try block if it's opened successfully and rely on the with statement for automatic closing.\n",
        "\n",
        "\n",
        "\n",
        "\n",
        "\n",
        "\n"
      ],
      "metadata": {
        "id": "ZLzHvThf4YxR"
      }
    },
    {
      "cell_type": "markdown",
      "source": [
        "# Q.9 How can you read a file line by line and store its content in a list in Python ?\n"
      ],
      "metadata": {
        "id": "U9GDT1h84dMI"
      }
    },
    {
      "cell_type": "code",
      "source": [
        "def read_file_to_list(filename):\n",
        "    \"\"\"\n",
        "    Reads a file line by line and stores each line in a list.\n",
        "\n",
        "    Args:\n",
        "        filename (str): The path to the file to be read.\n",
        "\n",
        "    Returns:\n",
        "        list: A list where each element is a line from the file,\n",
        "              or None if an error occurred.\n",
        "    \"\"\"\n",
        "    try:\n",
        "        with open(filename, 'r') as file:\n",
        "            lines = file.readlines()\n",
        "        return lines\n",
        "    except FileNotFoundError:\n",
        "        print(f\"Error: File '{filename}' not found.\")\n",
        "        return None\n",
        "    except Exception as e:\n",
        "        print(f\"An error occurred while reading '{filename}': {e}\")\n",
        "        return None\n",
        "\n",
        "if __name__ == \"__main__\":\n",
        "    file_to_read = input(\"Enter the name of the file you want to read: \")\n",
        "    file_lines = read_file_to_list(file_to_read)\n",
        "\n",
        "    if file_lines:\n",
        "        print(\"\\nContents of the file stored in a list:\")\n",
        "        for index, line in enumerate(file_lines):\n",
        "            print(f\"Line {index + 1}: '{line.rstrip()}'\")\n",
        "            # .rstrip() is used to remove the trailing newline character\n",
        "            # that is typically included when reading lines."
      ],
      "metadata": {
        "id": "q8ev_LNk4IyA"
      },
      "execution_count": null,
      "outputs": []
    },
    {
      "cell_type": "markdown",
      "source": [
        "Explanation:\n",
        "\n",
        "def read_file_to_list(filename):: Defines a function that takes the filename as input.\n",
        "\n",
        "try...except block: This handles potential errors during file operations.\n",
        "\n",
        "with open(filename, 'r') as file::\n",
        "\n",
        "Opens the specified filename in read mode ('r').\n",
        "The with statement ensures that the file is automatically closed after the block finishes, even if errors occur.\n",
        "The opened file object is assigned to the variable file.\n",
        "lines = file.readlines():\n",
        "\n",
        "The readlines() method of the file object reads all the lines from the file and returns them as a list of strings. Each string in the list represents a line from the file, including the1 trailing newline character (\\n) if present.\n",
        "1.\n",
        "github.com\n",
        "github.com\n",
        "return lines: The function returns the list of lines read from the file.\n",
        "\n",
        "except FileNotFoundError:: If the file specified by filename is not found, a FileNotFoundError is raised. This block catches the error, prints an informative message, and returns None.\n",
        "\n",
        "except Exception as e:: This is a more general exception handler that catches any other potential errors during the file reading process and prints an error message along with the specific error. It also returns None.\n",
        "\n",
        "if __name__ == \"__main__\":: This block executes when the script is run directly.\n",
        "\n",
        "file_to_read = input(...): Prompts the user to enter the name of the file.\n",
        "\n",
        "file_lines = read_file_to_list(...): Calls the read_file_to_list function to get the list of lines.\n",
        "\n",
        "if file_lines:: Checks if the read_file_to_list function returned a list (i.e., no error occurred).\n",
        "\n",
        "print(\"\\nContents of the file stored in a list:\"): Prints a header.\n",
        "\n",
        "for index, line in enumerate(file_lines):: Iterates through the file_lines list, providing both the index and the line content.\n",
        "\n",
        "print(f\"Line {index + 1}: '{line.rstrip()}'\"): Prints each line along with its line number. .rstrip() is used to remove any trailing whitespace characters, including the newline character (\\n), from the end of each line for cleaner output.\n",
        "\n",
        "How to run the program:\n",
        "\n",
        "Save the code as a Python file (e.g., read_to_list.py).\n",
        "Make sure you have a text file in the same directory (or provide the full path to the file).\n",
        "Open a terminal or command prompt, navigate to the directory where you saved the Python file, and run it using the command: python read_to_list.py\n",
        "Enter the name of the file you want to read when prompted.\n",
        "The program will then read the file and print each line from the resulting list."
      ],
      "metadata": {
        "id": "pEienjyL4wXG"
      }
    },
    {
      "cell_type": "markdown",
      "source": [
        "# Q. 10 How can you append data to an existing file in Python ?\n"
      ],
      "metadata": {
        "id": "v6Ubt3qC44XH"
      }
    },
    {
      "cell_type": "markdown",
      "source": [
        " You can append data to an existing file in Python by opening the file in append mode ('a'). When you open a file in append mode, the file pointer is set to the end of the file. Any data you write will be added to the end of the file, without overwriting the existing content.\n",
        "\n",
        "Here's how you can do it:"
      ],
      "metadata": {
        "id": "qwOvnGVW5B4e"
      }
    },
    {
      "cell_type": "code",
      "source": [
        "def append_to_file(filename, data_to_append):\n",
        "    \"\"\"\n",
        "    Appends the given data (string) to the end of an existing file.\n",
        "\n",
        "    Args:\n",
        "        filename (str): The path to the file to append to.\n",
        "        data_to_append (str): The string data to add to the file.\n",
        "    \"\"\"\n",
        "    try:\n",
        "        with open(filename, 'a') as file:\n",
        "            file.write(data_to_append)\n",
        "        print(f\"Successfully appended data to '{filename}'.\")\n",
        "    except FileNotFoundError:\n",
        "        print(f\"Error: File '{filename}' not found. It will be created.\")\n",
        "        # If the file doesn't exist, opening in 'a' mode will create it.\n",
        "        # You might want to handle this differently based on your needs.\n",
        "        with open(filename, 'w') as file:\n",
        "            file.write(data_to_append)\n",
        "        print(f\"File '{filename}' created and data written.\")\n",
        "    except Exception as e:\n",
        "        print(f\"An error occurred while appending to '{filename}': {e}\")\n",
        "\n",
        "if __name__ == \"__main__\":\n",
        "    file_to_append = input(\"Enter the name of the file to append to: \")\n",
        "    data = input(\"Enter the data you want to append: \")\n",
        "\n",
        "    # It's often a good idea to add a newline character so the appended data\n",
        "    # starts on a new line in the file.\n",
        "    data_with_newline = data + \"\\n\"\n",
        "\n",
        "    append_to_file(file_to_append, data_with_newline)"
      ],
      "metadata": {
        "id": "NyrMKuUQ5FFo"
      },
      "execution_count": null,
      "outputs": []
    },
    {
      "cell_type": "markdown",
      "source": [
        "Explanation:\n",
        "\n",
        "def append_to_file(filename, data_to_append):: Defines a function that takes the filename and the data to append as arguments.\n",
        "\n",
        "try...except block: This handles potential errors during file operations.\n",
        "\n",
        "with open(filename, 'a') as file::\n",
        "\n",
        "open(filename, 'a'): Opens the specified filename in append mode ('a').\n",
        "If the file exists, the file pointer is placed at the end of the file.\n",
        "If the file does not exist, a new empty file with that name is created.\n",
        "The with statement ensures that the file is automatically closed after the block.\n",
        "The opened file object is assigned to the variable file.\n",
        "file.write(data_to_append): Writes the data_to_append (which is a string) to the end of the file.\n",
        "\n",
        "print(f\"Successfully appended data to '{filename}'.\"): Prints a success message if the append operation is successful.\n",
        "\n",
        "except FileNotFoundError:: This except block is included for clarity, although when you open a file in append mode ('a'), if the file doesn't exist, it will be created. The code inside this block handles the case where the file was initially not found and was created. You might want to adjust this behavior based on your application's requirements (e.g., raise an error if the file must exist).\n",
        "\n",
        "except Exception as e:: This is a more general exception handler that catches any other potential errors during the file appending process and prints an error message along with the specific error.\n",
        "\n",
        "if __name__ == \"__main__\":: This block executes when the script is run directly.\n",
        "\n",
        "User Input: Prompts the user to enter the name of the file to append to and the data they want to add.\n",
        "\n",
        "Adding a Newline: It's often good practice to add a newline character (\\n) to the end of the data being appended so that subsequent appends or reads will treat each appended piece as a separate line.\n",
        "\n",
        "Calling append_to_file(): Calls the function to perform the append operation.\n",
        "\n",
        "How to run the program:\n",
        "\n",
        "Save the code as a Python file (e.g., append_file.py).\n",
        "Run the script from your terminal: python append_file.py\n",
        "Enter the name of an existing file (or a new name to create one).\n",
        "Enter the data you want to append.\n",
        "Run the script multiple times with different data to see it being appended to the file.\n",
        "You can then open the file in a text editor to verify that the data has been added to the end.\n"
      ],
      "metadata": {
        "id": "50DBPtfz5Ht2"
      }
    },
    {
      "cell_type": "markdown",
      "source": [
        "# Q.11 Write a Python program that uses a try-except block to handle an error when attempting to access a dictionary key that doesn't exist ?"
      ],
      "metadata": {
        "id": "w9Cbs7bG5Xn0"
      }
    },
    {
      "cell_type": "code",
      "source": [
        "def access_dictionary_key(data_dict, key):\n",
        "    \"\"\"\n",
        "    Attempts to access a key in the given dictionary and handles\n",
        "    the KeyError if the key does not exist.\n",
        "\n",
        "    Args:\n",
        "        data_dict (dict): The dictionary to access.\n",
        "        key: The key to look for in the dictionary.\n",
        "\n",
        "    Returns:\n",
        "        The value associated with the key if it exists, otherwise None.\n",
        "    \"\"\"\n",
        "    try:\n",
        "        value = data_dict[key]\n",
        "        print(f\"Value for key '{key}': {value}\")\n",
        "        return value\n",
        "    except KeyError:\n",
        "        print(f\"Error: Key '{key}' not found in the dictionary.\")\n",
        "        return None\n",
        "    except Exception as e:\n",
        "        print(f\"An unexpected error occurred: {e}\")\n",
        "        return None\n",
        "\n",
        "if __name__ == \"__main__\":\n",
        "    my_dictionary = {\"name\": \"Alice\", \"age\": 30, \"city\": \"New York\"}\n",
        "\n",
        "    # Try accessing existing keys\n",
        "    access_dictionary_key(my_dictionary, \"name\")\n",
        "    access_dictionary_key(my_dictionary, \"age\")\n",
        "\n",
        "    # Try accessing a non-existent key\n",
        "    access_dictionary_key(my_dictionary, \"country\")\n",
        "\n",
        "    # Try accessing with a wrong type (might raise other errors)\n",
        "    access_dictionary_key(my_dictionary, 123)"
      ],
      "metadata": {
        "id": "alUy-vPL4p-V"
      },
      "execution_count": null,
      "outputs": []
    },
    {
      "cell_type": "markdown",
      "source": [
        "Explanation:\n",
        "\n",
        "def access_dictionary_key(data_dict, key):: Defines a function that takes a dictionary data_dict and a key as input.\n",
        "\n",
        "try: block: The code that might raise a KeyError (accessing a non-existent key using data_dict[key]) is placed inside the try block.\n",
        "\n",
        "value = data_dict[key]: This line attempts to access the value associated with the given key in the data_dict. If the key exists, its value is assigned to the value variable.\n",
        "\n",
        "print(f\"Value for key '{key}': {value}\"): If the key exists, the value is printed.\n",
        "\n",
        "return value: The function returns the value associated with the key.\n",
        "\n",
        "except KeyError: block: This except block specifically catches the KeyError exception, which is raised when you try to access a key that is not present in the dictionary.\n",
        "\n",
        "print(f\"Error: Key '{key}' not found in the dictionary.\"): Inside this block, an informative error message is printed to the console indicating that the specified key was not found.\n",
        "return None: The function returns None to signal that the key was not found. You could choose to return a different default value or take other actions here based on your program's logic.\n",
        "except Exception as e: block: This is a more general exception handler that catches any other unexpected errors that might occur during the dictionary access (though KeyError is the most likely one in this specific scenario). It prints a generic error message along with the specific error information and returns None.\n",
        "\n",
        "if __name__ == \"__main__\":: This block executes when the script is run directly.\n",
        "\n",
        "my_dictionary = {\"name\": \"Alice\", \"age\": 30, \"city\": \"New York\"}: A sample dictionary is created.\n",
        "\n",
        "Example Usage: The code then demonstrates how to use the access_dictionary_key function to access both existing and non-existent keys in the dictionary. The output will show the values for the existing keys and the error message for the key that doesn't exist.\n",
        "\n",
        "Output of the script:"
      ],
      "metadata": {
        "id": "GZU0UAyn51Fc"
      }
    },
    {
      "cell_type": "code",
      "source": [
        "Value for key 'name': Alice\n",
        "Value for key 'age': 30\n",
        "Error: Key 'country' not found in the dictionary.\n",
        "Error: Key '123' not found in the dictionary."
      ],
      "metadata": {
        "id": "5dlR5IIZ56br"
      },
      "execution_count": null,
      "outputs": []
    },
    {
      "cell_type": "markdown",
      "source": [
        "This program effectively uses a try-except block to handle the KeyError that occurs when attempting to access a non-existent key in a dictionary, preventing the program from crashing and providing a more graceful way to manage such situations."
      ],
      "metadata": {
        "id": "A3w4YNge6C1f"
      }
    },
    {
      "cell_type": "markdown",
      "source": [
        "# Q. 12 Write a program that demonstrates using multiple except blocks to handle different types of exceptions?\n"
      ],
      "metadata": {
        "id": "Z6NZ1uUq6XI0"
      }
    },
    {
      "cell_type": "code",
      "source": [
        "def perform_operations(value1, value2, operation_type):\n",
        "    \"\"\"\n",
        "    Performs different operations based on the operation_type and\n",
        "    demonstrates handling different types of exceptions.\n",
        "\n",
        "    Args:\n",
        "        value1: The first operand.\n",
        "        value2: The second operand.\n",
        "        operation_type (str): The type of operation to perform\n",
        "                               ('add', 'subtract', 'divide', 'multiply', 'index').\n",
        "    \"\"\"\n",
        "    try:\n",
        "        print(f\"\\nPerforming operation: {operation_type} with {value1} and {value2}\")\n",
        "        if operation_type == 'add':\n",
        "            result = value1 + value2\n",
        "            print(f\"Result of addition: {result}\")\n",
        "        elif operation_type == 'subtract':\n",
        "            result = value1 - value2\n",
        "            print(f\"Result of subtraction: {result}\")\n",
        "        elif operation_type == 'divide':\n",
        "            result = value1 / value2\n",
        "            print(f\"Result of division: {result}\")\n",
        "        elif operation_type == 'multiply':\n",
        "            result = value1 * value2\n",
        "            print(f\"Result of multiplication: {result}\")\n",
        "        elif operation_type == 'index':\n",
        "            my_list = [10, 20, 30]\n",
        "            index = value2\n",
        "            result = my_list[index]\n",
        "            print(f\"Value at index {index}: {result}\")\n",
        "        else:\n",
        "            print(f\"Unknown operation type: {operation_type}\")\n",
        "    except TypeError:\n",
        "        print(\"Error: Unsupported operand type(s) for the operation.\")\n",
        "    except ZeroDivisionError:\n",
        "        print(\"Error: Cannot divide by zero.\")\n",
        "    except IndexError:\n",
        "        print(\"Error: Index out of range for the list.\")\n",
        "    except Exception as e:\n",
        "        print(f\"An unexpected error occurred: {e}\")\n",
        "\n",
        "if __name__ == \"__main__\":\n",
        "    perform_operations(5, 3, 'add')\n",
        "    perform_operations(10, 2, 'divide')\n",
        "    perform_operations(7, 0, 'divide')\n",
        "    perform_operations(\"hello\", 5, 'add')\n",
        "    perform_operations([1, 2], [3, 4], 'subtract')\n",
        "    perform_operations([10, 20, 30], 5, 'index')\n",
        "    perform_operations([10, 20, 30], 2, 'index')\n",
        "    perform_operations([10, 20, 30], -5, 'index')\n",
        "    perform_operations(8, 4, 'unknown')"
      ],
      "metadata": {
        "id": "yzekfnNK5ui_"
      },
      "execution_count": null,
      "outputs": []
    },
    {
      "cell_type": "markdown",
      "source": [
        "Explanation:\n",
        "\n",
        "def perform_operations(value1, value2, operation_type):: Defines a function that takes two values and an operation type as input.\n",
        "\n",
        "try: block: The code that might raise different types of exceptions based on the operation_type and the data types of value1 and value2 is placed inside the try block.\n",
        "\n",
        "Conditional Operations: Inside the try block, the code performs different operations based on the operation_type string.\n",
        "\n",
        "Multiple except blocks: The code is followed by multiple except blocks, each designed to handle a specific type of exception:\n",
        "\n",
        "except TypeError:: This block will catch exceptions that occur when an operation is performed on incompatible data types (e.g., adding a string and an integer, subtracting lists).\n",
        "except ZeroDivisionError:: This block will catch the exception that occurs when attempting to divide a number by zero.\n",
        "except IndexError:: This block will catch the exception that occurs when trying to access an index in a list that is out of the valid range.\n",
        "except Exception as e:: This is a general-purpose exception handler. It will catch any other type of exception that was not caught by the more specific except blocks above it. It's good practice to have a general Exception handler as the last except block to catch unforeseen errors. The as e part assigns the exception object to the variable e, allowing you to access details about the error (e.g., e.message).\n",
        "if __name__ == \"__main__\":: This block ensures that the perform_operations function is called with different sets of inputs when the script is executed directly, demonstrating how each except block handles a specific error scenario.\n",
        "\n",
        "Output of the script:"
      ],
      "metadata": {
        "id": "JvUq82M97YPz"
      }
    },
    {
      "cell_type": "code",
      "source": [
        "Performing operation: add with 5 and 3\n",
        "Result of addition: 8\n",
        "\n",
        "Performing operation: divide with 10 and 2\n",
        "Result of division: 5.0\n",
        "\n",
        "Performing operation: divide with 7 and 0\n",
        "Error: Cannot divide by zero.\n",
        "\n",
        "Performing operation: add with hello and 5\n",
        "Error: Unsupported operand type(s) for the operation.\n",
        "\n",
        "Performing operation: subtract with [1, 2] and [3, 4]\n",
        "Error: Unsupported operand type(s) for the operation.\n",
        "\n",
        "Performing operation: index with [10, 20, 30] and 5\n",
        "Error: Index out of range for the list.\n",
        "\n",
        "Performing operation: index with [10, 20, 30] and 2\n",
        "Value at index 2: 30\n",
        "\n",
        "Performing operation: index with [10, 20, 30] and -5\n",
        "Error: Index out of range for the list.\n",
        "\n",
        "Performing operation: unknown with 8 and 4\n",
        "Unknown operation type: unknown"
      ],
      "metadata": {
        "id": "cvDIPZhe6uHX"
      },
      "execution_count": null,
      "outputs": []
    },
    {
      "cell_type": "markdown",
      "source": [
        "As you can see from the output, the program correctly identifies the type of error that occurs and executes the corresponding except block to handle it gracefully, preventing the program from crashing. The general except Exception as e: block would catch any other unexpected errors that might arise during the execution of the try block."
      ],
      "metadata": {
        "id": "HvNNLIkq7jKM"
      }
    },
    {
      "cell_type": "markdown",
      "source": [
        "# Q.13  How would you check if a file exists before attempting to read it in Python ?\n"
      ],
      "metadata": {
        "id": "8IeQ5Nk07n_Z"
      }
    },
    {
      "cell_type": "markdown",
      "source": [
        "ou can check if a file exists before attempting to read it in Python using the os.path.exists() function from the os module. This function takes a path to a file or directory and returns True if it exists, and False otherwise.\n",
        "\n",
        "Here's how you would typically use it:"
      ],
      "metadata": {
        "id": "f2Agr4aw8yGH"
      }
    },
    {
      "cell_type": "code",
      "source": [
        "import os\n",
        "\n",
        "def read_file_if_exists(filename):\n",
        "    \"\"\"\n",
        "    Checks if a file exists and reads its content if it does.\n",
        "\n",
        "    Args:\n",
        "        filename (str): The path to the file to be read.\n",
        "\n",
        "    Returns:\n",
        "        str or None: The content of the file if it exists and is read\n",
        "                     successfully, otherwise None.\n",
        "    \"\"\"\n",
        "    if os.path.exists(filename):\n",
        "        try:\n",
        "            with open(filename, 'r') as file:\n",
        "                content = file.read()\n",
        "                print(f\"Contents of '{filename}':\\n{content}\")\n",
        "                return content\n",
        "        except Exception as e:\n",
        "            print(f\"An error occurred while reading '{filename}': {e}\")\n",
        "            return None\n",
        "    else:\n",
        "        print(f\"Error: File '{filename}' does not exist.\")\n",
        "        return None\n",
        "\n",
        "if __name__ == \"__main__\":\n",
        "    file_to_check = input(\"Enter the name of the file you want to read: \")\n",
        "    read_file_if_exists(file_to_check)"
      ],
      "metadata": {
        "id": "jpZn1e1u7e3h"
      },
      "execution_count": null,
      "outputs": []
    },
    {
      "cell_type": "markdown",
      "source": [
        "Explanation:\n",
        "\n",
        "import os: Imports the os module, which provides functions for interacting with the operating system, including file system operations.\n",
        "\n",
        "os.path.exists(filename): This function checks if the file or directory specified by filename exists in the file system. It returns True if it exists and False otherwise.\n",
        "\n",
        "if os.path.exists(filename):: The code that attempts to open and read the file is placed inside this if block. This ensures that the open() function is only called if the file actually exists.\n",
        "\n",
        "try...except block (inside the if block): This block handles potential errors that might occur during the file reading process (e.g., permission issues) after the file has been confirmed to exist.\n",
        "\n",
        "with open(filename, 'r') as file:: If the file exists, it's opened in read mode ('r') using the with statement for automatic file closing.\n",
        "\n",
        "content = file.read(): The entire content of the file is read into the content variable.\n",
        "\n",
        "print(f\"Contents of '{filename}':\\n{content}\"): The content of the file is printed.\n",
        "\n",
        "return content: The function returns the content of the file.\n",
        "\n",
        "else:: If os.path.exists(filename) returns False (meaning the file does not exist), the code inside the else block is executed.\n",
        "\n",
        "print(f\"Error: File '{filename}' does not exist.\"): An error message is printed indicating that the file was not found.\n",
        "\n",
        "return None: The function returns None to signal that the file could not be read because it didn't exist.\n",
        "\n",
        "Alternative using try-except (less explicit for existence check):\n",
        "\n",
        "While the os.path.exists() method is the most direct way to check for file existence, you could also rely on a try-except block to catch the FileNotFoundError that occurs when you try to open a non-existent file:"
      ],
      "metadata": {
        "id": "U0JUBwM69E3d"
      }
    },
    {
      "cell_type": "code",
      "source": [
        "def read_file_try_except(filename):\n",
        "    \"\"\"\n",
        "    Attempts to open and read a file using try-except to handle\n",
        "    FileNotFoundError.\n",
        "\n",
        "    Args:\n",
        "        filename (str): The path to the file to be read.\n",
        "\n",
        "    Returns:\n",
        "        str or None: The content of the file if read successfully,\n",
        "                     otherwise None.\n",
        "    \"\"\"\n",
        "    try:\n",
        "        with open(filename, 'r') as file:\n",
        "            content = file.read()\n",
        "            print(f\"Contents of '{filename}':\\n{content}\")\n",
        "            return content\n",
        "    except FileNotFoundError:\n",
        "        print(f\"Error: File '{filename}' not found.\")\n",
        "        return None\n",
        "    except Exception as e:\n",
        "        print(f\"An error occurred while reading '{filename}': {e}\")\n",
        "        return None\n",
        "\n",
        "if __name__ == \"__main__\":\n",
        "    file_to_check = input(\"Enter the name of the file you want to read: \")\n",
        "    read_file_try_except(file_to_check)"
      ],
      "metadata": {
        "id": "pO8-erin9Ikx"
      },
      "execution_count": null,
      "outputs": []
    },
    {
      "cell_type": "markdown",
      "source": [
        "Which method to choose:\n",
        "\n",
        "os.path.exists() followed by try-except: This is often considered more explicit and readable for checking file existence. You explicitly check if the file exists before attempting to open it.\n",
        "try-except FileNotFoundError: This is also a valid approach and can be more concise. You directly attempt to open the file and handle the FileNotFoundError if it occurs.\n",
        "The choice often comes down to personal preference and the specific context of your code. If you need to perform different actions based on whether the file exists or not before attempting to open it, using os.path.exists() is generally clearer. If your primary goal is just to read the file and handle the case where it's not there, the try-except approach can be sufficient."
      ],
      "metadata": {
        "id": "iCudJ-r89SEL"
      }
    },
    {
      "cell_type": "markdown",
      "source": [
        "# Q. 14 Write a program that uses the logging module to log both informational and error messages?\n"
      ],
      "metadata": {
        "id": "4M9ouX-b9ZyM"
      }
    },
    {
      "cell_type": "code",
      "source": [
        "import logging\n",
        "\n",
        "# Configure logging (do this once at the start of your script)\n",
        "logging.basicConfig(filename='my_app.log',  # Log to this file\n",
        "                    level=logging.INFO,      # Set the logging level\n",
        "                    format='%(asctime)s - %(levelname)s - %(message)s')  # Set the format\n",
        "\n",
        "def process_data(data):\n",
        "    \"\"\"\n",
        "    Processes the given data and logs informational and error messages.\n",
        "\n",
        "    Args:\n",
        "        data: The data to process (can be of any type, demonstration purposes).\n",
        "    \"\"\"\n",
        "    logging.info(f\"Starting to process data: {data}\")  # Log an informational message\n",
        "\n",
        "    try:\n",
        "        if not data:  # Simulate a potential error condition (empty data)\n",
        "            raise ValueError(\"Data is empty!\")  # Raise an exception\n",
        "        #  Simulate successful data processing\n",
        "        processed_data = f\"Processed: {data}\"\n",
        "        logging.info(f\"Successfully processed data. Result: {processed_data}\")\n",
        "        return processed_data\n",
        "    except ValueError as e:\n",
        "        logging.error(f\"Error processing data: {e}\")  # Log the error with the exception message\n",
        "        return None  #  Important:  Return None or a default value on error\n",
        "\n",
        "def perform_calculation(x, y, operation=\"add\"):\n",
        "    \"\"\"\n",
        "    Performs a calculation and logs info and errors.\n",
        "\n",
        "    Args:\n",
        "       x: First number\n",
        "       y: Second number\n",
        "       operation: Type of operation.\n",
        "    \"\"\"\n",
        "    logging.info(f\"Performing operation {operation} with x={x}, y={y}\")\n",
        "    try:\n",
        "        if operation == \"add\":\n",
        "           result = x + y\n",
        "        elif operation == \"subtract\":\n",
        "           result = x - y\n",
        "        elif operation == \"divide\":\n",
        "           result = x / y\n",
        "        else:\n",
        "           raise ValueError(f\"Invalid operation: {operation}\")\n",
        "        logging.info(f\"Operation {operation} successful.  Result = {result}\")\n",
        "        return result\n",
        "    except ZeroDivisionError as e:\n",
        "        logging.error(f\"Error in calculation: {e}\")\n",
        "        return None\n",
        "    except TypeError as e:\n",
        "        logging.error(f\"Type Error in calculation: {e}\")\n",
        "        return None\n",
        "    except ValueError as e:\n",
        "        logging.error(f\"Value Error: {e}\")\n",
        "        return None\n",
        "\n",
        "if __name__ == \"__main__\":\n",
        "    # Example usage\n",
        "    data1 = \"Some valid data\"\n",
        "    processed1 = process_data(data1)\n",
        "    if processed1:\n",
        "        print(f\"Processed data: {processed1}\")\n",
        "\n",
        "    data2 = \"\"  # Empty data (will cause an error)\n",
        "    processed2 = process_data(data2)\n",
        "    if processed2 is None:\n",
        "        print(\"Data processing failed. See 'my_app.log' for details.\")\n",
        "\n",
        "    result1 = perform_calculation(5, 2, \"add\")\n",
        "    if result1 is not None:\n",
        "        print(f\"Result of addition: {result1}\")\n",
        "\n",
        "    result2 = perform_calculation(10, 0, \"divide\")  # Division by zero\n",
        "    if result2 is None:\n",
        "        print(\"Calculation failed. Check 'my_app.log' for the error.\")\n",
        "\n",
        "    result3 = perform_calculation(\"a\", 2, \"add\") #Wrong type\n",
        "    if result3 is None:\n",
        "        print(\"Calculation failed. Check 'my_app.log' for the error.\")\n",
        "\n",
        "    result4 = perform_calculation(5,2, \"invalid\")\n",
        "    if result4 is None:\n",
        "        print(\"Calculation failed. Check 'my_app.log' for the error.\")\n",
        "\n",
        "    logging.info(\"End of script execution.\") #Info that the program finished.\n"
      ],
      "metadata": {
        "id": "sByCpbFD9o48"
      },
      "execution_count": null,
      "outputs": []
    },
    {
      "cell_type": "markdown",
      "source": [
        "# Q. 15 Write a Python program that prints the content of a file and handles the case when the file is empty?\n"
      ],
      "metadata": {
        "id": "H-fGgjrk9x_w"
      }
    },
    {
      "cell_type": "code",
      "source": [
        "def print_file_content(filename):\n",
        "    \"\"\"\n",
        "    Reads and prints the content of a file.  Handles the case where the file is empty.\n",
        "\n",
        "    Args:\n",
        "        filename (str): The name of the file to read.\n",
        "    \"\"\"\n",
        "    try:\n",
        "        with open(filename, 'r') as file:\n",
        "            content = file.read()  # Read the entire file content\n",
        "\n",
        "        if not content:  # Check if the content is empty\n",
        "            print(f\"The file '{filename}' is empty.\")\n",
        "        else:\n",
        "            print(f\"Contents of '{filename}':\")\n",
        "            print(content)  # Print the content\n",
        "\n",
        "    except FileNotFoundError:\n",
        "        print(f\"Error: File '{filename}' not found.\")\n",
        "    except Exception as e:\n",
        "        print(f\"An error occurred while reading the file: {e}\")\n",
        "\n",
        "if __name__ == \"__main__\":\n",
        "    filename = input(\"Enter the name of the file to read: \")\n",
        "    print_file_content(filename)\n"
      ],
      "metadata": {
        "id": "OCQY04yo9ppH"
      },
      "execution_count": null,
      "outputs": []
    },
    {
      "cell_type": "markdown",
      "source": [
        "# Q.16 Demonstrate how to use memory profiling to check the memory usage of a small program?\n"
      ],
      "metadata": {
        "id": "2UBXOvQUobZB"
      }
    },
    {
      "cell_type": "code",
      "source": [
        "import memory_profiler\n",
        "import time\n",
        "\n",
        "# Function to allocate a large list\n",
        "@memory_profiler.profile\n",
        "def allocate_large_list(size):\n",
        "    \"\"\"\n",
        "    Allocates a list of a given size and then performs a simple operation.\n",
        "    This function is decorated with @memory_profiler.profile to track its memory usage.\n",
        "\n",
        "    Args:\n",
        "        size (int): The size of the list to allocate.\n",
        "    \"\"\"\n",
        "    my_list = list(range(size))  # Create a list\n",
        "    print(f\"List of size {size} created.\")\n",
        "    time.sleep(2)  # Simulate some work\n",
        "    sum_of_elements = sum(my_list) # sum the list\n",
        "    print(f\"Sum of elements: {sum_of_elements}\")\n",
        "    return my_list\n",
        "\n",
        "# Function to allocate a dictionary\n",
        "@memory_profiler.profile\n",
        "def allocate_dictionary(size):\n",
        "    \"\"\"\n",
        "    Allocates a dictionary of a given size\n",
        "    \"\"\"\n",
        "    my_dict = {i: i*2 for i in range(size)}\n",
        "    print(f\"Dictionary of size {size} created.\")\n",
        "    time.sleep(2)\n",
        "    sum_of_values = sum(my_dict.values())\n",
        "    print(f\"Sum of values: {sum_of_values}\")\n",
        "    return my_dict\n",
        "\n",
        "def main():\n",
        "    \"\"\"\n",
        "    Main function to demonstrate memory profiling.\n",
        "    \"\"\"\n",
        "    print(\"Starting memory profiling example...\")\n",
        "    list_size = 100000  # Allocate a list of 100,000 integers\n",
        "    large_list = allocate_large_list(list_size)\n",
        "    dict_size = 50000\n",
        "    large_dict = allocate_dictionary(dict_size)\n",
        "    time.sleep(2)\n",
        "    del large_list\n",
        "    del large_dict\n",
        "    print(\"Finished memory profiling example.\")\n",
        "\n",
        "if __name__ == \"__main__\":\n",
        "    main()\n"
      ],
      "metadata": {
        "colab": {
          "base_uri": "https://localhost:8080/",
          "height": 383
        },
        "id": "Hz3vafcz_v9Z",
        "outputId": "44c399eb-0a59-4407-f85e-5678d8e45964"
      },
      "execution_count": 1,
      "outputs": [
        {
          "output_type": "error",
          "ename": "ModuleNotFoundError",
          "evalue": "No module named 'memory_profiler'",
          "traceback": [
            "\u001b[0;31m---------------------------------------------------------------------------\u001b[0m",
            "\u001b[0;31mModuleNotFoundError\u001b[0m                       Traceback (most recent call last)",
            "\u001b[0;32m<ipython-input-1-35e82b2d6c20>\u001b[0m in \u001b[0;36m<cell line: 0>\u001b[0;34m()\u001b[0m\n\u001b[0;32m----> 1\u001b[0;31m \u001b[0;32mimport\u001b[0m \u001b[0mmemory_profiler\u001b[0m\u001b[0;34m\u001b[0m\u001b[0;34m\u001b[0m\u001b[0m\n\u001b[0m\u001b[1;32m      2\u001b[0m \u001b[0;32mimport\u001b[0m \u001b[0mtime\u001b[0m\u001b[0;34m\u001b[0m\u001b[0;34m\u001b[0m\u001b[0m\n\u001b[1;32m      3\u001b[0m \u001b[0;34m\u001b[0m\u001b[0m\n\u001b[1;32m      4\u001b[0m \u001b[0;31m# Function to allocate a large list\u001b[0m\u001b[0;34m\u001b[0m\u001b[0;34m\u001b[0m\u001b[0m\n\u001b[1;32m      5\u001b[0m \u001b[0;34m@\u001b[0m\u001b[0mmemory_profiler\u001b[0m\u001b[0;34m.\u001b[0m\u001b[0mprofile\u001b[0m\u001b[0;34m\u001b[0m\u001b[0;34m\u001b[0m\u001b[0m\n",
            "\u001b[0;31mModuleNotFoundError\u001b[0m: No module named 'memory_profiler'",
            "",
            "\u001b[0;31m---------------------------------------------------------------------------\u001b[0;32m\nNOTE: If your import is failing due to a missing package, you can\nmanually install dependencies using either !pip or !apt.\n\nTo view examples of installing some common dependencies, click the\n\"Open Examples\" button below.\n\u001b[0;31m---------------------------------------------------------------------------\u001b[0m\n"
          ],
          "errorDetails": {
            "actions": [
              {
                "action": "open_url",
                "actionText": "Open Examples",
                "url": "/notebooks/snippets/importing_libraries.ipynb"
              }
            ]
          }
        }
      ]
    },
    {
      "cell_type": "markdown",
      "source": [
        "# Q. 17 Write a Python program to create and write a list of numbers to a file, one number per line?\n"
      ],
      "metadata": {
        "id": "pxv74P3po5Lh"
      }
    },
    {
      "cell_type": "code",
      "source": [
        "def write_list_to_file(numbers, filename=\"output.txt\"):\n",
        "    \"\"\"\n",
        "    Writes a list of numbers to a file, one number per line.\n",
        "\n",
        "    Args:\n",
        "        numbers (list): A list of numbers (integers or floats).\n",
        "        filename (str, optional): The name of the file to write to.\n",
        "            Defaults to \"output.txt\".\n",
        "    \"\"\"\n",
        "    try:\n",
        "        with open(filename, 'w') as file:\n",
        "            for number in numbers:\n",
        "                file.write(str(number) + \"\\n\")  # Convert number to string and add newline\n",
        "        print(f\"Successfully wrote {len(numbers)} numbers to '{filename}'.\")\n",
        "    except TypeError:\n",
        "        print(\"Error: 'numbers' must be a list of numbers (int or float).\")\n",
        "    except Exception as e:\n",
        "        print(f\"An error occurred while writing to the file: {e}\")\n",
        "\n",
        "if __name__ == \"__main__\":\n",
        "    # Example usage:\n",
        "    number_list = [1, 2.5, 3, 4.75, 5, 6.2, 7, 8.9, 9, 10.01]\n",
        "    file_name = \"my_numbers.txt\"  # You can change the filename here\n",
        "\n",
        "    write_list_to_file(number_list, file_name)\n",
        "\n",
        "    # Example of error handling (optional):\n",
        "    # write_list_to_file(\"not a list\", \"error_file.txt\")  # This will cause a TypeError\n",
        "    # write_list_to_file([1,2,3], 123) #This will cause an error.\n"
      ],
      "metadata": {
        "colab": {
          "base_uri": "https://localhost:8080/"
        },
        "id": "UOaiq5K3odto",
        "outputId": "77c0e770-348d-408d-c76f-07bda9b6532a"
      },
      "execution_count": 2,
      "outputs": [
        {
          "output_type": "stream",
          "name": "stdout",
          "text": [
            "Successfully wrote 10 numbers to 'my_numbers.txt'.\n"
          ]
        }
      ]
    },
    {
      "cell_type": "markdown",
      "source": [
        "# Q.18 How would you implement a basic logging setup that logs to a file with rotation after 1MB?\n"
      ],
      "metadata": {
        "id": "9Sw4xZkZpKZ-"
      }
    },
    {
      "cell_type": "code",
      "source": [
        "import logging\n",
        "from logging.handlers import RotatingFileHandler\n",
        "import os\n",
        "\n",
        "def setup_rotating_file_logger(log_file_name=\"my_app.log\", max_file_size_mb=1, backup_count=5):\n",
        "    \"\"\"\n",
        "    Sets up a rotating file logger.\n",
        "\n",
        "    Args:\n",
        "        log_file_name (str, optional): The name of the log file.\n",
        "            Defaults to \"my_app.log\".\n",
        "        max_file_size_mb (int, optional): The maximum size of the log file in megabytes.\n",
        "            Defaults to 1MB.\n",
        "        backup_count (int, optional): The number of backup log files to keep.\n",
        "            Defaults to 5.\n",
        "    \"\"\"\n",
        "    # 1 MB in bytes\n",
        "    max_bytes = max_file_size_mb * 1024 * 1024\n",
        "\n",
        "    # Create a rotating file handler\n",
        "    rotating_file_handler = RotatingFileHandler(\n",
        "        log_file_name,\n",
        "        maxBytes=max_bytes,\n",
        "        backupCount=backup_count\n",
        "    )\n",
        "\n",
        "    # Set the logging format\n",
        "    logging_format = logging.Formatter('%(asctime)s - %(levelname)s - %(name)s - %(message)s')\n",
        "    rotating_file_handler.setFormatter(logging_format)\n",
        "\n",
        "    # Get the root logger\n",
        "    logger = logging.getLogger()\n",
        "    logger.setLevel(logging.INFO)  # Set the logging level\n",
        "\n",
        "    # Add the handler to the logger\n",
        "    logger.addHandler(rotating_file_handler)\n",
        "\n",
        "    return logger  # Return the logger object\n",
        "\n",
        "if __name__ == \"__main__\":\n",
        "    # Set up the rotating file logger\n",
        "    my_logger = setup_rotating_file_logger(log_file_name=\"application.log\", max_file_size_mb=2, backup_count=3)\n",
        "\n",
        "    # Log some messages\n",
        "    my_logger.info(\"Starting the application...\")\n",
        "    for i in range(10):\n",
        "        my_logger.info(f\"Processing record {i}\")\n",
        "        if i % 3 == 0:\n",
        "            my_logger.error(f\"Error processing record {i}\")\n",
        "\n",
        "    my_logger.info(\"Application finished.\")\n"
      ],
      "metadata": {
        "colab": {
          "base_uri": "https://localhost:8080/"
        },
        "id": "6sNnv_XJpCxe",
        "outputId": "27d14e55-0f6d-4d38-a285-11b8e160ceeb"
      },
      "execution_count": 3,
      "outputs": [
        {
          "output_type": "stream",
          "name": "stderr",
          "text": [
            "INFO:root:Starting the application...\n",
            "INFO:root:Processing record 0\n",
            "ERROR:root:Error processing record 0\n",
            "INFO:root:Processing record 1\n",
            "INFO:root:Processing record 2\n",
            "INFO:root:Processing record 3\n",
            "ERROR:root:Error processing record 3\n",
            "INFO:root:Processing record 4\n",
            "INFO:root:Processing record 5\n",
            "INFO:root:Processing record 6\n",
            "ERROR:root:Error processing record 6\n",
            "INFO:root:Processing record 7\n",
            "INFO:root:Processing record 8\n",
            "INFO:root:Processing record 9\n",
            "ERROR:root:Error processing record 9\n",
            "INFO:root:Application finished.\n"
          ]
        }
      ]
    },
    {
      "cell_type": "markdown",
      "source": [
        "# Q.19 Write a program that handles both IndexError and KeyError using a try-except block?\n"
      ],
      "metadata": {
        "id": "2LYIyeENphnm"
      }
    },
    {
      "cell_type": "code",
      "source": [
        "def access_data(data_structure, index_or_key):\n",
        "    \"\"\"\n",
        "    Accesses data in a list or dictionary using the provided index or key,\n",
        "    handling both IndexError and KeyError.\n",
        "\n",
        "    Args:\n",
        "        data_structure (list or dict): The list or dictionary to access.\n",
        "        index_or_key: The index (for a list) or key (for a dictionary) to access.\n",
        "    \"\"\"\n",
        "    try:\n",
        "        value = data_structure[index_or_key]\n",
        "        print(f\"Accessed value: {value}\")\n",
        "        return value\n",
        "    except IndexError:\n",
        "        print(f\"Error: Index {index_or_key} is out of range.\")\n",
        "        return None\n",
        "    except KeyError:\n",
        "        print(f\"Error: Key '{index_or_key}' not found.\")\n",
        "        return None\n",
        "    except TypeError:\n",
        "        print(f\"Error: Invalid data structure type.  Expected list or dict.\")\n",
        "        return None\n",
        "    except Exception as e:\n",
        "        print(f\"An unexpected error occurred: {e}\")\n",
        "        return None\n",
        "\n",
        "if __name__ == \"__main__\":\n",
        "    my_list = [10, 20, 30]\n",
        "    my_dict = {\"a\": 1, \"b\": 2, \"c\": 3}\n",
        "\n",
        "    # Accessing list elements\n",
        "    access_data(my_list, 0)\n",
        "    access_data(my_list, 2)\n",
        "    access_data(my_list, 3)  # IndexError\n",
        "\n",
        "    # Accessing dictionary elements\n",
        "    access_data(my_dict, \"a\")\n",
        "    access_data(my_dict, \"c\")\n",
        "    access_data(my_dict, \"d\")  # KeyError\n",
        "\n",
        "    #Accessing incompatible type\n",
        "    access_data(\"hello\", 0)\n"
      ],
      "metadata": {
        "colab": {
          "base_uri": "https://localhost:8080/"
        },
        "id": "i4II43-jpWxu",
        "outputId": "ef36b17e-71e3-4e60-b142-5dcce2e3411e"
      },
      "execution_count": 4,
      "outputs": [
        {
          "output_type": "stream",
          "name": "stdout",
          "text": [
            "Accessed value: 10\n",
            "Accessed value: 30\n",
            "Error: Index 3 is out of range.\n",
            "Accessed value: 1\n",
            "Accessed value: 3\n",
            "Error: Key 'd' not found.\n",
            "Accessed value: h\n"
          ]
        }
      ]
    },
    {
      "cell_type": "markdown",
      "source": [
        "# Q.20 How would you open a file and read its contents using a context manager in Python?\n"
      ],
      "metadata": {
        "id": "smC_e3CZpu5y"
      }
    },
    {
      "cell_type": "code",
      "source": [
        "def read_file_content(filename):\n",
        "    \"\"\"\n",
        "    Reads the content of a file using a context manager (with statement).\n",
        "\n",
        "    Args:\n",
        "        filename (str): The name of the file to read.\n",
        "\n",
        "    Returns:\n",
        "        str: The content of the file, or None if an error occurred.\n",
        "    \"\"\"\n",
        "    try:\n",
        "        with open(filename, 'r') as file:\n",
        "            content = file.read()\n",
        "        return content\n",
        "    except FileNotFoundError:\n",
        "        print(f\"Error: File not found: {filename}\")\n",
        "        return None\n",
        "    except Exception as e:\n",
        "        print(f\"An error occurred while reading the file: {e}\")\n",
        "        return None\n",
        "\n",
        "if __name__ == \"__main__\":\n",
        "    filename = input(\"Enter the name of the file to read: \")\n",
        "    file_contents = read_file_content(filename)\n",
        "\n",
        "    if file_contents is not None:\n",
        "        print(\"\\nFile contents:\")\n",
        "        print(file_contents)\n"
      ],
      "metadata": {
        "id": "uY3vx8o9pirV"
      },
      "execution_count": null,
      "outputs": []
    },
    {
      "cell_type": "markdown",
      "source": [
        "# Q.21 Write a Python program that reads a file and prints the number of occurrences of a specific word?\n"
      ],
      "metadata": {
        "id": "PBcJZeopqCVk"
      }
    },
    {
      "cell_type": "code",
      "source": [
        "import re\n",
        "\n",
        "def count_word_occurrences(filename, word):\n",
        "    \"\"\"\n",
        "    Reads a file and counts the number of occurrences of a specific word\n",
        "    (case-insensitive).\n",
        "\n",
        "    Args:\n",
        "        filename (str): The name of the file to read.\n",
        "        word (str): The word to count.\n",
        "\n",
        "    Returns:\n",
        "        int: The number of times the word appears in the file, or 0 if the\n",
        "             file is empty or the word is not found.  Returns None on error.\n",
        "    \"\"\"\n",
        "    try:\n",
        "        with open(filename, 'r') as file:\n",
        "            text = file.read()\n",
        "        # Use re.findall for case-insensitive counting, handles punctuation\n",
        "        words = re.findall(r\"\\b\" + re.escape(word) + r\"\\b\", text, re.IGNORECASE)\n",
        "        return len(words)\n",
        "    except FileNotFoundError:\n",
        "        print(f\"Error: File not found: {filename}\")\n",
        "        return None\n",
        "    except Exception as e:\n",
        "        print(f\"An error occurred while reading the file: {e}\")\n",
        "        return None\n",
        "\n",
        "if __name__ == \"__main__\":\n",
        "    filename = input(\"Enter the name of the file to read: \")\n",
        "    word_to_count = input(\"Enter the word to count: \")\n",
        "\n",
        "    count = count_word_occurrences(filename, word_to_count)\n",
        "    if count is not None:\n",
        "        print(f\"The word '{word_to_count}' appears {count} times in the file.\")\n"
      ],
      "metadata": {
        "id": "vdOACSHUp4qq"
      },
      "execution_count": null,
      "outputs": []
    },
    {
      "cell_type": "markdown",
      "source": [
        "# Q. 22 How can you check if a file is empty before attempting to read its contentS ?\n"
      ],
      "metadata": {
        "id": "Mm6BjWNsqWXp"
      }
    },
    {
      "cell_type": "code",
      "source": [
        "import os\n",
        "\n",
        "def is_file_empty(filename):\n",
        "    \"\"\"\n",
        "    Checks if a file is empty.\n",
        "\n",
        "    Args:\n",
        "        filename (str): The name of the file to check.\n",
        "\n",
        "    Returns:\n",
        "        bool: True if the file is empty, False otherwise.  Returns None on error.\n",
        "    \"\"\"\n",
        "    try:\n",
        "        # Get the size of the file\n",
        "        file_size = os.path.getsize(filename)\n",
        "        return file_size == 0\n",
        "    except FileNotFoundError:\n",
        "        print(f\"Error: File not found: {filename}\")\n",
        "        return None\n",
        "    except Exception as e:\n",
        "        print(f\"An error occurred while checking file size: {e}\")\n",
        "        return None\n",
        "\n",
        "def read_file_safely(filename):\n",
        "    \"\"\"\n",
        "    Reads a file and prints its contents, first checking if it is empty.\n",
        "\n",
        "    Args:\n",
        "        filename (str): The name of the file to read.\n",
        "    \"\"\"\n",
        "    empty = is_file_empty(filename)\n",
        "    if empty is None:\n",
        "        return  # Error occurred in is_file_empty\n",
        "\n",
        "    if empty:\n",
        "        print(f\"The file '{filename}' is empty.\")\n",
        "    else:\n",
        "        try:\n",
        "            with open(filename, 'r') as file:\n",
        "                content = file.read()\n",
        "            print(f\"Contents of '{filename}':\")\n",
        "            print(content)\n",
        "        except Exception as e:\n",
        "            print(f\"An error occurred while reading the file: {e}\")\n",
        "\n",
        "if __name__ == \"__main__\":\n",
        "    filename = input(\"Enter the name of the file to read: \")\n",
        "    read_file_safely(filename)\n"
      ],
      "metadata": {
        "id": "3KdFMT6jqSvN"
      },
      "execution_count": null,
      "outputs": []
    },
    {
      "cell_type": "markdown",
      "source": [
        "# Q. 23 Write a Python program that writes to a log file when an error occurs during file handling?\n"
      ],
      "metadata": {
        "id": "Z8PgKTsQqqOY"
      }
    },
    {
      "cell_type": "code",
      "source": [
        "import logging\n",
        "\n",
        "# Configure logging (do this once at the module level)\n",
        "logging.basicConfig(filename='file_handling_errors.log', level=logging.ERROR,\n",
        "                    format='%(asctime)s - %(levelname)s - %(message)s')\n",
        "\n",
        "def read_from_file(filename):\n",
        "    \"\"\"\n",
        "    Reads from a file and logs any errors to 'file_handling_errors.log'.\n",
        "\n",
        "    Args:\n",
        "        filename (str): The name of the file to read from.\n",
        "    \"\"\"\n",
        "    try:\n",
        "        with open(filename, 'r') as f:\n",
        "            content = f.read()\n",
        "        return content\n",
        "    except FileNotFoundError:\n",
        "        logging.error(f\"FileNotFoundError: File '{filename}' not found.\")\n",
        "        return None\n",
        "    except Exception as e:\n",
        "        logging.error(f\"Exception: An error occurred while reading from '{filename}': {e}\")\n",
        "        return None\n",
        "\n",
        "def write_to_file(filename, data):\n",
        "    \"\"\"\n",
        "    Writes data to a file and logs any errors.\n",
        "\n",
        "    Args:\n",
        "        filename (str): The name of the file to write to.\n",
        "        data (str): The data to write to the file.\n",
        "    \"\"\"\n",
        "    try:\n",
        "        with open(filename, 'w') as f:\n",
        "            f.write(data)\n",
        "    except Exception as e:\n",
        "        logging.error(f\"Exception: An error occurred while writing to '{filename}': {e}\")\n",
        "        return False  # Indicate failure\n",
        "    return True #Indicate success\n",
        "\n",
        "def append_to_file(filename, data):\n",
        "    \"\"\"\n",
        "    Appends data to a file and logs any errors.\n",
        "\n",
        "    Args:\n",
        "        filename (str): The name of the file to append to.\n",
        "        data (str): The data to append to the file.\n",
        "    \"\"\"\n",
        "    try:\n",
        "        with open(filename, 'a') as f:\n",
        "            f.write(data)\n",
        "    except Exception as e:\n",
        "        logging.error(f\"Exception: An error occurred while appending to '{filename}': {e}\")\n",
        "        return False\n",
        "    return True\n",
        "\n",
        "if __name__ == \"__main__\":\n",
        "    # Example usage (demonstrates error handling)\n",
        "    read_result1 = read_from_file(\"non_existent_file.txt\")  # File not found\n",
        "    if read_result1 is None:\n",
        "        print(\"Read operation failed. Check log file.\")\n",
        "\n",
        "    read_result2 = read_from_file(\"my_file.txt\") #Successful read\n",
        "    if read_result2 is not None:\n",
        "        print(f\"Read from my_file.txt: {read_result2}\")\n",
        "\n",
        "    write_result1 = write_to_file(123, \"test data\")  # Invalid filename type\n",
        "    if not write_result1:\n",
        "        print(\"Write operation failed. Check log file.\")\n",
        "\n",
        "    write_result2 = write_to_file(\"my_file.txt\", \"Hello, world!\")  # Successful write\n",
        "    if write_result2:\n",
        "        print(\"Write operation successful.\")\n",
        "\n",
        "    append_result1 = append_to_file(\"my_file.txt\", \"Appended data\")\n",
        "    if append_result1:\n",
        "        print(\"Append operation successful.\")\n",
        "    append_result2 = append_to_file(None, \"Appended data\")  #This will cause an error.\n",
        "    if not append_result2:\n",
        "        print(\"Append operation failed. Check log file.\")\n",
        "\n",
        "    read_result3 = read_from_file(\"my_file.txt\")\n",
        "    if read_result3 is not None:\n",
        "        print(f\"Content of my_file.txt after write and append: {read_result3}\")\n"
      ],
      "metadata": {
        "id": "JXtdXuRfqmXJ"
      },
      "execution_count": null,
      "outputs": []
    },
    {
      "cell_type": "code",
      "source": [],
      "metadata": {
        "id": "j0bcCEAZqzns"
      },
      "execution_count": null,
      "outputs": []
    }
  ]
}